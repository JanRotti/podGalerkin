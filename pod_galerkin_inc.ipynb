{
 "cells": [
  {
   "cell_type": "code",
   "execution_count": null,
   "id": "5e163d35",
   "metadata": {},
   "outputs": [],
   "source": [
    "# standard imports\n",
    "import numpy as np\n",
    "import math\n",
    "import scipy\n",
    "import os\n",
    "import csv\n",
    "from tqdm import tqdm\n",
    "import meshio\n",
    "import matplotlib.pyplot as plt"
   ]
  },
  {
   "cell_type": "code",
   "execution_count": null,
   "id": "1ebadcd1",
   "metadata": {},
   "outputs": [],
   "source": [
    "# custom class imports\n",
    "from node import node\n",
    "from cell import cell\n",
    "from mesh import exp_mesh\n",
    "\n",
    "# utility functions\n",
    "from utilities_modified import *"
   ]
  },
  {
   "cell_type": "markdown",
   "id": "1028cb77",
   "metadata": {},
   "source": [
    "# Setting Problem"
   ]
  },
  {
   "cell_type": "code",
   "execution_count": null,
   "id": "91e34eea",
   "metadata": {},
   "outputs": [],
   "source": [
    "# read su2 mesh file\n",
    "meshio_mesh = meshio.read(\"./lam_cyl_comp_air/mesh_cylinder_quad.su2\",file_format=\"su2\")\n",
    "# convert mesh into custom class exp_mesh\n",
    "mesh = exp_mesh(meshio_mesh,[0.5,0])"
   ]
  },
  {
   "cell_type": "code",
   "execution_count": null,
   "metadata": {},
   "outputs": [],
   "source": [
    "# variables\n",
    "n = mesh.n\n",
    "N = mesh.N"
   ]
  },
  {
   "cell_type": "code",
   "execution_count": null,
   "metadata": {},
   "outputs": [],
   "source": [
    "# node coordinates\n",
    "x_node = mesh.points[:,0]\n",
    "y_node = mesh.points[:,1]\n",
    "\n",
    "# cell center coordinates\n",
    "x_cell = np.empty(mesh.N)\n",
    "y_cell = np.empty(mesh.N)\n",
    "\n",
    "for cel in mesh.cells:\n",
    "    i = cel.index\n",
    "    [x_cell[i],y_cell[i]] = cel.center"
   ]
  },
  {
   "cell_type": "markdown",
   "id": "65c3e71d",
   "metadata": {},
   "source": [
    "# Loading Filedata"
   ]
  },
  {
   "cell_type": "code",
   "execution_count": null,
   "id": "ca9b34d9",
   "metadata": {},
   "outputs": [],
   "source": [
    "# reading file data\n",
    "data_dir=\"./lam_cyl_inc_air/restart/\"\n",
    "data_dict = read_csv_data(data_dir,6000,2,180)"
   ]
  },
  {
   "cell_type": "code",
   "execution_count": null,
   "metadata": {},
   "outputs": [],
   "source": [
    "data_dict.keys()"
   ]
  },
  {
   "cell_type": "markdown",
   "id": "565c713d",
   "metadata": {},
   "source": [
    "# POD Decomposition"
   ]
  },
  {
   "cell_type": "code",
   "execution_count": null,
   "metadata": {},
   "outputs": [],
   "source": [
    "q = np.vstack([data_dict[\"Velocity_x\"],data_dict[\"Velocity_y\"],data_dict[\"Pressure_Coefficient\"]])\n",
    "q_avg = np.mean(q,1)\n",
    "q_fluc = q - np.repeat(np.expand_dims(q_avg,1),q.shape[1],axis=1)"
   ]
  },
  {
   "cell_type": "code",
   "execution_count": null,
   "metadata": {},
   "outputs": [],
   "source": [
    "d = int(q.shape[0]/3)\n",
    "plot_data = q_avg[:d]\n",
    "plot_cylinder_data(x_node,y_node,plot_data,zoom=True)"
   ]
  },
  {
   "cell_type": "code",
   "execution_count": null,
   "metadata": {},
   "outputs": [],
   "source": [
    "# construction of correlation tensor C\n",
    "C = np.empty((q.shape[1],q.shape[1]))\n",
    "for i in tqdm(range(q.shape[1])):\n",
    "    for j in range(i,q.shape[1],1):\n",
    "        C[i,j] = 1/(q.shape[1]) * np.inner(q_fluc[:,i],q_fluc[:,j])\n",
    "        C[j,i] = C[i,j]"
   ]
  },
  {
   "cell_type": "code",
   "execution_count": null,
   "metadata": {},
   "outputs": [],
   "source": [
    "S, V = np.linalg.eigh(C)\n",
    "S = np.flip(S,0)\n",
    "V = np.flip(V,1)"
   ]
  },
  {
   "cell_type": "code",
   "execution_count": null,
   "metadata": {},
   "outputs": [],
   "source": [
    "pod_modes = np.zeros((q.shape[0],q.shape[1]))\n",
    "for i in range(q.shape[1]):\n",
    "    pod_modes += np.outer(q_fluc[:,i],V[i,:])"
   ]
  },
  {
   "cell_type": "code",
   "execution_count": null,
   "metadata": {},
   "outputs": [],
   "source": [
    "plot_cylinder_data(x_node,y_node,pod_modes[:d,0])"
   ]
  },
  {
   "cell_type": "code",
   "execution_count": null,
   "metadata": {},
   "outputs": [],
   "source": [
    "coeffs = np.matmul(np.linalg.pinv(pod_modes),q_fluc)"
   ]
  },
  {
   "cell_type": "code",
   "execution_count": null,
   "metadata": {},
   "outputs": [],
   "source": [
    "# reconstruction threshold\n",
    "epsilon = 0.97 # [0,1]\n",
    "acc = 0\n",
    "num = 0\n",
    "while acc < epsilon:\n",
    "    num+=1\n",
    "    acc = sum(S[:num])/sum(S)    \n",
    "print(\"Number of eigenvectors necessary for thresholded reconstruction: \\t\" + str(num))\n",
    "if num % 2 == 1:\n",
    "    num+=1\n",
    "\n",
    "num = 5"
   ]
  },
  {
   "cell_type": "code",
   "execution_count": null,
   "metadata": {},
   "outputs": [],
   "source": [
    "velocity_modes = pod_modes[:2*d,:]"
   ]
  },
  {
   "cell_type": "markdown",
   "id": "294e3296",
   "metadata": {},
   "source": [
    "## Galerkin System"
   ]
  },
  {
   "cell_type": "code",
   "execution_count": null,
   "metadata": {},
   "outputs": [],
   "source": [
    "def inner_prod(vec1,vec2,weights=None):\n",
    "    # check for custom weights\n",
    "    if weights is not None:\n",
    "        # check for matching dimensions\n",
    "        if len(vec1)!=len(vec2) or len(vec1)!=len(weights):\n",
    "            raise ValueError(\"Dimensions of vectors not matchinh!\")\n",
    "        return np.sum(vec1*vec2*weights) # return weighted sum\n",
    "    else: \n",
    "        return np.sum(vec1*vec2) # return equally weighted sum"
   ]
  },
  {
   "cell_type": "code",
   "execution_count": null,
   "metadata": {},
   "outputs": [],
   "source": [
    "def convection(mesh,q1,q2,d,derivative_method):\n",
    "    \n",
    "    # data assessment \n",
    "    u1 = q1[:d]\n",
    "    v1 = q1[d:2*d]\n",
    "    u2 = q2[:d]\n",
    "    v2 = q2[:2*d]\n",
    "    \n",
    "    # derivative computation\n",
    "    u2x, u2y = derivative_method(mesh,u2,output=True)\n",
    "    v2x, v2y = derivative_method(mesh,v2,output=True)\n",
    "\n",
    "    # construct output \n",
    "    if len(q1)/2==d:\n",
    "        return np.hstack((np.add(u1*u2x,v1*u2y),np.add(u1*v2x,v1*v2y)))\n",
    "    else:\n",
    "        return np.hstack((np.add(u1*u2x,v1*u2y),np.add(u1*v2x,v1*v2y),np.zeros(d)))\n",
    "\n",
    "def diffusion(mesh,q,d,laplacian_method):\n",
    "    \n",
    "    # data assessment \n",
    "    u = q[:d]\n",
    "    v = q[d:2*d] \n",
    "\n",
    "    # laplacian computation\n",
    "    _,_,u_lap = laplacian_method(mesh,u,second=True,output=True)\n",
    "    _,_,v_lap = laplacian_method(mesh,v,second=True,output=True)\n",
    "\n",
    "    # construct output \n",
    "    if len(q)/2==d:\n",
    "        return np.hstack((u_lap,v_lap))\n",
    "    else:\n",
    "        return np.hstack((u_lap,v_lap,np.zeros(d)))\n",
    "\n",
    "def pressure_grad(mesh,q,d,derivative_method):\n",
    "    if len(q)==3*d:\n",
    "        p = q[2*d:]\n",
    "    else:\n",
    "        p = q\n",
    "\n",
    "    # derivative computation\n",
    "    px,py = derivative_method(p)\n",
    "\n",
    "    # construct output \n",
    "    return hstack((px,py))"
   ]
  },
  {
   "cell_type": "code",
   "execution_count": null,
   "metadata": {},
   "outputs": [],
   "source": [
    "def finite_differences(mesh,data,fd=False,second=False,output=False):\n",
    "    \n",
    "    # data vector with length n\n",
    "    for nod in mesh.nodes:\n",
    "        \n",
    "        # stencil indizes\n",
    "        i = nod.index\n",
    "        r = nod.get_r()\n",
    "        l = nod.get_l()\n",
    "        u = nod.get_u() if nod.get_u() else None  # special boundary case\n",
    "        b = nod.get_b() if nod.get_b() else None  # special boundary case\n",
    "\n",
    "        # transform derivatives\n",
    "        drdx = nod.x/nod.rad\n",
    "        dthetadx = -nod.y/(nod.rad**2)\n",
    "        drdy = nod.y/nod.rad\n",
    "        dthetady = nod.x/(nod.rad**2)     \n",
    "\n",
    "        # compute cylindrical derivatives\n",
    "        rad_u = mesh.nodes[u].rad if (u) else None\n",
    "        rad_b = mesh.nodes[b].rad if (b) else None\n",
    "        theta_l = mesh.nodes[l].theta if (mesh.nodes[l].theta!=0) else 2*np.pi\n",
    "        theta_r = mesh.nodes[r].theta if (mesh.nodes[i].theta!=0) else mesh.nodes[r].theta-2*np.pi\n",
    "        \n",
    "        if not (u) or not (b):\n",
    "            dr = 0\n",
    "            dtheta = 0\n",
    "        else:\n",
    "            if fd:\n",
    "                dr = (data[u]-data[i])/(rad_u-nod.rad)\n",
    "                dtheta = (data[l]-data[i])/(theta_l-nod.theta)\n",
    "            else:\n",
    "                dr = (data[u]-data[b])/(rad_u-rad_b)\n",
    "                dtheta = (data[l]-data[r])/(theta_l-theta_r)\n",
    "\n",
    "        # transform to cartesian coordinates\n",
    "        nod.dx = dtheta*dthetadx + dr*drdx\n",
    "        nod.dy = dtheta*dthetady + dr*drdy\n",
    "\n",
    "        if second:\n",
    "            if not (u) or not (b):\n",
    "                ddr = 0\n",
    "                ddtheta = 0\n",
    "            else:\n",
    "                ddtheta = (data[l]-2*data[i]+data[r])/((theta_l-nod.theta)*(nod.theta - theta_r)) \n",
    "                ddr = (data[u]*(nod.rad-rad_b)+data[b]*(rad_u-nod.rad)-data[i]*(rad_u-rad_b))/((rad_u-nod.rad)*(nod.rad-rad_b)*(rad_u - rad_b)/2)\n",
    "            \n",
    "            nod.laplacian = ddr + (1/nod.rad)*dr+(1/(nod.rad**2))*ddtheta\n",
    "\n",
    "    if output:\n",
    "        dx = np.empty(mesh.n)\n",
    "        dy = np.empty(mesh.n)\n",
    "        if second:\n",
    "            laplacian = np.empty(mesh.n)\n",
    "        for nod in mesh.nodes:\n",
    "            dx[nod.index] = nod.dx\n",
    "            dy[nod.index] = nod.dy\n",
    "            if second:\n",
    "                laplacian[nod.index] = nod.laplacian\n",
    "        if second:\n",
    "            return [dx, dy, laplacian]\n",
    "        else:\n",
    "            return [dx, dy]"
   ]
  },
  {
   "cell_type": "code",
   "execution_count": null,
   "metadata": {},
   "outputs": [],
   "source": [
    "# computing average pressure gradient\n",
    "dp = np.zeros_like(q)\n",
    "for i in tqdm(range(q.shape[1])):\n",
    "    p_tmp = q[2*d:,i]\n",
    "    dp[:d,i],dp[d:2*d,i] = finite_differences(mesh,p_tmp,output=True)\n",
    "\n",
    "dp_avg = np.mean(dp,1)[:2*d]"
   ]
  },
  {
   "cell_type": "code",
   "execution_count": null,
   "metadata": {},
   "outputs": [],
   "source": [
    "U_avg = q_avg[:2*d]"
   ]
  },
  {
   "cell_type": "code",
   "execution_count": null,
   "id": "09fc0448",
   "metadata": {},
   "outputs": [],
   "source": [
    "Re = 100\n",
    "\n",
    "A = np.empty(num)\n",
    "B = np.empty((num,num))\n",
    "C = np.empty((num,num,num))\n",
    "\n",
    "# additonal terms for pressure method and ergetic conervation\n",
    "D = np.empty((num,num)) # used if pressure term is considered pressure term \n",
    "H = np.zeros(num) # corrector for energetic conservation -> energetic residual \n",
    "\n",
    "# initializing temporary operators\n",
    "conv_avg = convection(mesh,U_avg,U_avg,d,finite_differences)\n",
    "diff_avg = diffusion(mesh,U_avg,d,finite_differences)\n",
    "conv_tmp = np.empty((num,2*d))\n",
    "conv_tmp2 = np.empty((num,2*d))\n",
    "diff_tmp = np.empty((num,2*d))\n",
    "\n",
    "# computing NS Operators\n",
    "for i in range(num):\n",
    "   conv_tmp[i] = convection(mesh,velocity_modes[:,j],U_avg,d,finite_differences)\n",
    "   conv_tmp2[i] = convection(mesh,U_avg,velocity_modes[:,j],d,finite_differences)\n",
    "   diff_tmp[i] = diffusion(mesh,velocity_modes[:,j],d,finite_differences)\n",
    "\n",
    "## computation of coefficients\n",
    "for i in tqdm(range(num)):\n",
    "    A[i] = - inner_prod(velocity_modes[:,i],conv_avg) + 1 / Re * inner_prod(velocity_modes[:,i],diff_avg)\n",
    "    for j in range(num):\n",
    "        B[i,j] = - inner_prod(velocity_modes[:,i],conv_tmp[i]) - inner_prod(velocity_modes[:,i],conv_tmp2[i]) + 1 / Re * inner_prod(velocity_modes[:,i],diff_tmp[i])\n",
    "        for k in range(num):\n",
    "            C[i,j,k] = - inner_prod(velocity_modes[:,i],convection(mesh,velocity_modes[:,j],velocity_modes[:,k],d,finite_differences))"
   ]
  },
  {
   "cell_type": "markdown",
   "id": "ffa6f20f",
   "metadata": {},
   "source": [
    "# Solving ODE system"
   ]
  },
  {
   "cell_type": "code",
   "execution_count": null,
   "id": "329f62eb",
   "metadata": {},
   "outputs": [],
   "source": [
    "# initial conditions for the activations are obtained as activations on the initial timeframe of the data matrix\n",
    "a0 = coeffs[:num,0] #initial conditions\n",
    "dt = 1\n",
    "t0 = 0\n",
    "tmax = 40000\n",
    "sampling_span = np.linspace(t0,tmax-dt,num=int(tmax/dt))\n",
    "\n",
    "# definintg galerkin system for ode solver\n",
    "def galerkin_system(t,a):\n",
    "\n",
    "    # set global variables references\n",
    "    global A,B,C\n",
    "    \n",
    "    a_dot = np.empty_like(a)\n",
    "    \n",
    "    for i in range(a_dot.shape[0]):\n",
    "        a_dot[i] = A[i] + inner_prod(B[i],a) + np.matmul(np.matmul(np.expand_dims(a,1).T,C[i]),np.expand_dims(a,1))\n",
    "    return a_dot"
   ]
  },
  {
   "cell_type": "code",
   "execution_count": null,
   "id": "34eb5962",
   "metadata": {},
   "outputs": [],
   "source": [
    "from scipy.integrate import solve_ivp\n",
    "sol = solve_ivp(galerkin_system,(t0,tmax),a0,method='LSODA',t_eval=sampling_span)\n",
    "sol"
   ]
  },
  {
   "cell_type": "code",
   "execution_count": null,
   "id": "83f9a731",
   "metadata": {},
   "outputs": [],
   "source": [
    "# Galerkin model based on discrete reconstruction as q = \\bar{q}+\\sum_i^n a_i(t)*\\phi_i(x)\n",
    "rows = int(num/2)\n",
    "fig,ax = plt.subplots(rows,2,figsize=(15,10))\n",
    "fig.tight_layout(pad=3.0)\n",
    "\n",
    "t = sampling_span\n",
    "\n",
    "# add plots over full time domain\n",
    "for i in range(num):\n",
    "    if num <= 2:\n",
    "        ax[int(i%2)].plot(t,sol.y[i,:len(t)])\n",
    "        ax[int(i%2)].title.set_text(\"Activation for Eigenflow \" + str(i))\n",
    "    else:\n",
    "        ax[int(i/2)][int(i%2)].plot(t,sol.y[i,:len(t)])\n",
    "        ax[int(i/2)][int(i%2)].title.set_text(\"Activation for Eigenflow \" + str(i))"
   ]
  },
  {
   "cell_type": "code",
   "execution_count": null,
   "metadata": {},
   "outputs": [],
   "source": []
  }
 ],
 "metadata": {
  "kernelspec": {
   "name": "python3",
   "display_name": "Python 3.9.5 64-bit"
  },
  "language_info": {
   "codemirror_mode": {
    "name": "ipython",
    "version": 3
   },
   "file_extension": ".py",
   "mimetype": "text/x-python",
   "name": "python",
   "nbconvert_exporter": "python",
   "pygments_lexer": "ipython3",
   "version": "3.9.5"
  },
  "interpreter": {
   "hash": "5c2a26602e28ad08aeb3db5218c8af55fd3775ea6ffbecb1728e15703c31277b"
  }
 },
 "nbformat": 4,
 "nbformat_minor": 5
}