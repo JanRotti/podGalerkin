{
 "cells": [
  {
   "cell_type": "code",
   "execution_count": null,
   "id": "5e163d35",
   "metadata": {},
   "outputs": [],
   "source": [
    "# standard imports\n",
    "import numpy as np\n",
    "import math\n",
    "#import os\n",
    "#import csv\n",
    "from tqdm import tqdm\n",
    "import meshio\n",
    "import matplotlib.pyplot as plt"
   ]
  },
  {
   "cell_type": "code",
   "execution_count": null,
   "id": "1ebadcd1",
   "metadata": {},
   "outputs": [],
   "source": [
    "# custom class imports\n",
    "from node import node\n",
    "from cell import cell\n",
    "from mesh import exp_mesh\n",
    "from isentropic_navier_stokes import Q,L\n",
    "\n",
    "# utility functions\n",
    "from utilities_modified import *"
   ]
  },
  {
   "cell_type": "markdown",
   "id": "1028cb77",
   "metadata": {},
   "source": [
    "# Setting Custom Problem"
   ]
  },
  {
   "cell_type": "code",
   "execution_count": null,
   "id": "91e34eea",
   "metadata": {},
   "outputs": [],
   "source": [
    "# read su2 mesh file\n",
    "meshio_mesh = meshio.read(\"./lam_cyl_comp_air/mesh_cylinder_quad.su2\",file_format=\"su2\")\n",
    "# convert mesh into custom class exp_mesh\n",
    "mesh = exp_mesh(meshio_mesh,[0.5,0])"
   ]
  },
  {
   "cell_type": "markdown",
   "id": "65c3e71d",
   "metadata": {},
   "source": [
    "# Data Preparation"
   ]
  },
  {
   "cell_type": "code",
   "execution_count": null,
   "id": "ca9b34d9",
   "metadata": {},
   "outputs": [],
   "source": [
    "# reading file data\n",
    "data_dir  = \"./lam_cyl_comp_air/mach 0.1/\"\n",
    "data_dict = read_csv_data(data_dir,delay=0,subsampling=3,max_size=180)"
   ]
  },
  {
   "cell_type": "code",
   "execution_count": null,
   "metadata": {},
   "outputs": [],
   "source": [
    "# geometric information\n",
    "x = data_dict[\"x\"][:,0] - 0.5\n",
    "y = data_dict[\"y\"][:,0]\n",
    "\n",
    "# state based fluid properties\n",
    "u = np.divide(data_dict['Momentum_x'],data_dict['Density'])\n",
    "v = np.divide(data_dict['Momentum_y'],data_dict['Density'])\n",
    "a = data_dict['Mach']"
   ]
  },
  {
   "cell_type": "code",
   "execution_count": null,
   "metadata": {},
   "outputs": [],
   "source": [
    "# construct state based data\n",
    "q = np.vstack([u,v,a])\n",
    "q_avg = np.mean(q,1)\n",
    "q_fluc = q - np.repeat(np.expand_dims(q_avg,1),q.shape[1],axis=1)"
   ]
  },
  {
   "source": [
    "# Geometric Constants"
   ],
   "cell_type": "markdown",
   "metadata": {}
  },
  {
   "cell_type": "code",
   "execution_count": null,
   "metadata": {},
   "outputs": [],
   "source": [
    "# DEFINING CONSTANTS\n",
    "n = mesh.n      # number of nodes\n",
    "N = mesh.N      # number of cells\n",
    "T = q.shape[1]  # number of snapshots\n",
    "alpha = 1       # inner product coefficient\n",
    "method = \"fd\"     # method for derivative computation\n",
    "gamma = 1.4     # isentropic coefficient -> material property\n",
    "max_POD = 40"
   ]
  },
  {
   "cell_type": "code",
   "execution_count": null,
   "metadata": {},
   "outputs": [],
   "source": [
    "skalar_weights = np.empty(n)\n",
    "volume_weight = np.zeros(n)\n",
    "for nod in mesh.nodes:\n",
    "    volume_weight[nod.index] = nod.dv\n",
    "mach_weight = (2 * alpha / (gamma - 1))\n",
    "inner_weight = np.concatenate([volume_weight,volume_weight,mach_weight*volume_weight])\n",
    "\n",
    "def skalar_product(d1,d2,w):\n",
    "    return np.sum(d1*d2*w)\n",
    "\n",
    "def check_symmetric(a, rtol=1e-05, atol=1e-08):\n",
    "    return np.allclose(a, a.T, rtol=rtol, atol=atol)"
   ]
  },
  {
   "cell_type": "markdown",
   "id": "565c713d",
   "metadata": {},
   "source": [
    "# POD Decomposition"
   ]
  },
  {
   "source": [
    "# computing correlation matrix with isenctropic inner product\n",
    "C = np.empty((T,T))\n",
    "for i in tqdm(range(T)):\n",
    "    for j in range(i,T):\n",
    "        C[i,j] = (1/T) * skalar_product(q_fluc[:,i],q_fluc[:,j],inner_weight)\n",
    "        C[j,i] = C[i,j]  # C is symmetric by construction"
   ],
   "cell_type": "code",
   "metadata": {
    "tags": []
   },
   "execution_count": null,
   "outputs": []
  },
  {
   "cell_type": "code",
   "execution_count": null,
   "metadata": {},
   "outputs": [],
   "source": [
    "S, V =  np.linalg.eigh(C,UPLO='L')\n",
    "S = np.flip(S,0)\n",
    "V = np.flip(V,1)\n",
    "\n",
    "# construct spatial POD Modes - not normalized\n",
    "pod_modes = np.zeros((3*n,max_POD))\n",
    "for i in range(max_POD):\n",
    "    pod_modes[:,i] = np.matmul(q_fluc,V[:,i]) \n",
    "\n",
    "# normalize POD\n",
    "for i in range(max_POD):\n",
    "    pod_modes[:,i] /= np.sqrt(S[i]*T)\n",
    "\n",
    "# computing eigenvalues\n",
    "S = np.zeros(max_POD)\n",
    "for i in range(max_POD):\n",
    "    for j in range(T):\n",
    "        S[i] += skalar_product(q_fluc[:,j],pod_modes[:,i],inner_weight)**2\n",
    "    S[i] /= T\n",
    "\n",
    "# energy reconstruction threshold\n",
    "epsilon = 0.9\n",
    "acc = 0\n",
    "num = 0\n",
    "while acc < epsilon:\n",
    "    num+=1\n",
    "    acc = sum(S[:num])/sum(S)    \n",
    "print(\"Number of eigenvectors necessary for thresholded reconstruction: \\t\" + str(num))\n",
    "if num % 2 == 1:\n",
    "    num+=1\n",
    "\n",
    "# manual value\n",
    "num = 4"
   ]
  },
  {
   "cell_type": "code",
   "execution_count": null,
   "metadata": {},
   "outputs": [],
   "source": [
    "plot_cylinder_data(x,y,pod_modes[0*n:n,0],zoom=True)"
   ]
  },
  {
   "cell_type": "code",
   "execution_count": null,
   "metadata": {},
   "outputs": [],
   "source": [
    "# incorrect because POD modes are not orthonormal in euclidean space but in problem space\n",
    "coeffs = np.matmul(np.linalg.pinv(pod_modes),q_fluc)"
   ]
  },
  {
   "cell_type": "code",
   "execution_count": null,
   "id": "7656d6c5",
   "metadata": {},
   "outputs": [],
   "source": [
    "plot_activations(coeffs,4)"
   ]
  },
  {
   "source": [
    "# Galerkin system"
   ],
   "cell_type": "markdown",
   "metadata": {}
  },
  {
   "cell_type": "code",
   "execution_count": null,
   "metadata": {},
   "outputs": [],
   "source": [
    "# Galerkin system coefficients\n",
    "# Computation of Galerkin system parameters\n",
    "Qavg = Q(mesh,q_avg,q_avg,method=method)\n",
    "Lavg = L(mesh,q_avg,method=method)\n",
    "\n",
    "# initialie arrays for parameters\n",
    "b1 = np.empty(num)\n",
    "b2 = np.empty(num)\n",
    "L1 = np.empty((num,num))\n",
    "L2 = np.empty((num,num))\n",
    "Q_ = [np.empty((num,num,)) for x in range(num)]\n",
    "\n",
    "# compute L and Q operators for projection\n",
    "Q_tmp1 = np.empty((num,3*n))\n",
    "Q_tmp2 = np.empty((num,3*n))\n",
    "Q_tmp3 = np.empty((num,num,3*n))\n",
    "L_tmp = np.empty((num,3*n))\n",
    "\n",
    "for i in tqdm(range(num)):\n",
    "    Q_tmp1[i] = Q(mesh,q_avg,pod_modes[:,i],method=method)\n",
    "    Q_tmp2[i] = Q(mesh,pod_modes[:,i],q_avg,method=method)\n",
    "    L_tmp[i] = L(mesh,pod_modes[:,i],method=method)\n",
    "    for j in range(num):\n",
    "        Q_tmp3[i,j] = Q(mesh,pod_modes[:,i],pod_modes[:,j],method=method)\n",
    "\n",
    "# compute ODE coefficients\n",
    "for k in tqdm(range(num)):\n",
    "    b1[k] = skalar_product(Lavg,pod_modes[:,k],inner_weight)\n",
    "    b2[k] = skalar_product(Qavg,pod_modes[:,k],inner_weight)\n",
    "    for i in range(num):\n",
    "        L1[k,i] = skalar_product(L_tmp[i],pod_modes[:,k],inner_weight)\n",
    "        L2[k,i] = skalar_product(np.add(Q_tmp1[i],Q_tmp2[i]),pod_modes[:,k],inner_weight)\n",
    "        for j in range(num):\n",
    "            Q_[k][i,j] = skalar_product(Q_tmp3[i,j],pod_modes[:,k],inner_weight)"
   ]
  },
  {
   "source": [
    "# initial conditions\n",
    "a0 = coeffs[:num,20]\n",
    "\n",
    "# sampling span for solver\n",
    "t0 = 0\n",
    "dt = 0.001\n",
    "tmax = 1\n",
    "sampling_span = np.linspace(t0,tmax-dt,num=int(tmax/dt))\n",
    "\n",
    "# static viscosity\n",
    "nu =   1/100 #1.516e-5\n",
    "\n",
    "# defining ode function for node based coefficients\n",
    "def galerkin_system(t,a):\n",
    "    # set global variables references\n",
    "    global Q_, L1, L2, b1, b2, nu\n",
    "    \n",
    "    a_dot = np.empty_like(a)\n",
    "    \n",
    "    for k in range(a_dot.shape[0]):\n",
    "        a_dot[k] = (nu * b1[k] + b2[k] + np.inner((nu*L1[k,:]+L2[k,:]),a) + np.matmul(np.matmul(np.expand_dims(a,1).T,Q_[k]),np.expand_dims(a,1)))\n",
    "    return a_dot\n"
   ],
   "cell_type": "code",
   "metadata": {},
   "execution_count": null,
   "outputs": []
  },
  {
   "cell_type": "code",
   "execution_count": null,
   "metadata": {},
   "outputs": [],
   "source": [
    "from scipy.integrate import solve_ivp\n",
    "sol = solve_ivp(galerkin_system,(t0,tmax),a0,method='LSODA',t_eval=sampling_span)\n",
    "sol.message"
   ]
  },
  {
   "cell_type": "code",
   "execution_count": null,
   "metadata": {},
   "outputs": [],
   "source": [
    "# Galerkin model based on discrete reconstruction as q = \\bar{q}+\\sum_i^n a_i(t)*\\phi_i(x)\n",
    "d = int(num/2)\n",
    "fig,ax = plt.subplots(d,2,figsize=(15,10))\n",
    "fig.tight_layout(pad=3.0)\n",
    "\n",
    "t = sampling_span\n",
    "\n",
    "# add plots over full time domain\n",
    "for i in range(num):\n",
    "    if num <= 2:\n",
    "        ax[int(i%2)].plot(t,sol.y[i,:len(t)])\n",
    "        ax[int(i%2)].title.set_text(\"Activation for Eigenflow \" + str(i))\n",
    "    else:\n",
    "        ax[int(i/2)][int(i%2)].plot(t,sol.y[i,:len(t)])\n",
    "        ax[int(i/2)][int(i%2)].title.set_text(\"Activation for Eigenflow \" + str(i))"
   ]
  },
  {
   "cell_type": "code",
   "execution_count": null,
   "metadata": {},
   "outputs": [],
   "source": []
  }
 ],
 "metadata": {
  "kernelspec": {
   "name": "python3",
   "display_name": "Python 3.9.5 64-bit"
  },
  "language_info": {
   "codemirror_mode": {
    "name": "ipython",
    "version": 3
   },
   "file_extension": ".py",
   "mimetype": "text/x-python",
   "name": "python",
   "nbconvert_exporter": "python",
   "pygments_lexer": "ipython3",
   "version": "3.9.5"
  },
  "interpreter": {
   "hash": "5c2a26602e28ad08aeb3db5218c8af55fd3775ea6ffbecb1728e15703c31277b"
  }
 },
 "nbformat": 4,
 "nbformat_minor": 5
}