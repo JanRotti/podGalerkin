{
 "cells": [
  {
   "cell_type": "code",
   "execution_count": null,
   "source": [
    "# standard imports\r\n",
    "import numpy as np\r\n",
    "from tqdm import tqdm\r\n",
    "import meshio\r\n",
    "import matplotlib.pyplot as plt\r\n",
    "from scipy.integrate import solve_ivp\r\n",
    "from casadi import *"
   ],
   "outputs": [],
   "metadata": {}
  },
  {
   "cell_type": "code",
   "execution_count": null,
   "source": [
    "# import geometry classes\r\n",
    "from geometry.node import node\r\n",
    "from geometry.cell import cell\r\n",
    "from geometry.mesh import rot_sym_mesh\r\n",
    "from problem.isentropic_navier_stokes import convection, diffusion, skalar_product, curl\r\n",
    "\r\n",
    "# utility functions\r\n",
    "from utilities.utilities import *\r\n",
    "from utilities.pod import get_POD, get_activations"
   ],
   "outputs": [],
   "metadata": {}
  },
  {
   "cell_type": "markdown",
   "source": [
    "# Setting Custom Problem"
   ],
   "metadata": {}
  },
  {
   "cell_type": "code",
   "execution_count": null,
   "source": [
    "# read su2 mesh file\r\n",
    "meshio_mesh = meshio.read(\"./mesh_files/mesh_cylinder_quad.su2\",file_format=\"su2\")\r\n",
    "# convert mesh into custom class exp_mesh\r\n",
    "mesh = rot_sym_mesh(meshio_mesh)"
   ],
   "outputs": [],
   "metadata": {}
  },
  {
   "cell_type": "markdown",
   "source": [
    "# Geometric Constants"
   ],
   "metadata": {}
  },
  {
   "cell_type": "code",
   "execution_count": null,
   "source": [
    "# DEFINING CONSTANTS\r\n",
    "n = mesh.n                  # number of nodes\r\n",
    "N = mesh.N                  # number of cells\r\n",
    "T = 220                     # number of snapshots\r\n",
    "alpha = 1                   # inner product coefficient  # method for derivative computation\r\n",
    "gamma = 1.4                 # isentropic coefficient -> material property\r\n",
    "max_POD = 40                # maximum number of POD modes\r\n",
    "mach = 0.6                  # mach number\r\n",
    "sos = 340.29                # isentropic speed of sound\r\n",
    "u_free = mach * sos         # freestream velocity\r\n",
    "Re = 100                    # Reynolds number of freeflow\r\n",
    "dt = 0.0001                 # simulation time step\r\n",
    "include_avg = False         # include average flow in POD computation\r\n",
    "nondim = False              # apply nondimensionalization to results\r\n",
    "subsampling = 6             # subsampling for data\r\n",
    "stabilization = \"viscosity\" # stabilization method for galerkin system\r\n",
    "controlled = False          # activate controlled system\r\n",
    "tau = 0                     # penalty term coefficient"
   ],
   "outputs": [],
   "metadata": {}
  },
  {
   "cell_type": "markdown",
   "source": [
    "# Data Preparation"
   ],
   "metadata": {}
  },
  {
   "cell_type": "code",
   "execution_count": null,
   "source": [
    "# reading file data\r\n",
    "data_dir  = \"./flow_data./lam_cyl_comp_air/mach 0.6/\"\r\n",
    "data_dict = read_csv_data(data_dir,delay=0,subsampling=subsampling,max_size=T)\r\n",
    "\r\n",
    "# geometric information\r\n",
    "x = data_dict[\"x\"][:,0] - 0.5\r\n",
    "y = data_dict[\"y\"][:,0]\r\n",
    "\r\n",
    "# fluid velocity and mach number\r\n",
    "u = np.divide(data_dict['Momentum_x'], data_dict['Density'])\r\n",
    "v = np.divide(data_dict['Momentum_y'], data_dict['Density'])\r\n",
    "a = data_dict['Mach']\r\n",
    "\r\n",
    "# construct state based data\r\n",
    "q = np.vstack([u,v,a])\r\n",
    "T = q.shape[1]\r\n",
    "q_avg = np.mean(q,1)\r\n",
    "q_fluc = q - np.repeat(np.expand_dims(q_avg,1),T,axis=1)\r\n",
    "\r\n",
    "# data for pod decomposition\r\n",
    "if include_avg:\r\n",
    "    pod_data = q\r\n",
    "else:\r\n",
    "    pod_data = q_fluc\r\n",
    "\r\n",
    "### set scalar weights for multiplicative computation\r\n",
    "# volume participations\r\n",
    "volume_weight = mesh.volume_weights\r\n",
    "# additional weight for speed of sound\r\n",
    "mach_weight = (2 * alpha / (gamma - 1))\r\n",
    "# construction of weights\r\n",
    "inner_weight = np.concatenate([np.ones(n),np.ones(n),mach_weight*np.ones(n)]) * volume_weight"
   ],
   "outputs": [],
   "metadata": {}
  },
  {
   "cell_type": "markdown",
   "source": [
    "# POD Decomposition"
   ],
   "metadata": {}
  },
  {
   "cell_type": "code",
   "execution_count": null,
   "source": [
    "[pod_modes, S] = get_POD(pod_data,inner_weight,20)\r\n",
    "coeffs = get_activations(pod_data,pod_modes,inner_weight,20)\r\n",
    "if nondim:\r\n",
    "    coeffs /= u_free"
   ],
   "outputs": [],
   "metadata": {}
  },
  {
   "cell_type": "code",
   "execution_count": null,
   "source": [
    "# energy reconstruction threshold\r\n",
    "epsilon = 0.99\r\n",
    "acc = 0\r\n",
    "num = 0\r\n",
    "while acc < epsilon:\r\n",
    "    num+=1\r\n",
    "    acc = sum(S[:num])/sum(S)    \r\n",
    "print(\"Number of eigenvectors necessary for thresholded reconstruction: \\t\" + str(num))\r\n",
    "if num % 2 == 1:\r\n",
    "    num+=1\r\n",
    "\r\n",
    "# manual value\r\n",
    "num = 8"
   ],
   "outputs": [],
   "metadata": {}
  },
  {
   "cell_type": "code",
   "execution_count": null,
   "source": [
    "# plot_activations(coeffs,8,dt=dt*subsampling)"
   ],
   "outputs": [],
   "metadata": {}
  },
  {
   "cell_type": "markdown",
   "source": [
    "# Control Data Input"
   ],
   "metadata": {}
  },
  {
   "cell_type": "code",
   "execution_count": null,
   "source": [
    "control_dir  = \"./flow_data/lam_cyl_comp_air/potVortex_0.6_1/\"\r\n",
    "control_dict = read_csv_data(control_dir,0,1,1)\r\n",
    "\r\n",
    "u_con = np.divide(control_dict['Momentum_x'], control_dict['Density'])\r\n",
    "v_con = np.divide(control_dict['Momentum_y'], control_dict['Density'])\r\n",
    "a_con = control_dict['Mach']\r\n",
    "\r\n",
    "# construct state based data\r\n",
    "q_con = np.vstack([u_con,v_con,a_con]).squeeze()"
   ],
   "outputs": [],
   "metadata": {}
  },
  {
   "cell_type": "markdown",
   "source": [
    "# Control Function Method\r\n",
    "Additional coefficients in Galerkin system"
   ],
   "metadata": {}
  },
  {
   "cell_type": "code",
   "execution_count": null,
   "source": [
    "# Computation of Galerkin control terms\r\n",
    "Lcon = diffusion(mesh,q_con)\r\n",
    "Qcon = convection(mesh,q_con,q_con)\r\n",
    "Qconavg_1 = convection(mesh,q_con,q_avg)\r\n",
    "Qconavg_2 = convection(mesh,q_avg,q_con)\r\n",
    "\r\n",
    "# initialize arrays\r\n",
    "d1 = np.empty(num)\r\n",
    "d2 = np.empty(num)\r\n",
    "f = np.empty(num)\r\n",
    "g = np.empty((num,num))\r\n",
    "h = np.empty(num)\r\n",
    "\r\n",
    "# compute temporary L and Q operators for projection\r\n",
    "tmp_1 = np.empty((num,3*n))\r\n",
    "tmp_2 = np.empty((num,3*n))\r\n",
    "for i in tqdm(range(num)):\r\n",
    "    tmp_1[i] = convection(mesh,q_con,pod_modes[:,i])\r\n",
    "    tmp_2[i] = convection(mesh,pod_modes[:,i],q_con)\r\n",
    "\r\n",
    "# compute finale coefficients\r\n",
    "for k in range(num):\r\n",
    "    d1[k] = skalar_product(Lcon,pod_modes[:,k],inner_weight)\r\n",
    "    d2[k] = skalar_product(Qconavg_1 + Qconavg_2,pod_modes[:,k],inner_weight)\r\n",
    "    f[k] = skalar_product(Qcon,pod_modes[:,k],inner_weight)\r\n",
    "    h[k] = skalar_product(q_con,pod_modes[:,k],inner_weight)\r\n",
    "    for i in range(num):\r\n",
    "        g[k,i] = skalar_product(tmp_1[i] + tmp_2[i],pod_modes[:,k],inner_weight)"
   ],
   "outputs": [],
   "metadata": {}
  },
  {
   "cell_type": "markdown",
   "source": [
    "# Galerkin Coefficients"
   ],
   "metadata": {}
  },
  {
   "cell_type": "code",
   "execution_count": null,
   "source": [
    "# Galerkin system coefficients\r\n",
    "# Computation of Galerkin system parameters\r\n",
    "Qavg = convection(mesh,q_avg,q_avg)\r\n",
    "Lavg = diffusion(mesh,q_avg)\r\n",
    "\r\n",
    "# initialize arrays for parameters\r\n",
    "b1 = np.empty(num)\r\n",
    "b2 = np.empty(num)\r\n",
    "L1 = np.empty((num,num))\r\n",
    "L2 = np.empty((num,num))\r\n",
    "Q_ = [np.empty((num,num,)) for x in range(num)]\r\n",
    "\r\n",
    "# compute L and Q operators for projection\r\n",
    "Q_tmp1 = np.empty((num,3*n))\r\n",
    "Q_tmp2 = np.empty((num,3*n))\r\n",
    "Q_tmp3 = np.empty((num,num,3*n))\r\n",
    "L_tmp = np.empty((num,3*n))\r\n",
    "\r\n",
    "for i in tqdm(range(num)):\r\n",
    "    Q_tmp1[i] = convection(mesh,q_avg,pod_modes[:,i])\r\n",
    "    Q_tmp2[i] = convection(mesh,pod_modes[:,i],q_avg)\r\n",
    "    L_tmp[i] = diffusion(mesh,pod_modes[:,i])\r\n",
    "    for j in range(num):\r\n",
    "        Q_tmp3[i,j] = convection(mesh,pod_modes[:,i],pod_modes[:,j])\r\n",
    "\r\n",
    "# compute ODE coefficients\r\n",
    "for k in tqdm(range(num)):\r\n",
    "    b1[k] = skalar_product(Lavg,pod_modes[:,k],inner_weight)\r\n",
    "    b2[k] = skalar_product(Qavg,pod_modes[:,k],inner_weight)\r\n",
    "    for i in range(num):\r\n",
    "        L1[k,i] = skalar_product(L_tmp[i],pod_modes[:,k],inner_weight)\r\n",
    "        L2[k,i] = skalar_product(np.add(Q_tmp1[i],Q_tmp2[i]),pod_modes[:,k],inner_weight)\r\n",
    "        for j in range(num):\r\n",
    "            Q_[k][i,j] = skalar_product(Q_tmp3[i,j],pod_modes[:,k],inner_weight)"
   ],
   "outputs": [],
   "metadata": {}
  },
  {
   "cell_type": "markdown",
   "source": [
    "# Galerkin System"
   ],
   "metadata": {}
  },
  {
   "cell_type": "code",
   "execution_count": null,
   "source": [
    "# initial conditions\r\n",
    "a0 = coeffs[:num,0]\r\n",
    "\r\n",
    "# temporal problem setup\r\n",
    "if mach == 0.6:\r\n",
    "    dt_ref = 0.0001 * subsampling\r\n",
    "    dt = 0.001\r\n",
    "    shed_period = 0.03\r\n",
    "\r\n",
    "elif mach == 0.1:\r\n",
    "    dt_ref = 0.001 * subsampling\r\n",
    "    dt = 0.001\r\n",
    "    shed_period = 0.18\r\n",
    "\r\n",
    "elif mach == 0.01:\r\n",
    "    dt_ref = 0.02 * subsampling\r\n",
    "    dt = 0.02\r\n",
    "    shed_period = 1.84\r\n",
    "\r\n",
    "temporal_factor = 1\r\n",
    "\r\n",
    "# temporal span for solver\r\n",
    "t0 = 0\r\n",
    "tmax = shed_period * 20 # 100\r\n",
    "\r\n",
    "sampling_span = np.linspace(t0,tmax-dt,num=int(tmax/dt))\r\n",
    "\r\n",
    "# dynamic viscosity for stabilization\r\n",
    "if stabilization==\"viscosity\":\r\n",
    "    if mach == 0.6:\r\n",
    "        # tuned\r\n",
    "        if num == 10:\r\n",
    "            nu = 4.09   # 10 modes\r\n",
    "        elif num == 8:\r\n",
    "            nu = 3.24   # 8 modes\r\n",
    "        elif num == 6:\r\n",
    "            nu = 3.07   # 6 modes\r\n",
    "        elif num == 4:\r\n",
    "            nu = 3.625  # 4 modes\r\n",
    "        elif num == 2:  \r\n",
    "            nu = 4.36   # 2 modes\r\n",
    "\r\n",
    "    elif mach == 0.1:\r\n",
    "        # tuned\r\n",
    "        if num == 10:\r\n",
    "            nu = 0.745   # 10 modes\r\n",
    "        elif num == 8:\r\n",
    "            nu = 0.7445  # 8 modes\r\n",
    "        elif num == 6:\r\n",
    "            nu = 0.7390  # 6 modes\r\n",
    "        elif num == 4:\r\n",
    "            nu = 0.7635  # 4 modes\r\n",
    "        elif num == 2:  \r\n",
    "            nu = 0.8625  # 2 modes\r\n",
    "\r\n",
    "    elif mach == 0.01:\r\n",
    "        # tuned\r\n",
    "        if num == 10:\r\n",
    "            nu = 0.1535  # 10 modes\r\n",
    "        elif num == 8:\r\n",
    "            nu = 0.151   # 8 modes\r\n",
    "        elif num == 6:\r\n",
    "            nu = 0.1515  # 6 modes\r\n",
    "        elif num == 4:\r\n",
    "            nu = 0.1515  # 4 modes\r\n",
    "        elif num == 2:  \r\n",
    "            nu = 0.1550  # 2 modes"
   ],
   "outputs": [],
   "metadata": {}
  },
  {
   "cell_type": "code",
   "execution_count": null,
   "source": [
    "# defining ode function for node based coefficients\r\n",
    "def galerkin_system(t,a):\r\n",
    "    # set global variables references\r\n",
    "    global Q_, L1, L2, b1, b2, nu\r\n",
    "    a_dot = np.empty_like(a)\r\n",
    "    for k in range(a_dot.shape[0]):\r\n",
    "        a_dot[k] = (nu * b1[k] + b2[k] + np.inner((nu * L1[k,:]+L2[k,:]),a) + np.matmul(np.matmul(np.expand_dims(a,1).T,Q_[k]),np.expand_dims(a,1))) \r\n",
    "    return a_dot"
   ],
   "outputs": [],
   "metadata": {}
  },
  {
   "cell_type": "code",
   "execution_count": null,
   "source": [
    "sol = solve_ivp(galerkin_system,(t0,tmax),a0,method='LSODA',t_eval=sampling_span)\r\n",
    "sol.message"
   ],
   "outputs": [],
   "metadata": {}
  },
  {
   "cell_type": "markdown",
   "source": [
    "# Comparison of Limit Cycles"
   ],
   "metadata": {}
  },
  {
   "cell_type": "code",
   "execution_count": null,
   "source": [
    "# Galerkin model \r\n",
    "d = int(num/2)\r\n",
    "fig,ax = plt.subplots(d,2,figsize=(15,10))\r\n",
    "fig.tight_layout(pad=3.0)\r\n",
    "\r\n",
    "t = sampling_span \r\n",
    "\r\n",
    "# add plots over full time domain\r\n",
    "for i in range(num):\r\n",
    "    if num <= 2:\r\n",
    "        ax[int(i%2)].plot(t[-100:],sol.y[i,-100:len(t)]/(sos * mach))\r\n",
    "        ax[int(i%2)].title.set_text(\"Activation for Eigenflow \" + str(i))\r\n",
    "    else:\r\n",
    "        ax[int(i/2)][int(i%2)].plot(t[-100:],sol.y[i,-100:len(t)]/(sos * mach))\r\n",
    "        ax[int(i/2)][int(i%2)].title.set_text(\"Activation for Eigenflow \" + str(i))\r\n",
    "#plt.savefig(\"mach_0.6_stabilized_av.png\")"
   ],
   "outputs": [],
   "metadata": {}
  },
  {
   "cell_type": "markdown",
   "source": [
    "# Reconstruction"
   ],
   "metadata": {}
  },
  {
   "cell_type": "code",
   "execution_count": null,
   "source": [
    "# reconstruct flows\r\n",
    "rec_len = 100\r\n",
    "ssubsampling = int(shed_period / dt_ref / 20)\r\n",
    "rec = np.repeat(np.expand_dims(q_avg,1),rec_len,1)\r\n",
    "for i in range(num):\r\n",
    "    rec += np.outer(pod_modes[:,i],sol.y[i,-100*ssubsampling::ssubsampling])"
   ],
   "outputs": [],
   "metadata": {}
  },
  {
   "cell_type": "code",
   "execution_count": null,
   "source": [
    "for i in range(100):\r\n",
    "    data = rec[0*n:1*n,i]/(sos * mach)\r\n",
    "    data[0] = q[:n,0].max()/(sos * mach) * 1.8\r\n",
    "    data[1] = q[:n,0].min()/(sos * mach)\r\n",
    "    plot_cylinder_data(x,y,data,zoom=True,cmap='twilight')\r\n",
    "    #fac = int(0.03 / (0.0001 * subsampling) / 20)\r\n",
    "    #plot_cylinder_data(x,y,q[0*n:1*n,i*fac]/(sos * mach), zoom=True, cmap='twilight')\r\n",
    "    #plt.savefig(str(i)+\".png\")\r\n",
    "    plt.close('all')\r\n",
    "    break"
   ],
   "outputs": [],
   "metadata": {}
  },
  {
   "cell_type": "markdown",
   "source": [
    "# Controlled System"
   ],
   "metadata": {}
  },
  {
   "cell_type": "code",
   "execution_count": null,
   "source": [
    "def controlled_galerkin_system(t,a):\r\n",
    "    # set global variables references\r\n",
    "    global Q_, L1, L2, b1, b2, nu\r\n",
    "    # \r\n",
    "    a_dot = np.empty_like(a)\r\n",
    "    for k in range(a_dot.shape[0]):\r\n",
    "        a_dot[k] = (nu * b1[k] + b2[k] + np.inner((nu*L1[k,:]+L2[k,:]),a) + np.matmul(np.matmul(np.expand_dims(a,1).T,Q_[k]),np.expand_dims(a,1))) + gamma(t) * (nu * d1[k] + d2[k] + np.inner(g[k],a) + gamma * f[k]) + h[k] * dgamma\r\n",
    "    return a_dot\r\n",
    "\r\n",
    "# fixed control function\r\n",
    "def gamma(t):\r\n",
    "    global shed_period\r\n",
    "    return 100 * np.sin(2 * np.pi * t / shed_period)\r\n",
    "\r\n",
    "def dgamma(t):\r\n",
    "    global shed_period\r\n",
    "    return 100 * np.cos(2 * np.pi * t / shed_period) * 2 * np.pi / shed_period"
   ],
   "outputs": [],
   "metadata": {}
  },
  {
   "cell_type": "code",
   "execution_count": null,
   "source": [
    "sol = solve_ivp(galerkin_system,(t0,tmax),a0,method='LSODA',t_eval=sampling_span)\r\n",
    "sol.message"
   ],
   "outputs": [],
   "metadata": {}
  },
  {
   "cell_type": "code",
   "execution_count": null,
   "source": [
    "# Galerkin model \r\n",
    "d = int(num/2)\r\n",
    "fig,ax = plt.subplots(d,2,figsize=(15,10))\r\n",
    "fig.tight_layout(pad=3.0)\r\n",
    "\r\n",
    "t = sampling_span \r\n",
    "\r\n",
    "# add plots over full time domain\r\n",
    "for i in range(num):\r\n",
    "    if num <= 2:\r\n",
    "        ax[int(i%2)].plot(t[-100:],sol.y[i,-100:len(t)]/(sos * mach))\r\n",
    "        ax[int(i%2)].title.set_text(\"Activation for Eigenflow \" + str(i))\r\n",
    "    else:\r\n",
    "        ax[int(i/2)][int(i%2)].plot(t[-100:],sol.y[i,-100:len(t)]/(sos * mach))\r\n",
    "        ax[int(i/2)][int(i%2)].title.set_text(\"Activation for Eigenflow \" + str(i))"
   ],
   "outputs": [],
   "metadata": {}
  },
  {
   "cell_type": "code",
   "execution_count": null,
   "source": [
    "# reconstruct flows\r\n",
    "rec_len = 100\r\n",
    "ssubsampling = int(shed_period / dt_ref / 20)\r\n",
    "rec = np.repeat(np.expand_dims(q_avg,1),rec_len,1)\r\n",
    "for i in range(num):\r\n",
    "    rec += np.outer(pod_modes[:,i],sol.y[i,-100*ssubsampling::ssubsampling])\r\n",
    "\r\n",
    "for i in range(rec_len):\r\n",
    "    t = sampling_span[-100*ssubsampling::ssubsampling][i]\r\n",
    "    rec[:,i] += gamma(t) * q_con"
   ],
   "outputs": [],
   "metadata": {}
  },
  {
   "cell_type": "code",
   "execution_count": null,
   "source": [
    "plot_cylinder_data(x,y,rec[:n,22],zoom=True,cmap='twilight')"
   ],
   "outputs": [],
   "metadata": {}
  },
  {
   "cell_type": "code",
   "execution_count": null,
   "source": [],
   "outputs": [],
   "metadata": {}
  }
 ],
 "metadata": {
  "kernelspec": {
   "name": "python3",
   "display_name": "Python 3.9.5 64-bit"
  },
  "language_info": {
   "codemirror_mode": {
    "name": "ipython",
    "version": 3
   },
   "file_extension": ".py",
   "mimetype": "text/x-python",
   "name": "python",
   "nbconvert_exporter": "python",
   "pygments_lexer": "ipython3",
   "version": "3.9.5"
  },
  "interpreter": {
   "hash": "5c2a26602e28ad08aeb3db5218c8af55fd3775ea6ffbecb1728e15703c31277b"
  }
 },
 "nbformat": 4,
 "nbformat_minor": 5
}