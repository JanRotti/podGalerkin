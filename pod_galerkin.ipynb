{
 "cells": [
  {
   "cell_type": "code",
   "execution_count": null,
   "source": [
    "# standard imports\n",
    "import numpy as np\n",
    "from tqdm import tqdm\n",
    "import meshio\n",
    "import matplotlib.pyplot as plt\n",
    "from scipy.integrate import solve_ivp"
   ],
   "outputs": [],
   "metadata": {}
  },
  {
   "cell_type": "code",
   "execution_count": null,
   "source": [
    "# import geometry classes\n",
    "from geometry.node import node\n",
    "from geometry.cell import cell\n",
    "from geometry.mesh import rot_sym_mesh\n",
    "from problem.isentropic_navier_stokes import convection, diffusion, skalar_product, curl\n",
    "\n",
    "# utility functions\n",
    "from utilities.utilities import *\n",
    "from utilities.pod import get_POD, get_activations"
   ],
   "outputs": [],
   "metadata": {}
  },
  {
   "cell_type": "markdown",
   "source": [
    "# Setting Custom Problem"
   ],
   "metadata": {}
  },
  {
   "cell_type": "code",
   "execution_count": null,
   "source": [
    "# read su2 mesh file\n",
    "meshio_mesh = meshio.read(\"./mesh_files/mesh_cylinder_quad.su2\",file_format=\"su2\")\n",
    "# convert mesh into custom class exp_mesh\n",
    "mesh = rot_sym_mesh(meshio_mesh)"
   ],
   "outputs": [],
   "metadata": {}
  },
  {
   "cell_type": "markdown",
   "source": [
    "# Geometric Constants"
   ],
   "metadata": {}
  },
  {
   "cell_type": "code",
   "execution_count": null,
   "source": [
    "# DEFINING CONSTANTS\n",
    "n = mesh.n                  # number of nodes\n",
    "N = mesh.N                  # number of cells\n",
    "T = 220                     # number of snapshots\n",
    "alpha = 1                   # inner product coefficient  # method for derivative computation\n",
    "gamma = 1.4                 # isentropic coefficient -> material property\n",
    "max_POD = 40                # maximum number of POD modes\n",
    "mach = 0.6                  # mach number\n",
    "sos = 340.29                # isentropic speed of sound\n",
    "u_free = mach * sos         # freestream velocity\n",
    "Re = 100                    # Reynolds number of freeflow\n",
    "dt = 0.0001                 # simulation time step\n",
    "include_avg = False         # include average flow in POD computation\n",
    "nondim = False              # apply nondimensionalization to results\n",
    "subsampling = 6             # subsampling for data\n",
    "stabilization = \"viscosity\" # stabilization method for galerkin system\n",
    "controlled = False          # activate controlled system\n",
    "tau = 0                     # penalty term coefficient"
   ],
   "outputs": [],
   "metadata": {}
  },
  {
   "cell_type": "markdown",
   "source": [
    "# Data Preparation"
   ],
   "metadata": {}
  },
  {
   "cell_type": "code",
   "execution_count": null,
   "source": [
    "# reading file data\n",
    "data_dir  = \"./flow_data/lam_cyl_comp_air/mach 0.6/\"\n",
    "data_dict = read_csv_data(data_dir,delay=0,subsampling=subsampling,max_size=T)\n",
    "\n",
    "# geometric information\n",
    "x = data_dict[\"x\"][:,0] - 0.5\n",
    "y = data_dict[\"y\"][:,0]\n",
    "\n",
    "# fluid velocity and mach number\n",
    "u = np.divide(data_dict['Momentum_x'], data_dict['Density'])\n",
    "v = np.divide(data_dict['Momentum_y'], data_dict['Density'])\n",
    "a = data_dict['Mach']\n",
    "\n",
    "# construct state based data\n",
    "q = np.vstack([u,v,a])\n",
    "T = q.shape[1]\n",
    "q_avg = np.mean(q,1)\n",
    "q_fluc = q - np.repeat(np.expand_dims(q_avg,1),T,axis=1)\n",
    "\n",
    "# data for pod decomposition\n",
    "if include_avg:\n",
    "    pod_data = q\n",
    "else:\n",
    "    pod_data = q_fluc\n",
    "\n",
    "### set scalar weights for multiplicative computation\n",
    "# volume participations\n",
    "volume_weight = mesh.volume_weights\n",
    "# additional weight for speed of sound\n",
    "mach_weight = (2 * alpha / (gamma - 1))\n",
    "# construction of weights\n",
    "inner_weight = np.concatenate([np.ones(n),np.ones(n),mach_weight*np.ones(n)]) * volume_weight"
   ],
   "outputs": [],
   "metadata": {}
  },
  {
   "cell_type": "markdown",
   "source": [
    "# POD Decomposition"
   ],
   "metadata": {}
  },
  {
   "cell_type": "code",
   "execution_count": null,
   "source": [
    "[pod_modes, S] = get_POD(pod_data,inner_weight,20)\n",
    "coeffs = get_activations(pod_data,pod_modes,inner_weight,20)\n",
    "if nondim:\n",
    "    coeffs /= u_free"
   ],
   "outputs": [],
   "metadata": {}
  },
  {
   "cell_type": "code",
   "execution_count": null,
   "source": [
    "# energy reconstruction threshold\n",
    "epsilon = 0.99\n",
    "acc = 0\n",
    "num = 0\n",
    "while acc < epsilon:\n",
    "    num+=1\n",
    "    acc = sum(S[:num])/sum(S)    \n",
    "print(\"Number of eigenvectors necessary for thresholded reconstruction: \\t\" + str(num))\n",
    "if num % 2 == 1:\n",
    "    num+=1\n",
    "\n",
    "# manual value\n",
    "num = 8"
   ],
   "outputs": [],
   "metadata": {}
  },
  {
   "cell_type": "code",
   "execution_count": null,
   "source": [
    "# plot_activations(coeffs,8,dt=dt*subsampling)"
   ],
   "outputs": [],
   "metadata": {}
  },
  {
   "cell_type": "markdown",
   "source": [
    "# Control Data Input"
   ],
   "metadata": {}
  },
  {
   "cell_type": "code",
   "execution_count": null,
   "source": [
    "control_dir  = \"./flow_data/lam_cyl_comp_air/potVortex_0.6_1/\"\n",
    "control_dict = read_csv_data(control_dir,0,1,1)\n",
    "\n",
    "u_con = np.divide(control_dict['Momentum_x'], control_dict['Density'])\n",
    "v_con = np.divide(control_dict['Momentum_y'], control_dict['Density'])\n",
    "a_con = control_dict['Mach']\n",
    "\n",
    "# construct state based data\n",
    "q_con = np.vstack([u_con,v_con,a_con]).squeeze()"
   ],
   "outputs": [],
   "metadata": {}
  },
  {
   "cell_type": "markdown",
   "source": [
    "# Control Function Method\r\n",
    "Additional coefficients in Galerkin system"
   ],
   "metadata": {}
  },
  {
   "cell_type": "code",
   "execution_count": null,
   "source": [
    "# Computation of Galerkin control terms\n",
    "Lcon = diffusion(mesh,q_con)\n",
    "Qcon = convection(mesh,q_con,q_con)\n",
    "Qconavg_1 = convection(mesh,q_con,q_avg)\n",
    "Qconavg_2 = convection(mesh,q_avg,q_con)\n",
    "\n",
    "# initialize arrays\n",
    "d1 = np.empty(num)\n",
    "d2 = np.empty(num)\n",
    "f = np.empty(num)\n",
    "g = np.empty((num,num))\n",
    "h = np.empty(num)\n",
    "\n",
    "# compute temporary L and Q operators for projection\n",
    "tmp_1 = np.empty((num,3*n))\n",
    "tmp_2 = np.empty((num,3*n))\n",
    "for i in tqdm(range(num)):\n",
    "    tmp_1[i] = convection(mesh,q_con,pod_modes[:,i])\n",
    "    tmp_2[i] = convection(mesh,pod_modes[:,i],q_con)\n",
    "\n",
    "# compute finale coefficients\n",
    "for k in range(num):\n",
    "    d1[k] = skalar_product(Lcon,pod_modes[:,k],inner_weight)\n",
    "    d2[k] = skalar_product(Qconavg_1 + Qconavg_2,pod_modes[:,k],inner_weight)\n",
    "    f[k] = skalar_product(Qcon,pod_modes[:,k],inner_weight)\n",
    "    h[k] = skalar_product(q_con,pod_modes[:,k],inner_weight)\n",
    "    for i in range(num):\n",
    "        g[k,i] = skalar_product(tmp_1[i] + tmp_2[i],pod_modes[:,k],inner_weight)"
   ],
   "outputs": [],
   "metadata": {}
  },
  {
   "cell_type": "markdown",
   "source": [
    "# Galerkin Coefficients"
   ],
   "metadata": {}
  },
  {
   "cell_type": "code",
   "execution_count": null,
   "source": [
    "# Galerkin system coefficients\n",
    "# Computation of Galerkin system parameters\n",
    "Qavg = convection(mesh,q_avg,q_avg)\n",
    "Lavg = diffusion(mesh,q_avg)\n",
    "\n",
    "# initialize arrays for parameters\n",
    "b1 = np.empty(num)\n",
    "b2 = np.empty(num)\n",
    "L1 = np.empty((num,num))\n",
    "L2 = np.empty((num,num))\n",
    "Q_ = [np.empty((num,num,)) for x in range(num)]\n",
    "\n",
    "# compute L and Q operators for projection\n",
    "Q_tmp1 = np.empty((num,3*n))\n",
    "Q_tmp2 = np.empty((num,3*n))\n",
    "Q_tmp3 = np.empty((num,num,3*n))\n",
    "L_tmp = np.empty((num,3*n))\n",
    "\n",
    "for i in tqdm(range(num)):\n",
    "    Q_tmp1[i] = convection(mesh,q_avg,pod_modes[:,i])\n",
    "    Q_tmp2[i] = convection(mesh,pod_modes[:,i],q_avg)\n",
    "    L_tmp[i] = diffusion(mesh,pod_modes[:,i])\n",
    "    for j in range(num):\n",
    "        Q_tmp3[i,j] = convection(mesh,pod_modes[:,i],pod_modes[:,j])\n",
    "\n",
    "# compute ODE coefficients\n",
    "for k in tqdm(range(num)):\n",
    "    b1[k] = skalar_product(Lavg,pod_modes[:,k],inner_weight)\n",
    "    b2[k] = skalar_product(Qavg,pod_modes[:,k],inner_weight)\n",
    "    for i in range(num):\n",
    "        L1[k,i] = skalar_product(L_tmp[i],pod_modes[:,k],inner_weight)\n",
    "        L2[k,i] = skalar_product(np.add(Q_tmp1[i],Q_tmp2[i]),pod_modes[:,k],inner_weight)\n",
    "        for j in range(num):\n",
    "            Q_[k][i,j] = skalar_product(Q_tmp3[i,j],pod_modes[:,k],inner_weight)"
   ],
   "outputs": [],
   "metadata": {}
  },
  {
   "cell_type": "markdown",
   "source": [
    "# Galerkin System"
   ],
   "metadata": {}
  },
  {
   "cell_type": "code",
   "execution_count": null,
   "source": [
    "# initial conditions\n",
    "a0 = coeffs[:num,0]\n",
    "\n",
    "# temporal problem setup\n",
    "if mach == 0.6:\n",
    "    dt_ref = 0.0001 * subsampling\n",
    "    dt = 0.001\n",
    "    shed_period = 0.03\n",
    "\n",
    "elif mach == 0.1:\n",
    "    dt_ref = 0.001 * subsampling\n",
    "    dt = 0.001\n",
    "    shed_period = 0.18\n",
    "\n",
    "elif mach == 0.01:\n",
    "    dt_ref = 0.02 * subsampling\n",
    "    dt = 0.02\n",
    "    shed_period = 1.84\n",
    "\n",
    "temporal_factor = 1\n",
    "\n",
    "# temporal span for solver\n",
    "t0 = 0\n",
    "tmax = shed_period * 20 # 100\n",
    "\n",
    "sampling_span = np.linspace(t0,tmax-dt,num=int(tmax/dt))\n",
    "\n",
    "# dynamic viscosity for stabilization\n",
    "if stabilization==\"viscosity\":\n",
    "    if mach == 0.6:\n",
    "        # tuned\n",
    "        if num == 10:\n",
    "            nu = 4.09   # 10 modes\n",
    "        elif num == 8:\n",
    "            nu = 3.24   # 8 modes\n",
    "        elif num == 6:\n",
    "            nu = 3.07   # 6 modes\n",
    "        elif num == 4:\n",
    "            nu = 3.625  # 4 modes\n",
    "        elif num == 2:  \n",
    "            nu = 4.36   # 2 modes\n",
    "\n",
    "    elif mach == 0.1:\n",
    "        # tuned\n",
    "        if num == 10:\n",
    "            nu = 0.745   # 10 modes\n",
    "        elif num == 8:\n",
    "            nu = 0.7445  # 8 modes\n",
    "        elif num == 6:\n",
    "            nu = 0.7390  # 6 modes\n",
    "        elif num == 4:\n",
    "            nu = 0.7635  # 4 modes\n",
    "        elif num == 2:  \n",
    "            nu = 0.8625  # 2 modes\n",
    "\n",
    "    elif mach == 0.01:\n",
    "        # tuned\n",
    "        if num == 10:\n",
    "            nu = 0.1535  # 10 modes\n",
    "        elif num == 8:\n",
    "            nu = 0.151   # 8 modes\n",
    "        elif num == 6:\n",
    "            nu = 0.1515  # 6 modes\n",
    "        elif num == 4:\n",
    "            nu = 0.1515  # 4 modes\n",
    "        elif num == 2:  \n",
    "            nu = 0.1550  # 2 modes"
   ],
   "outputs": [],
   "metadata": {}
  },
  {
   "cell_type": "code",
   "execution_count": null,
   "source": [
    "# defining ode function for node based coefficients\n",
    "def galerkin_system(t,a):\n",
    "    # set global variables references\n",
    "    global Q_, L1, L2, b1, b2, nu\n",
    "    a_dot = np.empty_like(a)\n",
    "    for k in range(a_dot.shape[0]):\n",
    "        a_dot[k] = (nu * b1[k] + b2[k] + np.inner((nu * L1[k,:]+L2[k,:]),a) + np.matmul(np.matmul(np.expand_dims(a,1).T,Q_[k]),np.expand_dims(a,1))) \n",
    "    return a_dot"
   ],
   "outputs": [],
   "metadata": {}
  },
  {
   "cell_type": "code",
   "execution_count": null,
   "source": [
    "sol = solve_ivp(galerkin_system,(t0,tmax),a0,method='LSODA',t_eval=sampling_span)\n",
    "sol.message"
   ],
   "outputs": [],
   "metadata": {}
  },
  {
   "cell_type": "markdown",
   "source": [
    "# Comparison of Limit Cycles"
   ],
   "metadata": {}
  },
  {
   "cell_type": "code",
   "execution_count": null,
   "source": [
    "# Galerkin model \n",
    "d = int(num/2)\n",
    "fig,ax = plt.subplots(d,2,figsize=(15,10))\n",
    "fig.tight_layout(pad=3.0)\n",
    "\n",
    "t = sampling_span \n",
    "\n",
    "# add plots over full time domain\n",
    "for i in range(num):\n",
    "    if num <= 2:\n",
    "        ax[int(i%2)].plot(t[-100:],sol.y[i,-100:len(t)]/(sos * mach))\n",
    "        ax[int(i%2)].title.set_text(\"Activation for Eigenflow \" + str(i))\n",
    "    else:\n",
    "        ax[int(i/2)][int(i%2)].plot(t[-100:],sol.y[i,-100:len(t)]/(sos * mach))\n",
    "        ax[int(i/2)][int(i%2)].title.set_text(\"Activation for Eigenflow \" + str(i))\n",
    "#plt.savefig(\"mach_0.6_stabilized_av.png\")"
   ],
   "outputs": [],
   "metadata": {}
  },
  {
   "cell_type": "markdown",
   "source": [
    "# Reconstruction"
   ],
   "metadata": {}
  },
  {
   "cell_type": "code",
   "execution_count": null,
   "source": [
    "# reconstruct flows\n",
    "rec_len = 100\n",
    "ssubsampling = int(shed_period / dt_ref / 20)\n",
    "rec = np.repeat(np.expand_dims(q_avg,1),rec_len,1)\n",
    "for i in range(num):\n",
    "    rec += np.outer(pod_modes[:,i],sol.y[i,-100*ssubsampling::ssubsampling])"
   ],
   "outputs": [],
   "metadata": {}
  },
  {
   "cell_type": "code",
   "execution_count": null,
   "source": [
    "for i in range(100):\n",
    "    data = rec[0*n:1*n,i]/(sos * mach)\n",
    "    data[0] = q[:n,0].max()/(sos * mach) * 1.8\n",
    "    data[1] = q[:n,0].min()/(sos * mach)\n",
    "    plot_cylinder_data(x,y,data,zoom=True,cmap='twilight')\n",
    "    #fac = int(0.03 / (0.0001 * subsampling) / 20)\n",
    "    #plot_cylinder_data(x,y,q[0*n:1*n,i*fac]/(sos * mach), zoom=True, cmap='twilight')\n",
    "    #plt.savefig(str(i)+\".png\")\n",
    "    plt.close('all')"
   ],
   "outputs": [],
   "metadata": {}
  },
  {
   "cell_type": "markdown",
   "source": [
    "# Optimal Control - Controlled System Dynamics"
   ],
   "metadata": {}
  },
  {
   "cell_type": "code",
   "execution_count": null,
   "source": [
    "def controlled_galerkin_system(t,a):\n",
    "    # set global variables references\n",
    "    global Q_, L1, L2, b1, b2, nu\n",
    "    # \n",
    "    a_dot = np.empty_like(a)\n",
    "    for k in range(a_dot.shape[0]):\n",
    "        a_dot[k] = (nu * b1[k] + b2[k] + np.inner((nu*L1[k,:]+L2[k,:]),a) + np.matmul(np.matmul(np.expand_dims(a,1).T,Q_[k]),np.expand_dims(a,1))) + gamma(t) * (nu * d1[k] + d2[k] + np.inner(g[k],a) + gamma(t) * f[k]) + h[k] * dgamma(t)\n",
    "    return a_dot\n",
    "\n",
    "# parameterized control function - Active Control paper\n",
    "design_dim = 100\n",
    "design_vars = np.ones(design_dim)\n",
    "gamma_start = 0\n",
    "\n",
    "# temporal span for solver\n",
    "t0 = 0\n",
    "tmax = shed_period * 20 \n",
    "Nt = int(tmax/dt)\n",
    "sampling_span = np.linspace(t0,tmax-dt,num=int(tmax/dt))\n",
    "\n",
    "\n",
    "def gamma(t):\n",
    "    global shed_period, design_dim, gamma_start\n",
    "    T = shed_period\n",
    "    tmp = gamma_start * (1 - t / T) \n",
    "    for i in range(design_dim):\n",
    "        tmp += design_vars[i] * np.sin(i * np.pi * t / (T * 2))\n",
    "    return tmp\n",
    "\n",
    "def dgamma(t):\n",
    "    global shed_period, design_dim, gamma_start\n",
    "    tmp = - gamma_start * 1 / T \n",
    "    for i in range(design_dim):\n",
    "        tmp += design_vars[i] * np.cos(i * np.pi * t / (T * 2)) * (i * np.pi / (T * 2))\n",
    "    return tmp\n",
    "\n",
    "def discrete_gradient(a):\n",
    "    global dt, tmax, Nt, A, h, d1, d2, g, f, phi, gamma, dfdgamma, dfda ,design_dim, num\n",
    "    grad_tmp = np.zeros(design_dim)\n",
    "    for m in range(design_dim): # design variables\n",
    "        for n in range(Nt): # timesteps\n",
    "            tmp = 0\n",
    "            for k in range(num):\n",
    "                tmp_ = 0\n",
    "                for i in range(num):\n",
    "                    tmp_ += h[k] * A[n][k,i] * phi[i] + g[k,i] * a[n][i]\n",
    "                tmp += (tmp_ + nu * d1[k] + d2[k] + 2 * gamma(t)) * phi[n][k] - h[k] * dfda[n][k]\n",
    "            tmp += dfdgamma[n]\n",
    "            grad_tmp[m] += tmp * sin(m * n * np.pi * dt / (2 * tmax))\n",
    "    return dt * grad_tmp"
   ],
   "outputs": [],
   "metadata": {}
  },
  {
   "cell_type": "markdown",
   "source": [
    "AD Zyklus:\n",
    " - Gamma paramterisieren -> $\\beta_m$\n",
    " - $\\beta_m$ als Designvariablen deklarieren\n",
    " \n",
    "Zyklus:\n",
    "   - $\\gamma(\\beta_m)$ bestimmen\n",
    "   - $a(\\gamma)$ bestimmen\n",
    "   - Kostenfunktion $(a,\\gamma)$ berechnen\n",
    "   - AD mit codipack\n",
    "   - $\\beta$ mit AD Gradient updaten"
   ],
   "metadata": {}
  },
  {
   "cell_type": "markdown",
   "source": [
    "Optimierung Peraire:\n",
    "- $\\gamma(\\beta_m)$ \n",
    "- $a(\\gamma)$ bestimmen\n",
    "- $\\phi_k$ über zusätzliche ODE lösen\n",
    "- Gradientenfunktion( $a_k,\\gamma,\\phi_k$ ) bestimmen\n",
    "- Update $\\beta_k$"
   ],
   "metadata": {}
  },
  {
   "cell_type": "code",
   "execution_count": null,
   "source": [
    "sol = solve_ivp(controlled_galerkin_system,(t0,tmax),a0,method='LSODA',t_eval=sampling_span)\n",
    "sol.message"
   ],
   "outputs": [],
   "metadata": {}
  },
  {
   "cell_type": "code",
   "execution_count": null,
   "source": [
    "# Galerkin model \n",
    "d = int(num/2)\n",
    "fig,ax = plt.subplots(d,2,figsize=(15,10))\n",
    "fig.tight_layout(pad=3.0)\n",
    "\n",
    "t = sampling_span \n",
    "\n",
    "# add plots over full time domain\n",
    "for i in range(num):\n",
    "    if num <= 2:\n",
    "        ax[int(i%2)].plot(t[-100:],sol.y[i,-100:len(t)]/(sos * mach))\n",
    "        ax[int(i%2)].title.set_text(\"Activation for Eigenflow \" + str(i))\n",
    "    else:\n",
    "        ax[int(i/2)][int(i%2)].plot(t[-100:],sol.y[i,-100:len(t)]/(sos * mach))\n",
    "        ax[int(i/2)][int(i%2)].title.set_text(\"Activation for Eigenflow \" + str(i))"
   ],
   "outputs": [],
   "metadata": {}
  },
  {
   "cell_type": "code",
   "execution_count": null,
   "source": [
    "# reconstruct flows\n",
    "rec_len = 100\n",
    "ssubsampling = int(shed_period / dt_ref / 20)\n",
    "rec = np.repeat(np.expand_dims(q_avg,1),rec_len,1)\n",
    "for i in range(num):\n",
    "    rec += np.outer(pod_modes[:,i],sol.y[i,-100*ssubsampling::ssubsampling])\n",
    "\n",
    "for i in range(rec_len):\n",
    "    t = sampling_span[-100*ssubsampling::ssubsampling][i]\n",
    "    rec[:,i] += gamma(t) * q_con"
   ],
   "outputs": [],
   "metadata": {}
  },
  {
   "cell_type": "code",
   "execution_count": null,
   "source": [
    "plot_cylinder_data(x,y,rec[:n,22],zoom=True,cmap='twilight')"
   ],
   "outputs": [],
   "metadata": {}
  },
  {
   "cell_type": "code",
   "execution_count": null,
   "source": [],
   "outputs": [],
   "metadata": {}
  }
 ],
 "metadata": {
  "kernelspec": {
   "name": "python3",
   "display_name": "Python 3.8.10 64-bit"
  },
  "language_info": {
   "codemirror_mode": {
    "name": "ipython",
    "version": 3
   },
   "file_extension": ".py",
   "mimetype": "text/x-python",
   "name": "python",
   "nbconvert_exporter": "python",
   "pygments_lexer": "ipython3",
   "version": "3.8.10"
  },
  "interpreter": {
   "hash": "916dbcbb3f70747c44a77c7bcd40155683ae19c65e1c03b4aa3499c5328201f1"
  }
 },
 "nbformat": 4,
 "nbformat_minor": 5
}