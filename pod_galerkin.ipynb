{
 "cells": [
  {
   "cell_type": "code",
   "execution_count": null,
   "id": "5e163d35",
   "metadata": {},
   "outputs": [],
   "source": [
    "# standard imports\n",
    "import numpy as np\n",
    "import math\n",
    "import scipy\n",
    "import os\n",
    "import csv\n",
    "from tqdm import tqdm\n",
    "import meshio\n",
    "import matplotlib.pyplot as plt"
   ]
  },
  {
   "cell_type": "code",
   "execution_count": null,
   "id": "1ebadcd1",
   "metadata": {},
   "outputs": [],
   "source": [
    "# custom class imports\n",
    "from node import node\n",
    "from cell import cell\n",
    "from mesh import exp_mesh\n",
    "from derivatives import derivatives\n",
    "from fluid_problem import isentropic_fluid_problem\n",
    "\n",
    "# utility functions\n",
    "from utilities import *"
   ]
  },
  {
   "cell_type": "markdown",
   "id": "1028cb77",
   "metadata": {},
   "source": [
    "# Setting Problem"
   ]
  },
  {
   "cell_type": "code",
   "execution_count": null,
   "id": "91e34eea",
   "metadata": {},
   "outputs": [],
   "source": [
    "# read su2 mesh file\n",
    "meshio_mesh = meshio.read(\"./lam_cyl_comp_air/mesh_cylinder_quad.su2\",file_format=\"su2\")\n",
    "# define mid point for rotational symmetric mesh\n",
    "mid_point = np.array([0.5,0]) \n",
    "# convert mesh into custom class exp_mesh\n",
    "c_mesh = exp_mesh(meshio_mesh,mid_point)\n",
    "# declare problem instance\n",
    "comp_air = isentropic_fluid_problem(c_mesh)"
   ]
  },
  {
   "cell_type": "markdown",
   "id": "65c3e71d",
   "metadata": {},
   "source": [
    "# Loading Filedata"
   ]
  },
  {
   "cell_type": "code",
   "execution_count": null,
   "id": "ca9b34d9",
   "metadata": {},
   "outputs": [],
   "source": [
    "# reading file data\n",
    "data_dir=\"./lam_cyl_comp_air/restart/\"\n",
    "data_dict = get_flow_data(data_dir,1000,1,1102)"
   ]
  },
  {
   "cell_type": "markdown",
   "id": "565c713d",
   "metadata": {},
   "source": [
    "# Node based POD Decomposition"
   ]
  },
  {
   "cell_type": "code",
   "execution_count": null,
   "id": "7f9d65d8",
   "metadata": {},
   "outputs": [],
   "source": [
    "# configure state data \n",
    "q = np.vstack([data_dict[\"u\"],data_dict[\"v\"],data_dict[\"a\"]])\n",
    "q_avg = np.mean(q,1)\n",
    "q_fluc = q - np.repeat(np.expand_dims(q_avg,1),q.shape[1],axis=1)\n",
    "\n",
    "U, S, Vh = np.linalg.svd(q_fluc, full_matrices=False)\n",
    "\n",
    "# reconstruction threshold\n",
    "epsilon = 0.97 # [0,1]\n",
    "acc = 0\n",
    "num = 0\n",
    "while acc < epsilon:\n",
    "    num+=1\n",
    "    acc = sum(S[:num])/sum(S)    \n",
    "print(\"Number of eigenvectors necessary for thresholded reconstruction: \\t\" + str(num))\n",
    "if num % 2 ==1:\n",
    "    num+=1\n",
    "\n",
    "coeffs = np.matmul(np.transpose(U[:,:num]),q_fluc)"
   ]
  },
  {
   "cell_type": "code",
   "execution_count": null,
   "metadata": {},
   "outputs": [],
   "source": [
    "plt.plot(S)\n",
    "plt.grid()\n",
    "plt.yscale('log')"
   ]
  },
  {
   "cell_type": "code",
   "execution_count": null,
   "id": "d1a37723",
   "metadata": {
    "scrolled": true
   },
   "outputs": [],
   "source": [
    "x,y = get_x_y(data_dir)\n",
    "plot_eigenflows(x,y,U,c_mesh.n,num)"
   ]
  },
  {
   "cell_type": "code",
   "execution_count": null,
   "id": "7656d6c5",
   "metadata": {},
   "outputs": [],
   "source": [
    "# set timestep \n",
    "dt = 100\n",
    "t = np.linspace(0,(U.shape[1]-1)*dt,U.shape[1])\n",
    "\n",
    "# Galerkin model based on discrete reconstruction as q = \\bar{q}+\\sum_i^n a_i(t)*\\phi_i(x)\n",
    "fig,ax = plt.subplots(3,2,figsize=(15,10))\n",
    "fig.tight_layout(pad=3.0)\n",
    "\n",
    "# add plots over full time domain\n",
    "ax[0][0].plot(t,coeffs[0,:])\n",
    "ax[0][1].plot(t,coeffs[1,:])\n",
    "ax[1][0].plot(t,coeffs[2,:])\n",
    "ax[1][1].plot(t,coeffs[3,:])\n",
    "ax[2][0].plot(t,coeffs[4,:])\n",
    "ax[2][1].plot(t,coeffs[5,:])\n",
    "\n",
    "# set fixed time window to plot\n",
    "ax[0][0].set_xlim([0,t[-1]])\n",
    "ax[0][1].set_xlim([0,t[-1]])\n",
    "ax[1][0].set_xlim([0,t[-1]])\n",
    "ax[1][1].set_xlim([0,t[-1]])\n",
    "ax[2][0].set_xlim([0,t[-1]])\n",
    "ax[2][1].set_xlim([0,t[-1]])\n",
    "\n",
    "# Set titles\n",
    "ax[0][0].title.set_text(\"Activation for Eigenflow 0\")\n",
    "ax[0][1].title.set_text(\"Activation for Eigenflow 1\")\n",
    "ax[1][0].title.set_text(\"Activation for Eigenflow 2\")\n",
    "ax[1][1].title.set_text(\"Activation for Eigenflow 3\")\n",
    "ax[2][0].title.set_text(\"Activation for Eigenflow 4\")\n",
    "ax[2][1].title.set_text(\"Activation for Eigenflow 5\")"
   ]
  },
  {
   "cell_type": "markdown",
   "id": "ba34d01c",
   "metadata": {},
   "source": [
    "# Reconstruction of data"
   ]
  },
  {
   "cell_type": "code",
   "execution_count": null,
   "id": "1047d870",
   "metadata": {},
   "outputs": [],
   "source": [
    "# reconstruction \n",
    "rec = np.zeros(q.shape)\n",
    "rec += np.repeat(np.expand_dims(q_avg,1),coeffs.shape[1],1)\n",
    "rec +=  np.matmul(U[:,:num],coeffs[:num,:])"
   ]
  },
  {
   "cell_type": "code",
   "execution_count": null,
   "id": "866c43bc",
   "metadata": {},
   "outputs": [],
   "source": [
    "n = c_mesh.n\n",
    "sample = 0\n",
    "# computing total velocity!\n",
    "data = np.sqrt(np.multiply(rec[:n,sample],rec[:n,sample])+np.multiply(rec[n:2*n,sample],rec[n:2*n,sample]))\n",
    "real_data = np.sqrt(np.multiply(q[:n,sample],q[:n,sample])+np.multiply(q[n:2*n,sample],q[n:2*n,sample]))\n",
    "# visualizing\n",
    "fig,ax = plt.subplots(1,2,figsize=(20,6))\n",
    "plot_cylinder(x,y,data,cmap=get_cmap(False),ax=ax[0],clip=False)\n",
    "plot_cylinder(x,y,real_data,cmap=get_cmap(False),ax=ax[1],clip=False)"
   ]
  },
  {
   "cell_type": "markdown",
   "id": "294e3296",
   "metadata": {},
   "source": [
    "## Galerkin System"
   ]
  },
  {
   "cell_type": "code",
   "execution_count": null,
   "metadata": {},
   "outputs": [],
   "source": [
    "# compute cell based eigenvectors\n",
    "U_cell = np.empty((3*c_mesh.N,num))\n",
    "\n",
    "for i in range(num):\n",
    "   u = c_mesh.compute_cell_values_from_node_data(U[:c_mesh.n,i])\n",
    "   v = c_mesh.compute_cell_values_from_node_data(U[c_mesh.n:2*c_mesh.n,i])\n",
    "   a = c_mesh.compute_cell_values_from_node_data(U[2*c_mesh.n:3*c_mesh.n,i])\n",
    "   U_cell[:,i] = np.concatenate([u,v,a])\n"
   ]
  },
  {
   "cell_type": "code",
   "execution_count": null,
   "id": "09fc0448",
   "metadata": {},
   "outputs": [],
   "source": [
    "# Computation of Galerkin system parameters\n",
    "Qavg = comp_air.Q_operator(q_avg,q_avg)\n",
    "Lavg = comp_air.L_operator(q_avg)\n",
    "\n",
    "# initialie arrays for parameters\n",
    "b1 = np.empty(num)\n",
    "b2 = np.empty(num)\n",
    "L1 = np.empty((num,num))\n",
    "L2 = np.empty((num,num))\n",
    "Q = [np.empty((num,num,)) for x in range(num)]\n",
    "\n",
    "# defining parameter files\n",
    "coef_dir = \"./coefficients/\"\n",
    "b1_filename = coef_dir+\"b1\"\n",
    "b2_filename = coef_dir+\"b2\"\n",
    "L1_filename = coef_dir+\"L1\"\n",
    "L2_filename = coef_dir+\"L2\"\n",
    "Q_filename = coef_dir+\"Q\"\n",
    "\n",
    "# set computation flag\n",
    "compute_coefficients = True\n",
    "\n",
    "if os.path.exists(b1_filename):\n",
    "    b1 = np.load(b1_filename)\n",
    "if os.path.exists(b2_filename):\n",
    "    b2 = np.load(b2_filename)\n",
    "if os.path.exists(L1_filename):\n",
    "    L1 = np.load(L1_filename)\n",
    "if os.path.exists(L2_filename):\n",
    "    L2 = np.load(L2_filename)\n",
    "if os.path.exists(Q_filename):\n",
    "    Q = np.load(Q_filename) \n",
    "\n",
    "if compute_coefficients:\n",
    "    # compute L and Q operators for projection\n",
    "    Q_tmp1 = np.empty((num,3*len(c_mesh.cells)))\n",
    "    Q_tmp2 = np.empty((num,3*len(c_mesh.cells)))\n",
    "    Q_tmp3 = np.empty((num,num,3*len(c_mesh.cells)))\n",
    "    L_tmp = np.empty((num,3*len(c_mesh.cells)))\n",
    "    for i in tqdm(range(num)):\n",
    "        Q_tmp1[i] = comp_air.Q_operator(q_avg,U[:,i])\n",
    "        Q_tmp2[i] = comp_air.Q_operator(U[:,i],q_avg)\n",
    "        L_tmp[i] = comp_air.L_operator(U[:,i])\n",
    "        for j in range(num):\n",
    "            Q_tmp3[i,j] = comp_air.Q_operator(U[:,i],U[:,j])\n",
    "    \n",
    "    # compute ODE coefficients\n",
    "    for k in tqdm(range(num)):\n",
    "        b1[k] = comp_air.compute_inner_product(Lavg,U_cell[:,k])\n",
    "        b2[k] = comp_air.compute_inner_product(Qavg,U_cell[:,k])\n",
    "        for i in range(num):\n",
    "            L1[k,i] = comp_air.compute_inner_product(L_tmp[i],U_cell[:,k])\n",
    "            L2[k,i] = comp_air.compute_inner_product(Q_tmp1[i]+Q_tmp2[i],U_cell[:,k])\n",
    "            for j in range(num):\n",
    "                Q[k][i,j] = comp_air.compute_inner_product(Q_tmp3[i,j],U_cell[:,k])\n",
    "        \n",
    "    # saving coefficient arrays to files\n",
    "    np.save(b1_filename,b1)\n",
    "    np.save(b2_filename,b2)\n",
    "    np.save(L1_filename,L1)\n",
    "    np.save(L2_filename,L2)\n",
    "    np.save(Q_filename,Q)"
   ]
  },
  {
   "cell_type": "markdown",
   "id": "ffa6f20f",
   "metadata": {},
   "source": [
    "# Solving ODE system"
   ]
  },
  {
   "cell_type": "code",
   "execution_count": null,
   "id": "329f62eb",
   "metadata": {},
   "outputs": [],
   "source": [
    "# initial conditions for the activations are obtained as activations on the initial timeframe of the data matrix\n",
    "a0 = coeffs[:,0] #initial conditions\n",
    "dt = 1\n",
    "t0 = 0\n",
    "tmax = 4000\n",
    "sampling_span = np.linspace(t0,tmax-dt,num=int(tmax/dt))\n",
    "# static viscosity\n",
    "nu = 1.516e-5\n",
    "\n",
    "# defining ode function\n",
    "def galerkin_system(t,a):\n",
    "    # set global variables references\n",
    "    global Q, L1, L2, b1, b2, nu\n",
    "    a_dot = np.empty_like(a)\n",
    "    for k in range(a_dot.shape[0]):\n",
    "        # the vector notation makes np.matmul automatically reduce to a one dimensional output therefore normal multiplication can be used to get vector shape\n",
    "        # the indexed vectors L1 and L2 form columnvectors (automatically)\n",
    "        a_dot[k] = nu * b1[k] + b2[k] + np.matmul((nu*L1[k,:]+L2[k,:]),a) + np.matmul(np.matmul(np.expand_dims(a,1).T,Q[k]),np.expand_dims(a,1))\n",
    "    return a_dot.flatten()"
   ]
  },
  {
   "cell_type": "code",
   "execution_count": null,
   "id": "34eb5962",
   "metadata": {},
   "outputs": [],
   "source": [
    "from scipy.integrate import solve_ivp\n",
    "sol = solve_ivp(galerkin_system,(t0,tmax),a0,method='RK45',t_eval=sampling_span,atol=1e-12,rtol=1e-12)\n",
    "sol"
   ]
  },
  {
   "cell_type": "code",
   "execution_count": null,
   "id": "88513287",
   "metadata": {},
   "outputs": [],
   "source": [
    "def reconstruct_flow(activations,U,avg,num,rang=(0,100)):\n",
    "    low,high = rang\n",
    "    flow = np.repeat(np.expand_dims(avg,1),high-low,1)\n",
    "    for i in range(num):\n",
    "         flow += np.outer(U[:,i],activations[i,low:high])\n",
    "    return flow"
   ]
  },
  {
   "cell_type": "code",
   "execution_count": null,
   "id": "83f9a731",
   "metadata": {},
   "outputs": [],
   "source": [
    "# Galerkin model based on discrete reconstruction as q = \\bar{q}+\\sum_i^n a_i(t)*\\phi_i(x)\n",
    "fig,ax = plt.subplots(3,2,figsize=(15,10))\n",
    "fig.tight_layout(pad=3.0)\n",
    "\n",
    "t = sampling_span\n",
    "\n",
    "# add plots over full time domain\n",
    "ax[0][0].plot(t,sol.y[0,:len(t)])\n",
    "ax[0][1].plot(t,sol.y[1,:len(t)])\n",
    "ax[1][0].plot(t,sol.y[2,:len(t)])\n",
    "ax[1][1].plot(t,sol.y[3,:len(t)])\n",
    "ax[2][0].plot(t,sol.y[4,:len(t)])\n",
    "ax[2][1].plot(t,sol.y[5,:len(t)])\n",
    "\n",
    "# Set titles\n",
    "ax[0][0].title.set_text(\"Activation for Eigenflow 0\")\n",
    "ax[0][1].title.set_text(\"Activation for Eigenflow 1\")\n",
    "ax[1][0].title.set_text(\"Activation for Eigenflow 2\")\n",
    "ax[1][1].title.set_text(\"Activation for Eigenflow 3\")\n",
    "ax[2][0].title.set_text(\"Activation for Eigenflow 4\")\n",
    "ax[2][1].title.set_text(\"Activation for Eigenflow 5\")"
   ]
  },
  {
   "cell_type": "code",
   "execution_count": null,
   "id": "0982c6ff",
   "metadata": {},
   "outputs": [],
   "source": [
    "rec = reconstruct_flow(sol.y,U,q_avg,num,rang=(2000,2300))"
   ]
  },
  {
   "cell_type": "code",
   "execution_count": null,
   "id": "f7d397ca",
   "metadata": {},
   "outputs": [],
   "source": [
    "sample = 100\n",
    "# computing total velocity!\n",
    "data = np.sqrt(np.multiply(rec[:n,sample],rec[:n,sample])+np.multiply(rec[n:2*n,sample],rec[n:2*n,sample]))\n",
    "real_data = np.sqrt(np.multiply(q[:n,sample],q[:n,sample])+np.multiply(q[n:2*n,sample],q[n:2*n,sample]))\n",
    "# visualizing\n",
    "fig,ax = plt.subplots(1,2,figsize=(20,6))\n",
    "plot_cylinder(x,y,data,cmap=get_cmap(False),ax=ax[0],clip=False)\n",
    "plot_cylinder(x,y,real_data,cmap=get_cmap(False),ax=ax[1],clip=False)"
   ]
  },
  {
   "cell_type": "code",
   "execution_count": null,
   "metadata": {},
   "outputs": [],
   "source": []
  }
 ],
 "metadata": {
  "kernelspec": {
   "name": "python3",
   "display_name": "Python 3.9.5 64-bit"
  },
  "language_info": {
   "codemirror_mode": {
    "name": "ipython",
    "version": 3
   },
   "file_extension": ".py",
   "mimetype": "text/x-python",
   "name": "python",
   "nbconvert_exporter": "python",
   "pygments_lexer": "ipython3",
   "version": "3.9.5"
  },
  "interpreter": {
   "hash": "5c2a26602e28ad08aeb3db5218c8af55fd3775ea6ffbecb1728e15703c31277b"
  }
 },
 "nbformat": 4,
 "nbformat_minor": 5
}