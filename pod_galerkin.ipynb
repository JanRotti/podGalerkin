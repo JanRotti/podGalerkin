{
 "cells": [
  {
   "cell_type": "code",
   "execution_count": null,
   "id": "5e163d35",
   "metadata": {},
   "outputs": [],
   "source": [
    "# standard imports\n",
    "import numpy as np\n",
    "from tqdm import tqdm\n",
    "import meshio\n",
    "import matplotlib.pyplot as plt"
   ]
  },
  {
   "cell_type": "code",
   "execution_count": null,
   "id": "1ebadcd1",
   "metadata": {},
   "outputs": [],
   "source": [
    "# import geometry classes\n",
    "from geometry.node import node\n",
    "from geometry.cell import cell\n",
    "from geometry.mesh import rot_sym_mesh\n",
    "from problem.isentropic_navier_stokes import convection, diffusion, skalar_product,curl\n",
    "\n",
    "# utility functions\n",
    "from utilities.utilities import *\n",
    "from utilities.pod import get_POD, get_activations"
   ]
  },
  {
   "cell_type": "markdown",
   "id": "1028cb77",
   "metadata": {},
   "source": [
    "# Setting Custom Problem"
   ]
  },
  {
   "cell_type": "code",
   "execution_count": null,
   "id": "91e34eea",
   "metadata": {},
   "outputs": [],
   "source": [
    "# read su2 mesh file\n",
    "meshio_mesh = meshio.read(\"./mesh_files/mesh_cylinder_quad.su2\",file_format=\"su2\")\n",
    "# convert mesh into custom class exp_mesh\n",
    "mesh = rot_sym_mesh(meshio_mesh)"
   ]
  },
  {
   "source": [
    "# Geometric Constants"
   ],
   "cell_type": "markdown",
   "metadata": {}
  },
  {
   "cell_type": "code",
   "execution_count": null,
   "metadata": {},
   "outputs": [],
   "source": [
    "# DEFINING CONSTANTS\n",
    "n = mesh.n          # number of nodes\n",
    "N = mesh.N          # number of cells\n",
    "T = 180             # number of snapshots\n",
    "alpha = 1           # inner product coefficient  # method for derivative computation\n",
    "gamma = 1.4         # isentropic coefficient -> material property\n",
    "max_POD = 40        # maximum number of POD modes\n",
    "mach = 0.6          # mach number\n",
    "sos = 340.29        # isentropic speed of sound\n",
    "u_free = mach * sos # freestream velocity\n",
    "Re = 100            # Reynolds number of freeflow\n",
    "include_avg = False # include average flow in POD computation\n",
    "nondim = True       # apply nondimensionalization to data"
   ]
  },
  {
   "cell_type": "markdown",
   "id": "65c3e71d",
   "metadata": {},
   "source": [
    "# Data Preparation"
   ]
  },
  {
   "cell_type": "code",
   "execution_count": null,
   "id": "ca9b34d9",
   "metadata": {},
   "outputs": [],
   "source": [
    "# reading file data\n",
    "data_dir  = \"./flow_data./lam_cyl_comp_air/mach 0.6/\"\n",
    "data_dict = read_csv_data(data_dir,delay=0,subsampling=6,max_size=T)\n",
    "\n",
    "# geometric information\n",
    "x = data_dict[\"x\"][:,0] - 0.5\n",
    "y = data_dict[\"y\"][:,0]\n",
    "\n",
    "# fluid velocity and mach number\n",
    "u = np.divide(data_dict['Momentum_x'], data_dict['Density'])\n",
    "v = np.divide(data_dict['Momentum_y'], data_dict['Density'])\n",
    "if nondim:\n",
    "    u = u / (mach * sos)\n",
    "    v = v / (mach * sos)\n",
    "    u_free = 1\n",
    "a = data_dict['Mach']\n",
    "\n",
    "# construct state based data\n",
    "q = np.vstack([u,v,a])\n",
    "T = q.shape[1]\n",
    "q_avg = np.mean(q,1)\n",
    "q_fluc = q - np.repeat(np.expand_dims(q_avg,1),T,axis=1)\n",
    "\n",
    "# data for pod decomposition\n",
    "if include_avg:\n",
    "    pod_data = q\n",
    "else:\n",
    "    pod_data = q_fluc\n",
    "\n",
    "### set scalar weights for multiplicative computation\n",
    "# volume participations\n",
    "volume_weight = mesh.volume_weights\n",
    "# additional weight for speed of sound\n",
    "mach_weight = (2 * alpha / (gamma - 1))\n",
    "# construction of weights\n",
    "inner_weight = np.concatenate([np.ones(n),np.ones(n),mach_weight*np.ones(n)]) * volume_weight"
   ]
  },
  {
   "cell_type": "markdown",
   "id": "565c713d",
   "metadata": {},
   "source": [
    "# POD Decomposition"
   ]
  },
  {
   "cell_type": "code",
   "execution_count": null,
   "metadata": {},
   "outputs": [],
   "source": [
    "[pod_modes, S] = get_POD(pod_data,inner_weight,20)\n",
    "coeffs = get_activations(pod_data,pod_modes,inner_weight,20)"
   ]
  },
  {
   "cell_type": "code",
   "execution_count": null,
   "metadata": {},
   "outputs": [],
   "source": [
    "# energy reconstruction threshold\n",
    "epsilon = 0.99\n",
    "acc = 0\n",
    "num = 0\n",
    "while acc < epsilon:\n",
    "    num+=1\n",
    "    acc = sum(S[:num])/sum(S)    \n",
    "print(\"Number of eigenvectors necessary for thresholded reconstruction: \\t\" + str(num))\n",
    "if num % 2 == 1:\n",
    "    num+=1\n",
    "\n",
    "# manual value\n",
    "num = 8"
   ]
  },
  {
   "cell_type": "code",
   "execution_count": null,
   "id": "7656d6c5",
   "metadata": {},
   "outputs": [],
   "source": [
    "plot_activations(coeffs,8)"
   ]
  },
  {
   "source": [
    "# Galerkin system"
   ],
   "cell_type": "markdown",
   "metadata": {}
  },
  {
   "cell_type": "code",
   "execution_count": null,
   "metadata": {},
   "outputs": [],
   "source": [
    "# Galerkin system coefficients\n",
    "# Computation of Galerkin system parameters\n",
    "Qavg = convection(mesh,q_avg,q_avg)\n",
    "Lavg = diffusion(mesh,q_avg)\n",
    "\n",
    "# initialie arrays for parameters\n",
    "b1 = np.empty(num)\n",
    "b2 = np.empty(num)\n",
    "L1 = np.empty((num,num))\n",
    "L2 = np.empty((num,num))\n",
    "Q_ = [np.empty((num,num,)) for x in range(num)]\n",
    "\n",
    "# compute L and Q operators for projection\n",
    "Q_tmp1 = np.empty((num,3*n))\n",
    "Q_tmp2 = np.empty((num,3*n))\n",
    "Q_tmp3 = np.empty((num,num,3*n))\n",
    "L_tmp = np.empty((num,3*n))\n",
    "\n",
    "for i in tqdm(range(num)):\n",
    "    Q_tmp1[i] = convection(mesh,q_avg,pod_modes[:,i])\n",
    "    Q_tmp2[i] = convection(mesh,pod_modes[:,i],q_avg)\n",
    "    L_tmp[i] = diffusion(mesh,pod_modes[:,i])\n",
    "    for j in range(num):\n",
    "        Q_tmp3[i,j] = convection(mesh,pod_modes[:,i],pod_modes[:,j])\n",
    "\n",
    "# compute ODE coefficients\n",
    "for k in tqdm(range(num)):\n",
    "    b1[k] = skalar_product(Lavg,pod_modes[:,k],inner_weight)\n",
    "    b2[k] = skalar_product(Qavg,pod_modes[:,k],inner_weight)\n",
    "    for i in range(num):\n",
    "        L1[k,i] = skalar_product(L_tmp[i],pod_modes[:,k],inner_weight)\n",
    "        L2[k,i] = skalar_product(np.add(Q_tmp1[i],Q_tmp2[i]),pod_modes[:,k],inner_weight)\n",
    "        for j in range(num):\n",
    "            Q_[k][i,j] = skalar_product(Q_tmp3[i,j],pod_modes[:,k],inner_weight)"
   ]
  },
  {
   "cell_type": "code",
   "execution_count": null,
   "metadata": {
    "tags": []
   },
   "outputs": [],
   "source": [
    "### bc penalty term\n",
    "# velocity on boundary \n",
    "boundary_weight = np.zeros(3*n)\n",
    "\n",
    "# compute ds\n",
    "rad = mesh.points_pol[-200,0]\n",
    "ds = 2 * np.pi * rad / 200\n",
    "\n",
    "# set boundary weights for skalar product\n",
    "boundary_weight[n-200:n] = ds\n",
    "boundary_weight[2*n-200:2*n] = ds\n",
    "boundary_weight[3*n-200:3*n] = ds * mach_weight\n",
    "\n",
    "#\n",
    "q_inf = np.concatenate([np.repeat(u_free,n),np.zeros(n),np.repeat(0.6,n)])\n",
    "\n",
    "# \n",
    "G1 = np.empty((num,num))\n",
    "G2 = np.empty(num)\n",
    "for i in range(num):\n",
    "    for j in range(i,num):\n",
    "        G1[i,j] = skalar_product(pod_modes[:,i],pod_modes[:,j],boundary_weight)\n",
    "        G1[j,i] = G1[i,j]\n",
    "    G2[i] = skalar_product(pod_modes[:,i],q_inf,boundary_weight)"
   ]
  },
  {
   "source": [
    "# initial conditions\n",
    "a0 = coeffs[:num,0]\n",
    "\n",
    "# sampling span for solver\n",
    "t0 = 0\n",
    "dt = 0.01\n",
    "tmax = 30\n",
    "sampling_span = np.linspace(t0,tmax-dt,num=int(tmax/dt))\n",
    "tau = 5\n",
    "# static viscosity\n",
    "nu = 4/100\n",
    "\n",
    "# defining ode function for node based coefficients\n",
    "def galerkin_system(t,a):\n",
    "    # set global variables references\n",
    "    global Q_, L1, L2, b1, b2, nu\n",
    "    \n",
    "    a_dot = np.empty_like(a)\n",
    "    \n",
    "    for k in range(a_dot.shape[0]):\n",
    "        a_dot[k] = (nu * b1[k] + b2[k] + np.inner((nu*L1[k,:]+L2[k,:]),a) + np.matmul(np.matmul(np.expand_dims(a,1).T,Q_[k]),np.expand_dims(a,1))) # - (tau * (np.inner(G1[k,:],a) - G2[k]))\n",
    "    return a_dot"
   ],
   "cell_type": "code",
   "metadata": {},
   "execution_count": null,
   "outputs": []
  },
  {
   "cell_type": "code",
   "execution_count": null,
   "metadata": {},
   "outputs": [],
   "source": [
    "from scipy.integrate import solve_ivp\n",
    "sol = solve_ivp(galerkin_system,(t0,tmax),a0,method='LSODA',t_eval=sampling_span)\n",
    "sol.message"
   ]
  },
  {
   "cell_type": "code",
   "execution_count": null,
   "metadata": {},
   "outputs": [],
   "source": [
    "# Galerkin model based on discrete reconstruction as q = \\bar{q}+\\sum_i^n a_i(t)*\\phi_i(x)\n",
    "d = int(num/2)\n",
    "fig,ax = plt.subplots(d,2,figsize=(15,10))\n",
    "fig.tight_layout(pad=3.0)\n",
    "\n",
    "t = sampling_span\n",
    "\n",
    "# add plots over full time domain\n",
    "for i in range(num):\n",
    "    if num <= 2:\n",
    "        ax[int(i%2)].plot(t,sol.y[i,:len(t)])\n",
    "        ax[int(i%2)].title.set_text(\"Activation for Eigenflow \" + str(i))\n",
    "    else:\n",
    "        ax[int(i/2)][int(i%2)].plot(t,sol.y[i,:len(t)])\n",
    "        ax[int(i/2)][int(i%2)].title.set_text(\"Activation for Eigenflow \" + str(i))"
   ]
  },
  {
   "source": [],
   "cell_type": "markdown",
   "metadata": {}
  },
  {
   "cell_type": "code",
   "execution_count": null,
   "metadata": {},
   "outputs": [],
   "source": []
  }
 ],
 "metadata": {
  "kernelspec": {
   "name": "python3",
   "display_name": "Python 3.9.5 64-bit"
  },
  "language_info": {
   "codemirror_mode": {
    "name": "ipython",
    "version": 3
   },
   "file_extension": ".py",
   "mimetype": "text/x-python",
   "name": "python",
   "nbconvert_exporter": "python",
   "pygments_lexer": "ipython3",
   "version": "3.9.5"
  },
  "interpreter": {
   "hash": "5c2a26602e28ad08aeb3db5218c8af55fd3775ea6ffbecb1728e15703c31277b"
  }
 },
 "nbformat": 4,
 "nbformat_minor": 5
}