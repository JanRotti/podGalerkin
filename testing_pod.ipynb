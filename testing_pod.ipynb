{
 "cells": [
  {
   "cell_type": "code",
   "execution_count": 2,
   "id": "5e163d35",
   "metadata": {},
   "outputs": [],
   "source": [
    "# standard imports\n",
    "import numpy as np\n",
    "import os\n",
    "import csv\n",
    "from tqdm import tqdm\n",
    "import meshio\n",
    "import matplotlib.pyplot as plt"
   ]
  },
  {
   "cell_type": "code",
   "execution_count": 3,
   "id": "1ebadcd1",
   "metadata": {},
   "outputs": [],
   "source": [
    "# custom class imports\n",
    "from node import node\n",
    "from cell import cell\n",
    "from mesh import exp_mesh\n",
    "from derivatives import *\n",
    "from fluid_problem import isentropic_fluid_problem\n",
    "\n",
    "# utility functions\n",
    "from utilities_modified import *\n",
    "from isentropic_navier_stokes import Q,L,inner_product"
   ]
  },
  {
   "cell_type": "markdown",
   "id": "1028cb77",
   "metadata": {},
   "source": [
    "# Setting Problem"
   ]
  },
  {
   "cell_type": "code",
   "execution_count": 4,
   "id": "91e34eea",
   "metadata": {},
   "outputs": [
    {
     "output_type": "stream",
     "name": "stderr",
     "text": [
      "WARNING:root:meshio does not support tags of string type.\n",
      "    Surface tag  cylinder will be replaced by 1\n",
      "WARNING:root:meshio does not support tags of string type.\n",
      "    Surface tag  farfield will be replaced by 2\n",
      "-----------------------Custom mesh initialization started-----------------------\n",
      "------------Shifted and Cylinder coordinates calculated and stored!-------------\n",
      "-------------------Cell volumes computed in cell structures!--------------------\n",
      "-------------------Cell centers computed in cell structures!--------------------\n",
      "----------------------------Node neighbors assigned!----------------------------\n",
      "----------------------Nodal volume participation computed!----------------------\n",
      "---------------------Custom mesh initialized successfully!----------------------\n"
     ]
    }
   ],
   "source": [
    "# read su2 mesh file\n",
    "meshio_mesh = meshio.read(\"./lam_cyl_comp_air/mesh_cylinder_quad.su2\",file_format=\"su2\")\n",
    "# define mid point for rotational symmetric mesh\n",
    "mid_point = np.array([0.5,0]) \n",
    "# convert mesh into custom class exp_mesh\n",
    "mesh = exp_mesh(meshio_mesh,mid_point)"
   ]
  },
  {
   "cell_type": "markdown",
   "id": "65c3e71d",
   "metadata": {},
   "source": [
    "# Loading Filedata"
   ]
  },
  {
   "cell_type": "code",
   "execution_count": 25,
   "id": "ca9b34d9",
   "metadata": {},
   "outputs": [
    {
     "output_type": "stream",
     "name": "stderr",
     "text": [
      "100%|██████████| 180/180 [00:59<00:00,  3.00it/s]\n"
     ]
    }
   ],
   "source": [
    "# reading file data\n",
    "data_dir=\"./lam_cyl_comp_air/mach 0.01/\"\n",
    "file_name_structure = \"restart_flow_\"\n",
    "data_dict = read_csv_data(data_dir,file_name_structure,delay=5000,subsampling=2,max_size=180)"
   ]
  },
  {
   "cell_type": "markdown",
   "id": "565c713d",
   "metadata": {},
   "source": [
    "# Data Construction"
   ]
  },
  {
   "cell_type": "code",
   "execution_count": 26,
   "metadata": {},
   "outputs": [
    {
     "output_type": "execute_result",
     "data": {
      "text/plain": [
       "dict_keys(['PointID', 'x', 'y', 'Density', 'Momentum_x', 'Momentum_y', 'Energy', 'Pressure', 'Temperature', 'Mach', 'Pressure_Coefficient', 'Laminar_Viscosity', 'Skin_Friction_Coefficient_x', 'Skin_Friction_Coefficient_y', 'Heat_Flux', 'Y_Plus'])"
      ]
     },
     "metadata": {},
     "execution_count": 26
    }
   ],
   "source": [
    "data_dict.keys()"
   ]
  },
  {
   "cell_type": "code",
   "execution_count": 27,
   "metadata": {},
   "outputs": [],
   "source": [
    "x = data_dict[\"x\"][:,0] - 0.5\n",
    "y = data_dict[\"y\"][:,0]\n",
    "u = np.divide(data_dict['Momentum_x'],data_dict['Density'])\n",
    "v = np.divide(data_dict['Momentum_y'],data_dict['Density'])\n",
    "a = data_dict['Mach']\n",
    "n = len(x)"
   ]
  },
  {
   "source": [],
   "cell_type": "markdown",
   "metadata": {}
  },
  {
   "source": [
    "# POD Decomposition"
   ],
   "cell_type": "markdown",
   "metadata": {}
  },
  {
   "cell_type": "code",
   "execution_count": 28,
   "id": "7f9d65d8",
   "metadata": {},
   "outputs": [],
   "source": [
    "# configure state data \n",
    "q = np.vstack([u,v,a])\n",
    "q_avg = np.mean(q,1)\n",
    "q_fluc = q - np.repeat(np.expand_dims(q_avg,1),q.shape[1],axis=1)"
   ]
  },
  {
   "source": [
    "### Euclidean POD Modes"
   ],
   "cell_type": "markdown",
   "metadata": {}
  },
  {
   "cell_type": "code",
   "execution_count": 29,
   "metadata": {},
   "outputs": [
    {
     "output_type": "stream",
     "name": "stdout",
     "text": [
      "Number of eigenvectors necessary for thresholded reconstruction: \t4\n"
     ]
    }
   ],
   "source": [
    "U, S, Vh = np.linalg.svd(q_fluc, full_matrices=False)\n",
    "\n",
    "# reconstruction threshold\n",
    "epsilon = 0.97 # [0,1]\n",
    "acc = 0\n",
    "num = 0\n",
    "while acc < epsilon:\n",
    "    num+=1\n",
    "    acc = sum(S[:num])/sum(S)    \n",
    "print(\"Number of eigenvectors necessary for thresholded reconstruction: \\t\" + str(num))\n",
    "if num % 2 ==1:\n",
    "    num+=1\n",
    "\n",
    "coeffs_eucl = np.matmul(np.transpose(U[:,:num]),q_fluc)\n",
    "pod_modes_eucl = U"
   ]
  },
  {
   "source": [
    "### Isentropic POD Modes"
   ],
   "cell_type": "markdown",
   "metadata": {}
  },
  {
   "cell_type": "code",
   "execution_count": 30,
   "metadata": {},
   "outputs": [
    {
     "output_type": "stream",
     "name": "stderr",
     "text": [
      "100%|██████████| 180/180 [09:12<00:00,  3.07s/it]\n"
     ]
    }
   ],
   "source": [
    "T = q.shape[1]\n",
    "C = np.empty((T,T))\n",
    "alpha = 1\n",
    "for i in tqdm(range(T)):\n",
    "    for j in range(i,T):\n",
    "        C[i,j] = (1/T) * inner_product(mesh,q_fluc[:,i],q_fluc[:,j],alpha)\n",
    "        C[j,i] = C[i,j]"
   ]
  },
  {
   "cell_type": "code",
   "execution_count": 31,
   "metadata": {},
   "outputs": [
    {
     "output_type": "stream",
     "name": "stdout",
     "text": [
      "Number of eigenvectors necessary for thresholded reconstruction: \t2\n"
     ]
    }
   ],
   "source": [
    "S,V =  np.linalg.eig(C)\n",
    "\n",
    "epsilon = 0.97 # [0,1]\n",
    "acc = 0\n",
    "num = 0\n",
    "while acc < epsilon:\n",
    "    num+=1\n",
    "    acc = sum(S[:num])/sum(S)    \n",
    "print(\"Number of eigenvectors necessary for thresholded reconstruction: \\t\" + str(num))\n",
    "if num % 2 == 1:\n",
    "    num+=1\n",
    "num = 6"
   ]
  },
  {
   "cell_type": "code",
   "execution_count": 32,
   "metadata": {},
   "outputs": [],
   "source": [
    "# construct spatial POD Modes - not normalized\n",
    "pod_modes = np.zeros((q.shape[0],q.shape[1]))\n",
    "for i in range(len(S)):\n",
    "    pod_modes += np.outer(q_fluc[:,i],V[i,:])\n",
    "\n",
    "# normalizing POD Modes\n",
    "for i in range(len(S)):\n",
    "    pod_modes[:,i]/=np.sqrt(inner_product(mesh,pod_modes[:,i],pod_modes[:,i],alpha))"
   ]
  },
  {
   "source": [
    "# Solve for Optimal Activations"
   ],
   "cell_type": "markdown",
   "metadata": {}
  },
  {
   "cell_type": "code",
   "execution_count": 33,
   "metadata": {},
   "outputs": [],
   "source": [
    "coeffs = np.matmul(np.linalg.pinv(pod_modes),q_fluc) # isentropic\n",
    "coeffs_eucl = coeffs_eucl # euclidean "
   ]
  },
  {
   "cell_type": "code",
   "execution_count": 47,
   "metadata": {},
   "outputs": [],
   "source": [
    "# plotting activations\n",
    "def plot_activations(coeffs):\n",
    "    dt = 1 \n",
    "    t = np.linspace(0,(coeffs.shape[1]-1)*dt,coeffs.shape[1])\n",
    "\n",
    "    rows = int(np.ceil(num/2))\n",
    "    fig,ax = plt.subplots(rows,2,figsize=(7.5*rows,10))\n",
    "    fig.tight_layout(pad=3.0)\n",
    "    if rows==1:\n",
    "        ax[0].plot(t,coeffs[0,:])\n",
    "        ax[0].title.set_text(\"Activation for Eigenflow 0\")\n",
    "        ax[1].plot(t,coeffs[1,:])\n",
    "        ax[1].title.set_text(\"Activation for Eigenflow 1\")\n",
    "    else:\n",
    "        for i in range(rows):\n",
    "            print(i)\n",
    "            ax[i][0].plot(t,coeffs[2*i,:])\n",
    "            ax[i][0].title.set_text(\"Activation for Eigenflow \" + str(2*i))\n",
    "            ax[i][1].plot(t,coeffs[2*i+1,:])\n",
    "            ax[i][1].title.set_text(\"Activation for Eigenflow \" + str(2*i+1))"
   ]
  },
  {
   "cell_type": "code",
   "execution_count": 48,
   "metadata": {},
   "outputs": [
    {
     "output_type": "stream",
     "name": "stdout",
     "text": [
      "3\n0\n1\n2\n"
     ]
    },
    {
     "output_type": "error",
     "ename": "IndexError",
     "evalue": "index 4 is out of bounds for axis 0 with size 4",
     "traceback": [
      "\u001b[1;31m---------------------------------------------------------------------------\u001b[0m",
      "\u001b[1;31mIndexError\u001b[0m                                Traceback (most recent call last)",
      "\u001b[1;32m<ipython-input-48-92a4a3913480>\u001b[0m in \u001b[0;36m<module>\u001b[1;34m\u001b[0m\n\u001b[1;32m----> 1\u001b[1;33m \u001b[0mplot_activations\u001b[0m\u001b[1;33m(\u001b[0m\u001b[0mcoeffs_eucl\u001b[0m\u001b[1;33m)\u001b[0m\u001b[1;33m\u001b[0m\u001b[1;33m\u001b[0m\u001b[0m\n\u001b[0m",
      "\u001b[1;32m<ipython-input-47-ea224d03220d>\u001b[0m in \u001b[0;36mplot_activations\u001b[1;34m(coeffs)\u001b[0m\n\u001b[0;32m     16\u001b[0m         \u001b[1;32mfor\u001b[0m \u001b[0mi\u001b[0m \u001b[1;32min\u001b[0m \u001b[0mrange\u001b[0m\u001b[1;33m(\u001b[0m\u001b[0mrows\u001b[0m\u001b[1;33m)\u001b[0m\u001b[1;33m:\u001b[0m\u001b[1;33m\u001b[0m\u001b[1;33m\u001b[0m\u001b[0m\n\u001b[0;32m     17\u001b[0m             \u001b[0mprint\u001b[0m\u001b[1;33m(\u001b[0m\u001b[0mi\u001b[0m\u001b[1;33m)\u001b[0m\u001b[1;33m\u001b[0m\u001b[1;33m\u001b[0m\u001b[0m\n\u001b[1;32m---> 18\u001b[1;33m             \u001b[0max\u001b[0m\u001b[1;33m[\u001b[0m\u001b[0mi\u001b[0m\u001b[1;33m]\u001b[0m\u001b[1;33m[\u001b[0m\u001b[1;36m0\u001b[0m\u001b[1;33m]\u001b[0m\u001b[1;33m.\u001b[0m\u001b[0mplot\u001b[0m\u001b[1;33m(\u001b[0m\u001b[0mt\u001b[0m\u001b[1;33m,\u001b[0m\u001b[0mcoeffs\u001b[0m\u001b[1;33m[\u001b[0m\u001b[1;36m2\u001b[0m\u001b[1;33m*\u001b[0m\u001b[0mi\u001b[0m\u001b[1;33m,\u001b[0m\u001b[1;33m:\u001b[0m\u001b[1;33m]\u001b[0m\u001b[1;33m)\u001b[0m\u001b[1;33m\u001b[0m\u001b[1;33m\u001b[0m\u001b[0m\n\u001b[0m\u001b[0;32m     19\u001b[0m             \u001b[0max\u001b[0m\u001b[1;33m[\u001b[0m\u001b[0mi\u001b[0m\u001b[1;33m]\u001b[0m\u001b[1;33m[\u001b[0m\u001b[1;36m0\u001b[0m\u001b[1;33m]\u001b[0m\u001b[1;33m.\u001b[0m\u001b[0mtitle\u001b[0m\u001b[1;33m.\u001b[0m\u001b[0mset_text\u001b[0m\u001b[1;33m(\u001b[0m\u001b[1;34m\"Activation for Eigenflow \"\u001b[0m \u001b[1;33m+\u001b[0m \u001b[0mstr\u001b[0m\u001b[1;33m(\u001b[0m\u001b[1;36m2\u001b[0m\u001b[1;33m*\u001b[0m\u001b[0mi\u001b[0m\u001b[1;33m)\u001b[0m\u001b[1;33m)\u001b[0m\u001b[1;33m\u001b[0m\u001b[1;33m\u001b[0m\u001b[0m\n\u001b[0;32m     20\u001b[0m             \u001b[0max\u001b[0m\u001b[1;33m[\u001b[0m\u001b[0mi\u001b[0m\u001b[1;33m]\u001b[0m\u001b[1;33m[\u001b[0m\u001b[1;36m1\u001b[0m\u001b[1;33m]\u001b[0m\u001b[1;33m.\u001b[0m\u001b[0mplot\u001b[0m\u001b[1;33m(\u001b[0m\u001b[0mt\u001b[0m\u001b[1;33m,\u001b[0m\u001b[0mcoeffs\u001b[0m\u001b[1;33m[\u001b[0m\u001b[1;36m2\u001b[0m\u001b[1;33m*\u001b[0m\u001b[0mi\u001b[0m\u001b[1;33m+\u001b[0m\u001b[1;36m1\u001b[0m\u001b[1;33m,\u001b[0m\u001b[1;33m:\u001b[0m\u001b[1;33m]\u001b[0m\u001b[1;33m)\u001b[0m\u001b[1;33m\u001b[0m\u001b[1;33m\u001b[0m\u001b[0m\n",
      "\u001b[1;31mIndexError\u001b[0m: index 4 is out of bounds for axis 0 with size 4"
     ]
    }
   ],
   "source": [
    "plot_activations(coeffs_eucl)"
   ]
  },
  {
   "cell_type": "code",
   "execution_count": null,
   "metadata": {},
   "outputs": [],
   "source": []
  },
  {
   "cell_type": "code",
   "execution_count": null,
   "metadata": {},
   "outputs": [],
   "source": []
  },
  {
   "cell_type": "code",
   "execution_count": null,
   "metadata": {},
   "outputs": [],
   "source": []
  }
 ],
 "metadata": {
  "kernelspec": {
   "name": "python3",
   "display_name": "Python 3.9.5 64-bit"
  },
  "language_info": {
   "codemirror_mode": {
    "name": "ipython",
    "version": 3
   },
   "file_extension": ".py",
   "mimetype": "text/x-python",
   "name": "python",
   "nbconvert_exporter": "python",
   "pygments_lexer": "ipython3",
   "version": "3.9.5"
  },
  "interpreter": {
   "hash": "5c2a26602e28ad08aeb3db5218c8af55fd3775ea6ffbecb1728e15703c31277b"
  }
 },
 "nbformat": 4,
 "nbformat_minor": 5
}