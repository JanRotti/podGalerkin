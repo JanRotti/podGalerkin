{
 "cells": [
  {
   "cell_type": "code",
   "execution_count": null,
   "source": [
    "# normal imports\r\n",
    "import numpy as np\r\n",
    "import matplotlib.pyplot as plt\r\n",
    "from scipy.integrate import solve_ivp"
   ],
   "outputs": [],
   "metadata": {}
  },
  {
   "cell_type": "code",
   "execution_count": null,
   "source": [
    "# define ODE solver in pure python\r\n",
    "def mysolve(f, interv, x0, dt=0.000001):\r\n",
    "    x = x0\r\n",
    "    t = interv[0]\r\n",
    "    while(t < interv[1]):\r\n",
    "        thistime_dt = min(dt, interv[1]-t)\r\n",
    "        x += thistime_dt * f(t,x)\r\n",
    "        t += thistime_dt\r\n",
    "    return x"
   ],
   "outputs": [],
   "metadata": {}
  },
  {
   "cell_type": "markdown",
   "source": [
    "Consider the parametric ODE $\\dot y_c(t) = c y_c(t)$, $y_c(0) = 1$. The solution is $y_c(t) = \\exp (ct)$. Analytically we compute $$ \\tfrac\\partial{\\partial c} y_c(t = 2) = \\tfrac\\partial{\\partial c} \\exp(c\\cdot 2) = 2 \\exp(2c). $$ Let us do it with AD:"
   ],
   "metadata": {}
  },
  {
   "cell_type": "code",
   "execution_count": null,
   "source": [
    "# activate taping and declare c as input\r\n",
    "RealReverse.setActive()\r\n",
    "c = RealReverse(7.0)\r\n",
    "c.registerInput()\r\n",
    "\r\n",
    "# define problem\r\n",
    "def f(t,y):\r\n",
    "    return c * y\r\n",
    "y0 = 1.0\r\n",
    "\r\n",
    "# perform the algorithm\r\n",
    "sol = mysolve(f, [0,2], y0)\r\n",
    "\r\n",
    "# output value of solution\r\n",
    "print(\"Numerical value for c=\"+str(c)+\", t=2: \", sol)\r\n",
    "print(\"Analytical value would be: \", np.exp(c*2))"
   ],
   "outputs": [],
   "metadata": {}
  },
  {
   "cell_type": "code",
   "execution_count": null,
   "source": [
    "# declare outputs and stop taping\n",
    "sol.registerOutput()\n",
    "RealReverse.setPassive()\n",
    "sol.setGradient(1.0)\n",
    "RealReverse.evaluate()\n",
    "\n",
    "# output derivative of solution\n",
    "print(\"AD derivative is: \", c.getGradient())\n",
    "print(\"Analytical derivative would be:\", 2*np.exp(2*c))"
   ],
   "outputs": [],
   "metadata": {}
  },
  {
   "cell_type": "code",
   "execution_count": null,
   "source": [
    "# Testing with numpy "
   ],
   "outputs": [],
   "metadata": {}
  },
  {
   "cell_type": "code",
   "execution_count": null,
   "source": [
    "# define ODE solver in pure python\n",
    "def mysolve(f, interv, x0, dt=0.000001):\n",
    "    x = x0\n",
    "    t = interv[0]\n",
    "    while(t < interv[1]):\n",
    "        thistime_dt = min(dt, interv[1]-t)\n",
    "        x = x + thistime_dt * f(t,x)\n",
    "        t += thistime_dt\n",
    "    return x\n",
    "\n",
    "# activate taping and declare c as input\n",
    "RealReverse.setActive()\n",
    "c = np.array([RealReverse(7.0),RealReverse(3.0)])\n",
    "for var in c:\n",
    "    var.registerInput()\n",
    "\n",
    "# define problem\n",
    "def f(t,y):\n",
    "    return c * y\n",
    "y0 = np.array((1.0,1.0))\n",
    "\n",
    "# perform the algorithm\n",
    "sol = mysolve(f, [0,2], y0)"
   ],
   "outputs": [],
   "metadata": {}
  },
  {
   "cell_type": "code",
   "execution_count": null,
   "source": [
    "# declare outputs and stop taping\n",
    "sol[0].registerOutput()\n",
    "sol[1].registerOutput()\n",
    "RealReverse.setPassive()\n",
    "sol[0].setGradient(1.0)\n",
    "sol[1].setGradient(1.0)\n",
    "RealReverse.evaluate()\n",
    "\n",
    "# output derivative of solution\n",
    "print(\"AD derivative is: \", c[0].getGradient())\n",
    "# output derivative of solution\n",
    "print(\"AD derivative is: \", c[1].getGradient())"
   ],
   "outputs": [],
   "metadata": {}
  },
  {
   "cell_type": "code",
   "execution_count": null,
   "source": [],
   "outputs": [],
   "metadata": {}
  },
  {
   "cell_type": "code",
   "execution_count": null,
   "source": [],
   "outputs": [],
   "metadata": {}
  }
 ],
 "metadata": {
  "kernelspec": {
   "name": "python3",
   "display_name": "Python 3.9.5 64-bit"
  },
  "language_info": {
   "codemirror_mode": {
    "name": "ipython",
    "version": 3
   },
   "file_extension": ".py",
   "mimetype": "text/x-python",
   "name": "python",
   "nbconvert_exporter": "python",
   "pygments_lexer": "ipython3",
   "version": "3.9.5"
  },
  "interpreter": {
   "hash": "5c2a26602e28ad08aeb3db5218c8af55fd3775ea6ffbecb1728e15703c31277b"
  }
 },
 "nbformat": 4,
 "nbformat_minor": 4
}