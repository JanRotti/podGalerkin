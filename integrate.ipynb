{
 "cells": [
  {
   "cell_type": "code",
   "execution_count": null,
   "source": [
    "# normal imports\n",
    "import numpy as np\n",
    "import matplotlib.pyplot as plt\n",
    "from scipy.integrate import solve_ivp"
   ],
   "outputs": [],
   "metadata": {}
  },
  {
   "cell_type": "code",
   "execution_count": null,
   "source": [
    "# import codipack\n",
    "import sys\n",
    "sys.path.append(\"codiswig\")\n",
    "from codi import RealForward, RealReverse"
   ],
   "outputs": [],
   "metadata": {}
  },
  {
   "cell_type": "code",
   "execution_count": null,
   "source": [
    "# define ODE solver in pure python\n",
    "def mysolve(f, interv, x0, dt=0.000001):\n",
    "    x = x0\n",
    "    t = interv[0]\n",
    "    while(t < interv[1]):\n",
    "        thistime_dt = min(dt, interv[1]-t)\n",
    "        x += thistime_dt * f(t,x)\n",
    "        t += thistime_dt\n",
    "    return x"
   ],
   "outputs": [],
   "metadata": {}
  },
  {
   "cell_type": "markdown",
   "source": [
    "Consider the parametric ODE $\\dot y_c(t) = c y_c(t)$, $y_c(0) = 1$. The solution is $y_c(t) = \\exp (ct)$. Analytically we compute $$ \\tfrac\\partial{\\partial c} y_c(t = 2) = \\tfrac\\partial{\\partial c} \\exp(c\\cdot 2) = 2 \\exp(2c). $$ Let us do it with AD:"
   ],
   "metadata": {}
  },
  {
   "cell_type": "code",
   "execution_count": null,
   "source": [
    "# activate taping and declare c as input\n",
    "RealReverse.setActive()\n",
    "c = RealReverse(7.0)\n",
    "c.registerInput()\n",
    "\n",
    "# define problem\n",
    "def f(t,y):\n",
    "    return c*y\n",
    "y0 = 1.0\n",
    "\n",
    "# perform the algorithm\n",
    "sol = mysolve(f, [0,2], y0)\n",
    "\n",
    "# output value of solution\n",
    "print(\"Numerical value for c=\"+str(c)+\", t=2: \", sol)\n",
    "print(\"Analytical value would be: \", np.exp(c*2))"
   ],
   "outputs": [],
   "metadata": {}
  },
  {
   "cell_type": "code",
   "execution_count": null,
   "source": [
    "# declare outputs and stop taping\n",
    "sol.registerOutput()\n",
    "RealReverse.setPassive()\n",
    "sol.setGradient(1.0)\n",
    "RealReverse.evaluate()\n",
    "\n",
    "# output derivative of solution\n",
    "print(\"AD derivative is: \", c.getGradient())\n",
    "print(\"Analytical derivative would be:\", 2*np.exp(2*c))"
   ],
   "outputs": [],
   "metadata": {}
  },
  {
   "cell_type": "code",
   "execution_count": null,
   "source": [],
   "outputs": [],
   "metadata": {}
  }
 ],
 "metadata": {
  "kernelspec": {
   "name": "python3",
   "display_name": "Python 3.8.10 64-bit"
  },
  "language_info": {
   "codemirror_mode": {
    "name": "ipython",
    "version": 3
   },
   "file_extension": ".py",
   "mimetype": "text/x-python",
   "name": "python",
   "nbconvert_exporter": "python",
   "pygments_lexer": "ipython3",
   "version": "3.8.10"
  },
  "interpreter": {
   "hash": "916dbcbb3f70747c44a77c7bcd40155683ae19c65e1c03b4aa3499c5328201f1"
  }
 },
 "nbformat": 4,
 "nbformat_minor": 4
}