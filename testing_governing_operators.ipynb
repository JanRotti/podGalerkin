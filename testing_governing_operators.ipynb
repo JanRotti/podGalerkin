{
 "cells": [
  {
   "cell_type": "code",
   "execution_count": null,
   "id": "5e163d35",
   "metadata": {},
   "outputs": [],
   "source": [
    "# standard imports\n",
    "import numpy as np\n",
    "import math\n",
    "import scipy\n",
    "import os\n",
    "import csv\n",
    "from tqdm import tqdm\n",
    "import meshio\n",
    "import matplotlib.pyplot as plt"
   ]
  },
  {
   "cell_type": "code",
   "execution_count": null,
   "id": "1ebadcd1",
   "metadata": {},
   "outputs": [],
   "source": [
    "# custom class imports\n",
    "from node import node\n",
    "from cell import cell\n",
    "from mesh import exp_mesh\n",
    "\n",
    "# derivative methods\n",
    "from derivatives import *\n",
    "\n",
    "# utility functions\n",
    "from utilities import *"
   ]
  },
  {
   "cell_type": "markdown",
   "id": "1028cb77",
   "metadata": {},
   "source": [
    "# Setting Problem"
   ]
  },
  {
   "cell_type": "code",
   "execution_count": null,
   "id": "91e34eea",
   "metadata": {},
   "outputs": [],
   "source": [
    "# read su2 mesh file\n",
    "meshio_mesh = meshio.read(\"./lam_cyl_comp_air/mesh_cylinder_quad.su2\",file_format=\"su2\")\n",
    "# define mid point for rotational symmetric mesh\n",
    "mid_point = np.array([0.5,0]) \n",
    "# convert mesh into custom class exp_mesh\n",
    "c_mesh = exp_mesh(meshio_mesh,mid_point)"
   ]
  },
  {
   "cell_type": "markdown",
   "id": "65c3e71d",
   "metadata": {},
   "source": [
    "# Loading Filedata"
   ]
  },
  {
   "cell_type": "code",
   "execution_count": null,
   "id": "ca9b34d9",
   "metadata": {},
   "outputs": [],
   "source": [
    "# reading file data\n",
    "data_dir=\"./lam_cyl_comp_air/restart/\"\n",
    "data_dict = get_flow_data(data_dir,1000,1,180)"
   ]
  },
  {
   "cell_type": "markdown",
   "id": "565c713d",
   "metadata": {},
   "source": [
    "# Data Preparation"
   ]
  },
  {
   "cell_type": "code",
   "execution_count": null,
   "id": "7f9d65d8",
   "metadata": {},
   "outputs": [],
   "source": [
    "# configure state data \n",
    "q = np.vstack([data_dict[\"u\"],data_dict[\"v\"],data_dict[\"a\"]])\n",
    "q_avg = np.mean(q,1)\n",
    "q_fluc = q - np.repeat(np.expand_dims(q_avg,1),q.shape[1],axis=1)"
   ]
  },
  {
   "source": [
    "# Operator Configuration"
   ],
   "cell_type": "markdown",
   "metadata": {}
  },
  {
   "cell_type": "code",
   "execution_count": null,
   "metadata": {},
   "outputs": [],
   "source": [
    "n = c_mesh.n\n",
    "N = c_mesh.N"
   ]
  },
  {
   "cell_type": "code",
   "execution_count": null,
   "metadata": {},
   "outputs": [],
   "source": [
    "def Q(mesh,q1,q2,method=\"fd\"):\n",
    "    gamma = 1.4\n",
    "    ## methods for node based calculation\n",
    "    # fd -> finite differences\n",
    "    # pd -> polynomial approximation\n",
    "    ## methods for cell based calculation\n",
    "    # bm -> bilinear face interpolation\n",
    "    \n",
    "    d = int(len(q1)/3)\n",
    "    \n",
    "    # decomposition into variable vectors\n",
    "    u1 = q1[:d]\n",
    "    v1 = q1[d:2*d]\n",
    "    a1 = q1[2*d:3*d]\n",
    "    u2 = q2[:d]\n",
    "    v2 = q2[d:2*d]\n",
    "    a2 = q2[2*d:3*d]\n",
    "\n",
    "    # initializing spatial derivatives\n",
    "    u2x = np.empty(d)\n",
    "    v2x = np.empty(d)\n",
    "    a2x = np.empty(d)\n",
    "    u2y = np.empty(d)\n",
    "    v2y = np.empty(d)\n",
    "    a2y = np.empty(d)\n",
    "\n",
    "    # computation of spatial derivatives\n",
    "    if len(q1==mesh.n):\n",
    "        if method==\"fd\":\n",
    "            finite_differences(mesh,u2)\n",
    "        elif method==\"pd\":\n",
    "            polynomial_derivatives(mesh,u2)\n",
    "        else:\n",
    "            raise ValueError(\"Invalid for node based derivatives!\")\n",
    "        for nod in mesh.nodes:\n",
    "            u2x[nod.index]=nod.dx\n",
    "            u2y[nod.index]=nod.dy\n",
    "        \n",
    "        if method==\"fd\":\n",
    "            finite_differences(mesh,v2)\n",
    "        elif method==\"pd\":\n",
    "            polynomial_derivatives(mesh,v2)\n",
    "        for nod in mesh.nodes:\n",
    "            v2x[nod.index]=nod.dx\n",
    "            v2y[nod.index]=nod.dy\n",
    "\n",
    "        if method==\"fd\":\n",
    "            finite_differences(mesh,a2)\n",
    "        elif method==\"pd\":\n",
    "            polynomial_derivatives(mesh,a2)    \n",
    "        for nod in mesh.nodes:\n",
    "            a2x[nod.index]=nod.dx\n",
    "            a2y[nod.index]=nod.dy\n",
    "    elif len(q1==mesh.N):\n",
    "        if method!=\"bm\":\n",
    "            raise ValueError(\"Selected method not applicaple to cell based data! Please select bilinear mapping!\")\n",
    "        bilinear_derivatives(mesh,u2)\n",
    "        for nod in mesh.nodes:\n",
    "            u2x[nod.index]=nod.dx\n",
    "            u2y[nod.index]=nod.dy\n",
    "        bilinear_derivatives(mesh,v2)\n",
    "        for nod in mesh.nodes:\n",
    "            v2x[nod.index]=nod.dx\n",
    "            v2y[nod.index]=nod.dy\n",
    "        bilinear_derivatives(mesh,a2)\n",
    "        for nod in mesh.nodes:\n",
    "            a2x[nod.index]=nod.dx\n",
    "            a2y[nod.index]=nod.dy\n",
    "    else:\n",
    "        raise ValueError(\"Invalid dimension for input data!\")\n",
    "    \n",
    "    # computation of index based operator\n",
    "    u_tmp = np.multiply(u1,u2x) + np.multiply(v1,u2y) + 2/(gamma - 1)*np.multiply(a1,a2x)\n",
    "    v_tmp = np.multiply(u1,v2x) + np.multiply(v1,v2y) + 2/(gamma - 1)*np.multiply(a1,a2y)\n",
    "    a_tmp = np.multiply(u1,a2x) + np.multiply(v1,a2y) + (gamma - 1)/2*np.multiply(a1,np.add(u2x,u2y))\n",
    "    return np.concatenate((u_tmp,v_tmp,a_tmp))"
   ]
  },
  {
   "cell_type": "code",
   "execution_count": null,
   "metadata": {},
   "outputs": [],
   "source": [
    "def L(mesh,q,method=\"fd\"):\n",
    "    # fd -> finite differences\n",
    "    # pd -> polynomial approximation   \n",
    "    d = int(len(q)/3)\n",
    "    \n",
    "    # decomposition into variable vectors\n",
    "    u = q[:d]\n",
    "    v = q[d:2*d]\n",
    "    a = q[2*d:3*d]    \n",
    "\n",
    "    if len(q)!=mesh.n:\n",
    "        ValueError(\"Invalid data dimension!\")\n",
    "    \n",
    "    # initializing spatial derivatives\n",
    "    uxx = np.empty(d)\n",
    "    uyy = np.empty(d)\n",
    "    vxx = np.empty(d)\n",
    "    vyy = np.empty(d)\n",
    "    \n",
    "    # computing second derivatives\n",
    "    if method==\"fd\":\n",
    "        finite_differences(mesh,u,second=True)\n",
    "    elif method==\"pd\":\n",
    "        polynomial_derivatives(mesh,u,second=True)\n",
    "    else:\n",
    "        raise ValueError(\"Invalid for node based derivatives!\")\n",
    "    for nod in mesh.nodes:\n",
    "        uxx[nod.index]=nod.ddx\n",
    "        uyy[nod.index]=nod.ddy\n",
    "    \n",
    "    if method==\"fd\":\n",
    "        finite_differences(mesh,v,second=True)\n",
    "    elif method==\"pd\":\n",
    "        polynomial_derivatives(mesh,v,second=True)\n",
    "    for nod in mesh.nodes:\n",
    "        vxx[nod.index]=nod.ddx\n",
    "        vyy[nod.index]=nod.ddy\n",
    "\n",
    "    # computation of index based operator\n",
    "    u_tmp = np.add(uxx,uyy)\n",
    "    v_tmp = np.add(vxx,vyy)\n",
    "    a_tmp = np.zeros(d)\n",
    "    return np.concatenate((u_tmp,v_tmp,a_tmp))"
   ]
  },
  {
   "cell_type": "code",
   "execution_count": null,
   "metadata": {},
   "outputs": [],
   "source": [
    "def L2(mesh,q,method=\"fd\",output=\"node\"):\n",
    "    # fd -> finite differences\n",
    "    # pd -> polynomial approximation   \n",
    "    d = int(len(q)/3)\n",
    "    \n",
    "    # decomposition into variable vectors\n",
    "    u = q[:d]\n",
    "    v = q[d:2*d]\n",
    "\n",
    "    if len(q)!=mesh.n:\n",
    "        ValueError(\"Invalid data dimension!\")\n",
    "    \n",
    "    # initializing spatial derivatives\n",
    "    ulap = np.empty(d)\n",
    "    vlap = np.empty(d)\n",
    "\n",
    "    # computing second derivatives\n",
    "    if method==\"fd\":\n",
    "        finite_differences(mesh,u,second=True)\n",
    "    elif method==\"pd\":\n",
    "        polynomial_derivatives(mesh,u,second=True)\n",
    "    else:\n",
    "        raise ValueError(\"Invalid for node based derivatives!\")\n",
    "    for nod in mesh.nodes:\n",
    "        ulap[nod.index]=nod.laplacian\n",
    "    \n",
    "    if method==\"fd\":\n",
    "        finite_differences(mesh,v,second=True)\n",
    "    elif method==\"pd\":\n",
    "        polynomial_derivatives(mesh,v,second=True)\n",
    "    for nod in mesh.nodes:\n",
    "        vlap[nod.index]=nod.laplacian\n",
    "\n",
    "    if output==\"cell\":\n",
    "        ulap = mesh.compute_cell_values_from_node_data(ulap)\n",
    "        vlap = mesh.compute_cell_values_from_node_data(vlap)\n",
    "        d = int(mesh.N/3)\n",
    "\n",
    "    # computation of index based operator\n",
    "    u_tmp = ulap # np.add(uxx,uyy)\n",
    "    v_tmp = vlap\n",
    "    a_tmp = np.zeros(d)\n",
    "    return np.concatenate((u_tmp,v_tmp,a_tmp))"
   ]
  },
  {
   "cell_type": "code",
   "execution_count": null,
   "metadata": {},
   "outputs": [],
   "source": [
    "def inner_product(mesh,q1,q2):\n",
    "    ## energy based inner product\n",
    "    integral = 0    \n",
    "    alpha = 1\n",
    "    gamma = 1.4\n",
    "    mach_weight = 2 * alpha / (gamma - 1)\n",
    "    \n",
    "    d = int(len(q1)/3)\n",
    "    f = int(len(q2)/3)\n",
    "\n",
    "    # case node data\n",
    "    if d==mesh.n and f==mesh.n:\n",
    "        for nod in mesh.nodes:\n",
    "            i = nod.index\n",
    "            # summation over nodes with corresponding node volume \n",
    "            integral += (q1[i]*q2[i]+q1[2*i]*q2[2*i]+mach_weight*q1[3*i]*q2[3*i]) * nod.dv\n",
    "        return integral\n",
    "    # case cell data\n",
    "    elif d==mesh.N and f==mesh.N:\n",
    "        for cel in mesh.cells:\n",
    "            i = cel.index\n",
    "            # summation over ncells with corresponding cell volumes\n",
    "            integral += (q1[i]*q2[i]+q1[2*i]*q2[2*i]+mach_weight*q1[3*i]*q2[3*i]) * cel.volume\n",
    "        return integral\n",
    "    # case invalid dimensions\n",
    "    else:\n",
    "        raise ValueError(\"Invalid Dimension in data vectors!\")\n",
    "    return 0"
   ]
  },
  {
   "cell_type": "code",
   "execution_count": null,
   "metadata": {},
   "outputs": [],
   "source": [
    "test = L2(c_mesh,q_fluc[:,0],method=\"fd\")[:400]"
   ]
  },
  {
   "cell_type": "code",
   "execution_count": null,
   "metadata": {},
   "outputs": [],
   "source": [
    "np.isnan(test).any()"
   ]
  },
  {
   "cell_type": "code",
   "execution_count": null,
   "metadata": {},
   "outputs": [],
   "source": []
  }
 ],
 "metadata": {
  "kernelspec": {
   "name": "python3",
   "display_name": "Python 3.9.5 64-bit"
  },
  "language_info": {
   "codemirror_mode": {
    "name": "ipython",
    "version": 3
   },
   "file_extension": ".py",
   "mimetype": "text/x-python",
   "name": "python",
   "nbconvert_exporter": "python",
   "pygments_lexer": "ipython3",
   "version": "3.9.5"
  },
  "interpreter": {
   "hash": "5c2a26602e28ad08aeb3db5218c8af55fd3775ea6ffbecb1728e15703c31277b"
  }
 },
 "nbformat": 4,
 "nbformat_minor": 5
}