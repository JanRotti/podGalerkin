{
 "metadata": {
  "language_info": {
   "codemirror_mode": {
    "name": "ipython",
    "version": 3
   },
   "file_extension": ".py",
   "mimetype": "text/x-python",
   "name": "python",
   "nbconvert_exporter": "python",
   "pygments_lexer": "ipython3",
   "version": "3.9.5"
  },
  "orig_nbformat": 4,
  "kernelspec": {
   "name": "python3",
   "display_name": "Python 3.9.5 64-bit"
  },
  "interpreter": {
   "hash": "5c2a26602e28ad08aeb3db5218c8af55fd3775ea6ffbecb1728e15703c31277b"
  }
 },
 "nbformat": 4,
 "nbformat_minor": 2,
 "cells": [
  {
   "source": [
    "# Reading File Data from directory - general case with headers"
   ],
   "cell_type": "markdown",
   "metadata": {}
  },
  {
   "cell_type": "code",
   "execution_count": null,
   "metadata": {},
   "outputs": [],
   "source": [
    "import os\n",
    "import csv\n",
    "from tqdm import tqdm\n",
    "import numpy as np"
   ]
  },
  {
   "cell_type": "code",
   "execution_count": null,
   "metadata": {},
   "outputs": [],
   "source": [
    "# input arguments\n",
    "data_dir = \"./lam_cyl_inc_air/restart/\"\n",
    "file_name_structure = \"restart_flow_\"\n",
    "delay = 1000\n",
    "subsampling = 2\n",
    "max_size = 10\n",
    "data_list = []"
   ]
  },
  {
   "cell_type": "code",
   "execution_count": null,
   "metadata": {},
   "outputs": [],
   "source": [
    "# reading simulation data from csv files\n",
    "def read_csv_data(data_dir,delay=1000,subsampling=1,max_size=500,data_list=[]):\n",
    "    ## Variables\n",
    "    # file_name_structure   -> naming scheme of csv files\n",
    "    # delay                 -> first file to read in\n",
    "    # subsampling           -> spacing between files to read\n",
    "    # max_size              -> maximum time dimension for array\n",
    "    # data_list             -> specify data headers to read\n",
    "    \n",
    "    # reading simulation data from csv files\n",
    "    file_list = os.listdir(data_dir)\n",
    "    num_files = len(file_list) # difference of delay and filelist length\n",
    "    if num_files<=0:\n",
    "        raise ValueError(\"Invalid delay or empty directory!\")\n",
    "\n",
    "    # get number of data entries\n",
    "    try:\n",
    "        with open(data_dir+file_list[0]) as f:\n",
    "            data_iter = csv.reader(f,delimiter=\",\")\n",
    "            N = sum(1 for _ in data_iter) - 1 # number of data entries excluding headers\n",
    "            f.close()\n",
    "    except IOError:\n",
    "        print(\"File not accessible\")\n",
    "\n",
    "    # get headers\n",
    "    try:\n",
    "        with open(data_dir+file_list[0]) as f:\n",
    "            data_iter = csv.reader(f,delimiter=\",\")\n",
    "            for row in data_iter:\n",
    "                headers = row\n",
    "                break\n",
    "            f.close()\n",
    "    except IOError:\n",
    "        print(\"File not accessible\") \n",
    "\n",
    "    # compute array size for initialization\n",
    "    if (num_files-delay)//subsampling > max_size:\n",
    "        array_size = max_size\n",
    "    else:\n",
    "        array_size = (num_files-delay)//subsampling\n",
    "\n",
    "    # initialize data dictionary\n",
    "    data = {}\n",
    "    for header in headers:\n",
    "        if len(data_list)==0:\n",
    "            data[header] = np.empty((N,array_size))\n",
    "        elif header in data_list:\n",
    "            data[header] = np.empty((N,array_size))\n",
    "\n",
    "    # reading file data from csv files\n",
    "    for i in tqdm(range(array_size)):\n",
    "        fname = data_dir + file_list[i*subsampling+delay]\n",
    "        # reading routine\n",
    "        with open(fname) as f:\n",
    "            data_iter = csv.reader(f,delimiter=\",\")\n",
    "            for j,row in enumerate(data_iter):\n",
    "                if j!=0:\n",
    "                    for k,header in enumerate(headers):\n",
    "                        if len(data_list)==0:\n",
    "                            data[header][j-1,i] = row[k]\n",
    "                        elif header in data_list:\n",
    "                            data[header][j-1,i] = row[k]\n",
    "\n",
    "    return data\n"
   ]
  },
  {
   "cell_type": "code",
   "execution_count": null,
   "metadata": {},
   "outputs": [],
   "source": [
    "data = read_csv_data(data_dir,max_size=10)"
   ]
  },
  {
   "source": [
    "# Plotting flow visualization "
   ],
   "cell_type": "markdown",
   "metadata": {}
  },
  {
   "cell_type": "code",
   "execution_count": null,
   "metadata": {},
   "outputs": [],
   "source": [
    "# dependencies\n",
    "import matplotlib.pyplot as plt\n",
    "from scipy.interpolate import griddata"
   ]
  },
  {
   "cell_type": "code",
   "execution_count": null,
   "metadata": {},
   "outputs": [],
   "source": [
    "# input arguments\n",
    "cmap = 'cividis'\n",
    "levels = 100 \n",
    "ax = None\n",
    "x = data[\"x\"][:,0] - 0.5\n",
    "y = data[\"y\"][:,0]\n",
    "zoom = False\n",
    "resolution = 1000\n",
    "plot_data = data[\"Velocity_x\"][:,0]"
   ]
  },
  {
   "cell_type": "code",
   "execution_count": null,
   "metadata": {},
   "outputs": [],
   "source": [
    "# plotting cylinder data\n",
    "def plot_cylinder_data(x,y,data,levels=100,cmap='cividis',ax=None,zoom=False,resolution=1000):\n",
    "    # construct plotting axis if necessary\n",
    "    if ax==None:\n",
    "        if zoom:\n",
    "            fig,ax = plt.subplots(1,1,figsize=(18,6))\n",
    "        else:\n",
    "            fig,ax = plt.subplots(1,1,figsize=(14,12))\n",
    "\n",
    "    far = np.round(np.max(y),1)\n",
    "\n",
    "    # plot central cylinder and farfield\n",
    "    cylinder = plt.Circle((0,0),radius=0.5,color=\"black\")\n",
    "    farfield = plt.Circle((0,0),radius=far,color=\"magenta\",fill=False)\n",
    "\n",
    "    ax.add_patch(cylinder)\n",
    "    ax.add_patch(farfield)\n",
    "\n",
    "    # set axis limits\n",
    "    if zoom:\n",
    "        xlim_l = -far*0.2\n",
    "        xlim_r = far*0.8\n",
    "        ylim_r = far/5\n",
    "        ylim_l = -far/5\n",
    "    else:\n",
    "        xlim_l = -far\n",
    "        xlim_r = far\n",
    "        ylim_r = far\n",
    "        ylim_l = -far\n",
    "        \n",
    "    ax.set_xlim([xlim_l,xlim_r])\n",
    "    ax.set_ylim([ylim_l,ylim_r])\n",
    "\n",
    "    # remove x and y ticks\n",
    "    ax.set_xticks([])\n",
    "    ax.set_yticks([])\n",
    "\n",
    "    # distance function\n",
    "    def dist(xm,ym,x,y):\n",
    "        return np.sqrt((x-xm)*(x-xm)+(y-ym)*(y-ym))\n",
    "\n",
    "    # add equidistant grid points\n",
    "    gridx = np.arange(xlim_l,xlim_r,(xlim_r-xlim_l)/resolution)\n",
    "    gridy = np.arange(ylim_l,ylim_r,(ylim_r-ylim_l)/resolution)\n",
    "    grid_x,grid_y = np.meshgrid(gridx, gridy)\n",
    "    dx = (xlim_r - xlim_l)/resolution\n",
    "    dy = (ylim_r - ylim_l)/resolution\n",
    "    points = np.stack((x,y),axis=1)\n",
    "\n",
    "    # interpolate data\n",
    "    grid = griddata(points, data, (grid_x, grid_y))\n",
    "\n",
    "    # set boundary conditions\n",
    "    r = 0.5\n",
    "    far = far\n",
    "    if zoom:\n",
    "        xm = int(resolution*0.2)\n",
    "        ym = int(resolution/2)\n",
    "    else:\n",
    "        xm = int(resolution/2)\n",
    "        ym = int(resolution/2)\n",
    "\n",
    "    for i in range(xm-int(r/dx),xm+int(r/dx),1):\n",
    "        for j in range(ym-int(r/dy),ym+int(r/dy),1):\n",
    "            if dist(xm,ym,i,j)<(r/dx):\n",
    "                grid[j,i] = 0\n",
    "\n",
    "    for i in range(resolution):\n",
    "        for j in range(resolution):\n",
    "            if dist(xm,ym,i,j)>(far/dx):\n",
    "                grid[i,j]=0\n",
    "\n",
    "    cntr = ax.contourf(grid_x,grid_y,grid,levels,cmap=cmap)\n",
    "    \n",
    "    # add colorbar\n",
    "    plt.colorbar(cntr,ax=ax);"
   ]
  },
  {
   "cell_type": "code",
   "execution_count": null,
   "metadata": {},
   "outputs": [],
   "source": [
    "plot_cylinder_data(x,y,plot_data)"
   ]
  },
  {
   "source": [],
   "cell_type": "markdown",
   "metadata": {}
  },
  {
   "cell_type": "code",
   "execution_count": null,
   "metadata": {},
   "outputs": [],
   "source": []
  },
  {
   "cell_type": "code",
   "execution_count": null,
   "metadata": {},
   "outputs": [],
   "source": []
  },
  {
   "cell_type": "code",
   "execution_count": null,
   "metadata": {},
   "outputs": [],
   "source": []
  },
  {
   "cell_type": "code",
   "execution_count": null,
   "metadata": {},
   "outputs": [],
   "source": []
  },
  {
   "cell_type": "code",
   "execution_count": null,
   "metadata": {},
   "outputs": [],
   "source": []
  }
 ]
}