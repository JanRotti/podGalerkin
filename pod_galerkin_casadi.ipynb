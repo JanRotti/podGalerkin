{
 "cells": [
  {
   "cell_type": "code",
   "execution_count": null,
   "source": [
    "# standard imports\r\n",
    "import sys\r\n",
    "import numpy as np\r\n",
    "from tqdm import tqdm\r\n",
    "import meshio\r\n",
    "import matplotlib.pyplot as plt\r\n",
    "from scipy.integrate import solve_ivp"
   ],
   "outputs": [],
   "metadata": {}
  },
  {
   "cell_type": "code",
   "execution_count": null,
   "source": [
    "# import geometry classes\r\n",
    "from geometry.node import node\r\n",
    "from geometry.cell import cell\r\n",
    "from geometry.mesh import rot_sym_mesh\r\n",
    "\r\n",
    "# problem defining operators\r\n",
    "from problem.isentropic_navier_stokes import convection, diffusion, skalar_product, curl\r\n",
    "\r\n",
    "# projection based functions\r\n",
    "from utilities.projection import isentropic_projection, isentropic_control_projection\r\n",
    "\r\n",
    "# utility functions\r\n",
    "from utilities.utilities import *\r\n",
    "from utilities.pod import get_POD, get_activations"
   ],
   "outputs": [],
   "metadata": {}
  },
  {
   "cell_type": "code",
   "execution_count": null,
   "source": [
    "# importing control library\r\n",
    "from casadi import *"
   ],
   "outputs": [],
   "metadata": {}
  },
  {
   "cell_type": "markdown",
   "source": [
    "# reloading modules"
   ],
   "metadata": {}
  },
  {
   "cell_type": "markdown",
   "source": [
    "modName = \"utilities.projection\"\r\n",
    "del sys.modules[modName]\r\n",
    "from utilities.projection import isentropic_projection, isentropic_control_projection"
   ],
   "metadata": {}
  },
  {
   "cell_type": "markdown",
   "source": [
    "# Setting Custom Problem"
   ],
   "metadata": {}
  },
  {
   "cell_type": "code",
   "execution_count": null,
   "source": [
    "# read su2 mesh file\r\n",
    "meshio_mesh = meshio.read(\"./mesh_files/mesh_cylinder_quad.su2\",file_format=\"su2\")\r\n",
    "# convert mesh into custom class\r\n",
    "mesh = rot_sym_mesh(meshio_mesh)"
   ],
   "outputs": [],
   "metadata": {}
  },
  {
   "cell_type": "markdown",
   "source": [
    "# Parameter List"
   ],
   "metadata": {}
  },
  {
   "cell_type": "code",
   "execution_count": null,
   "source": [
    "# PROBLEM CONSTANTS\r\n",
    "n = mesh.n                  # number of nodes\r\n",
    "N = mesh.N                  # number of cells\r\n",
    "T = 220                     # number of snapshots\r\n",
    "nu = 1.716e-5               # kinematic viscosity\r\n",
    "mach = 0.6                  # mach number\r\n",
    "sos = 340.29                # isentropic speed of sound\r\n",
    "uInfty = mach * sos         # freestream velocity\r\n",
    "Re = 100                    # Reynolds number of freeflow\r\n",
    "dt = 0.0001                 # simulation time step\r\n",
    "subsampling = 6             # subsampling for data\r\n",
    "nondim = False              # nondimensionalization of results\r\n",
    "chirp = True                # chirp dataset\r\n",
    "\r\n",
    "# POD PARAMETERS\r\n",
    "maxPOD = 12                 # maximum number of POD modes\r\n",
    "gamma = 1.4                 # isentropic coefficient -> material property\r\n",
    "alpha = 1/gamma             # inner product coefficient [(gamma - 1)/2 -> standard, 1 -> stagnation enthalpy]\r\n",
    "include_avg = False         # include average flow in POD computation\r\n",
    "\r\n",
    "# GALERKIN PARAMETERS\r\n",
    "stabilization = \"viscosity\" # stabilization method for galerkin system\r\n",
    "epsilon = 1e-4              # weight for sobolev norm stabilization -> experimental\r\n",
    "if mach == 0.6:\r\n",
    "    dt_ref = 0.0001 * subsampling     # snapshot equaivalent time step\r\n",
    "    dt = 0.0005                       # galerkin time step\r\n",
    "    shed_period = 0.0327              # hypothesized shed period\r\n",
    "elif mach == 0.1:\r\n",
    "    dt_ref = 0.001 * subsampling\r\n",
    "    dt = 0.001\r\n",
    "    shed_period = 0.18\r\n",
    "elif mach == 0.01:\r\n",
    "    dt_ref = 0.02 * subsampling\r\n",
    "    dt = 0.02\r\n",
    "    shed_period = 1.84\r\n",
    "t0 = 0\r\n",
    "tmax = shed_period * 10\r\n",
    "temporalSpan = np.linspace(t0,tmax,int(tmax/dt)+1)\r\n",
    "\r\n",
    "# OPTIMIZATION PARAMETERS\r\n",
    "designDim = 8                       # number of design parameters\r\n",
    "designVars = np.ones(designDim)     # design variables for gamma\r\n",
    "control0 = 0                        # initial control\r\n",
    "gamma_max = 10                      # maximum allowable control\r\n",
    "phi0 = 0                            # costate end condition\r\n",
    "epsilon = 1e-4                      # discontinuation criteria"
   ],
   "outputs": [],
   "metadata": {}
  },
  {
   "cell_type": "code",
   "execution_count": null,
   "source": [
    "# reading file data\r\n",
    "dataDir  = \"./flow_data/lam_cyl_comp_air/mach 0.6 chirp/\"\r\n",
    "dataDict = read_csv_data(dataDir,delay=0,subsampling=subsampling,max_size=T)\r\n",
    "\r\n",
    "# geometric information\r\n",
    "x = dataDict[\"x\"][:,0] - 0.5\r\n",
    "y = dataDict[\"y\"][:,0]\r\n",
    "\r\n",
    "# fluid velocity and mach number\r\n",
    "u = np.divide(dataDict['Momentum_x'], dataDict['Density'])\r\n",
    "v = np.divide(dataDict['Momentum_y'], dataDict['Density'])\r\n",
    "a = dataDict['Mach']\r\n",
    "\r\n",
    "# construct state based data\r\n",
    "q = np.vstack([u,v,a])\r\n",
    "T = q.shape[1]\r\n",
    "qAvg = np.mean(q,1)\r\n",
    "qFluc = q - np.repeat(np.expand_dims(qAvg,1),T,axis=1)\r\n",
    "\r\n",
    "# data for pod decomposition\r\n",
    "if include_avg:\r\n",
    "    podData = q\r\n",
    "else:\r\n",
    "    podData = qFluc"
   ],
   "outputs": [],
   "metadata": {}
  },
  {
   "cell_type": "code",
   "execution_count": null,
   "source": [
    "### set scalar weights for multiplicative computation\r\n",
    "# volume participations\r\n",
    "volumeWeight = mesh.volume_weights\r\n",
    "# additional weight for speed of sound\r\n",
    "machWeight = (2 * alpha / (gamma - 1))\r\n",
    "# construction of weights\r\n",
    "innerWeight = np.concatenate([np.ones(n),np.ones(n),machWeight*np.ones(n)]) * volumeWeight"
   ],
   "outputs": [],
   "metadata": {}
  },
  {
   "cell_type": "code",
   "execution_count": null,
   "source": [
    "def skalar_product(q1,q2,weights=innerWeight):\r\n",
    "    return np.sum(q1*q2*weights)"
   ],
   "outputs": [],
   "metadata": {}
  },
  {
   "cell_type": "markdown",
   "source": [
    "# POD Decomposition"
   ],
   "metadata": {}
  },
  {
   "cell_type": "code",
   "execution_count": null,
   "source": [
    "[podModes, S] = get_POD(podData,skalar_product,20)\r\n",
    "coeffs = get_activations(podData,podModes,skalar_product,20)\r\n",
    "if nondim:\r\n",
    "    coeffs /= uInfty"
   ],
   "outputs": [],
   "metadata": {}
  },
  {
   "cell_type": "code",
   "execution_count": null,
   "source": [
    "# energy reconstruction threshold\r\n",
    "epsilon = 0.99\r\n",
    "acc = 0\r\n",
    "dim = 0\r\n",
    "while acc < epsilon:\r\n",
    "    dim+=1\r\n",
    "    acc = sum(S[:dim])/sum(S)    \r\n",
    "print(\"Number of eigenvectors necessary for thresholded reconstruction: \\t\" + str(dim))\r\n",
    "if dim % 2 == 1:\r\n",
    "    dim+=1\r\n",
    "\r\n",
    "# manual value assignement\r\n",
    "dim = 2"
   ],
   "outputs": [],
   "metadata": {}
  },
  {
   "cell_type": "code",
   "execution_count": null,
   "source": [
    "# plot_activations(coeffs,dim,dt=dt*subsampling)"
   ],
   "outputs": [],
   "metadata": {}
  },
  {
   "cell_type": "markdown",
   "source": [
    "# Control Data Input"
   ],
   "metadata": {}
  },
  {
   "cell_type": "code",
   "execution_count": null,
   "source": [
    "controlDir  = \"./flow_data/lam_cyl_comp_air/potVortex_0.6_1/\"\r\n",
    "controlDict = read_csv_data(controlDir,0,1,1)\r\n",
    "\r\n",
    "uCon = np.divide(controlDict['Momentum_x'], controlDict['Density'])\r\n",
    "vCon = np.divide(controlDict['Momentum_y'], controlDict['Density'])\r\n",
    "aCon = controlDict['Mach']\r\n",
    "\r\n",
    "# construct state based data\r\n",
    "qCon = np.vstack([uCon,vCon,aCon]).squeeze()"
   ],
   "outputs": [],
   "metadata": {}
  },
  {
   "cell_type": "markdown",
   "source": [
    "# Galerkin Coefficients"
   ],
   "metadata": {}
  },
  {
   "cell_type": "code",
   "execution_count": null,
   "source": [
    "[b1, b2, L1, L2, Q] = isentropic_projection(mesh,podModes[:,:dim],qAvg,skalar_product)"
   ],
   "outputs": [],
   "metadata": {}
  },
  {
   "cell_type": "code",
   "execution_count": null,
   "source": [
    "(nu * L1 + L2)[0]"
   ],
   "outputs": [],
   "metadata": {}
  },
  {
   "cell_type": "markdown",
   "source": [
    "# Control Function Method\r\n",
    "Additional coefficients in Galerkin system"
   ],
   "metadata": {}
  },
  {
   "cell_type": "code",
   "execution_count": null,
   "source": [
    "[d1,d2,f,g,h] = isentropic_control_projection(mesh,podModes[:,:dim],qAvg,qCon,skalar_product)"
   ],
   "outputs": [],
   "metadata": {}
  },
  {
   "cell_type": "markdown",
   "source": [
    "# Galerkin System"
   ],
   "metadata": {}
  },
  {
   "cell_type": "code",
   "execution_count": null,
   "source": [
    "# initial conditions\r\n",
    "a0 = coeffs[:dim,0]\r\n",
    "\r\n",
    "# dynamic viscosity for stabilization\r\n",
    "if stabilization==\"viscosity\":\r\n",
    "    if mach == 0.6:\r\n",
    "        # tuned\r\n",
    "        if dim == 10:\r\n",
    "            nu = 4.09 if chirp==False else 2.29 # 10 modes\r\n",
    "        elif dim == 8:\r\n",
    "            nu = 3.24 if chirp==False else 2.1  # 8 modes\r\n",
    "        elif dim == 6:\r\n",
    "            nu = 3.07 if chirp==False else 1.9  # 6 modes\r\n",
    "        elif dim == 4:\r\n",
    "            nu = 3.625 if chirp==False else 2.45# 4 modes\r\n",
    "        elif dim == 2:  \r\n",
    "            nu = 4.36  if chirp==False else 3.01# 2 modes #3.05 for LSODA\r\n",
    "\r\n",
    "    elif mach == 0.1:\r\n",
    "        # tuned\r\n",
    "        if dim == 10:\r\n",
    "            nu = 0.745   # 10 modes\r\n",
    "        elif dim == 8:\r\n",
    "            nu = 0.7445  # 8 modes\r\n",
    "        elif dim == 6:\r\n",
    "            nu = 0.7390  # 6 modes\r\n",
    "        elif dim == 4:\r\n",
    "            nu = 0.7635  # 4 modes\r\n",
    "        elif dim == 2:  \r\n",
    "            nu = 0.8625  # 2 modes\r\n",
    "\r\n",
    "    elif mach == 0.01:\r\n",
    "        # tuned\r\n",
    "        if dim == 10:\r\n",
    "            nu = 0.1535  # 10 modes\r\n",
    "        elif dim == 8:\r\n",
    "            nu = 0.151   # 8 modes\r\n",
    "        elif dim == 6:\r\n",
    "            nu = 0.1515  # 6 modes\r\n",
    "        elif dim == 4:\r\n",
    "            nu = 0.1515  # 4 modes\r\n",
    "        elif dim == 2:  \r\n",
    "            nu = 0.1550  # 2 modes"
   ],
   "outputs": [],
   "metadata": {}
  },
  {
   "cell_type": "code",
   "execution_count": null,
   "source": [
    "# defining ode function for node based coefficients\r\n",
    "def galerkin_system(t,a):\r\n",
    "    # set global variables references\r\n",
    "    global Q, L1, L2, b1, b2, nu\r\n",
    "    a_dot = np.empty_like(a)\r\n",
    "    for k in range(a_dot.shape[0]):\r\n",
    "        a_dot[k] = (nu * b1[k] + b2[k] + np.inner((nu * L1[k,:] + L2[k,:]),a) + np.matmul(np.matmul(np.expand_dims(a,1).T,Q[k]),np.expand_dims(a,1))) \r\n",
    "    return a_dot"
   ],
   "outputs": [],
   "metadata": {}
  },
  {
   "cell_type": "code",
   "execution_count": null,
   "source": [
    "sol = solve_ivp(galerkin_system,(t0,tmax),a0, method='RK45',t_eval=temporalSpan)\r\n",
    "sol.message"
   ],
   "outputs": [],
   "metadata": {}
  },
  {
   "cell_type": "code",
   "execution_count": null,
   "source": [
    "for i in range(2):\r\n",
    "    plt.plot(sol.y[i,:])"
   ],
   "outputs": [],
   "metadata": {}
  },
  {
   "cell_type": "markdown",
   "source": [
    "# Equilibrium point -> Newton method"
   ],
   "metadata": {}
  },
  {
   "cell_type": "code",
   "execution_count": null,
   "source": [
    "def jacobianGalerkinSystem(x,L,Q):\r\n",
    "    # analytical jacobian for Galerkin system\r\n",
    "    dim = len(x)\r\n",
    "    jacobian = np.zeros((dim,dim))\r\n",
    "    for k in range(dim):\r\n",
    "        for j in range(dim):\r\n",
    "            jacobian[k,j] = L[k,j] + 2 * Q[k,j,j] * x[k]\r\n",
    "            for i in range(dim):\r\n",
    "                jacobian[k,j] += (Q[k,i,j] + Q[k,j,i]) * x[i]\r\n",
    "    # return \r\n",
    "    return jacobian\r\n",
    "\r\n",
    "equi = np.ones(dim)\r\n",
    "fx = galerkin_system(0,equi)\r\n",
    "L = (nu * L1 + L2)\r\n",
    "while not np.isclose(fx,0).all():\r\n",
    "    # jacobian at point\r\n",
    "    jac = jacobianGalerkinSystem(equi,L,Q)\r\n",
    "    # solving linear system for equilibirum update\r\n",
    "    equi = np.linalg.solve(jac, - fx) + equi\r\n",
    "    # solve for function value\r\n",
    "    fx = galerkin_system(0,equi)\r\n",
    "\r\n",
    "print(\"Equilibrium: \" + str(equi))"
   ],
   "outputs": [],
   "metadata": {}
  },
  {
   "cell_type": "markdown",
   "source": [
    "# Stability"
   ],
   "metadata": {}
  },
  {
   "cell_type": "code",
   "execution_count": null,
   "source": [
    "A = jacobianGalerkinSystem(equi,L,Q) # linearized matrix system\r\n",
    "w, _ = np.linalg.eig(A)\r\n",
    "\r\n",
    "# checking for stability property\r\n",
    "if (np.real(w) < 0).all():\r\n",
    "    print(\"System is stable around equilibrium!\")\r\n",
    "elif (np.real(w) > 0).any():\r\n",
    "    print(\"System is unstable around equilibrium!\")\r\n",
    "else:\r\n",
    "    print(\"No conclusions about stabilty from linearization!\")"
   ],
   "outputs": [],
   "metadata": {}
  },
  {
   "cell_type": "markdown",
   "source": [
    "Note that the stabilization using artifical viscosity presents a combination of saddle-node and trasncritical bifurcation. "
   ],
   "metadata": {}
  },
  {
   "cell_type": "markdown",
   "source": [
    "# Comparison of Limit Cycles"
   ],
   "metadata": {}
  },
  {
   "cell_type": "code",
   "execution_count": null,
   "source": [
    "# Galerkin model \r\n",
    "d = int(dim/2)\r\n",
    "fig,ax = plt.subplots(d,2,figsize=(15,10))\r\n",
    "fig.tight_layout(pad=3.0)\r\n",
    "\r\n",
    "t = temporalSpan \r\n",
    "phase_shift = 54\r\n",
    "plot_time_span = 100 * dt\r\n",
    "orig_number = int(plot_time_span / (dt_ref)) #  *1.12))\r\n",
    "t_orig = np.linspace(t[-100],tmax-dt_ref,num=orig_number)\r\n",
    "\r\n",
    "# add plots over full time domain\r\n",
    "for i in range(dim):\r\n",
    "    if dim <= 2:\r\n",
    "        ax[int(i%2)].plot(t[-100:],sol.y[i,-100:]/(sos * mach))\r\n",
    "        ax[int(i%2)].plot(t_orig,coeffs[i,-(orig_number + phase_shift):-phase_shift]/(sos * mach))\r\n",
    "        ax[int(i%2)].title.set_text(\"Activation for Eigenflow \" + str(i))\r\n",
    "    else:\r\n",
    "        ax[int(i/2)][int(i%2)].plot(t[-100:],sol.y[i,-100:]/(sos * mach))\r\n",
    "        ax[int(i/2)][int(i%2)].plot(t_orig,coeffs[i,-(orig_number + phase_shift):-phase_shift]/(sos * mach))\r\n",
    "        ax[int(i/2)][int(i%2)].title.set_text(\"Activation for Eigenflow \" + str(i))"
   ],
   "outputs": [],
   "metadata": {}
  },
  {
   "cell_type": "markdown",
   "source": [
    "# Optimal Control"
   ],
   "metadata": {}
  },
  {
   "cell_type": "code",
   "execution_count": null,
   "source": [
    "# control system with casadi\r\n",
    "designDim = 10\r\n",
    "tmax = np.ceil((10 * shed_period) / dt) * dt\r\n",
    "Nt = int(tmax/dt) + 1\r\n",
    "uMax = 2\r\n",
    "x = MX.sym('x', dim)\r\n",
    "p = MX.sym('p')\r\n",
    "dp = MX.sym('dp')\r\n",
    "\r\n",
    "# expression for ode rhs \r\n",
    "tmp = [0 for i in range(dim)]\r\n",
    "for k in range(dim):\r\n",
    "    tmp[k] = nu * b1[k] + b2[k] + p * (nu * d1[k] + d2[k]) + p * p * f[k] #+ h[k] * dp\r\n",
    "    for i in range(dim):\r\n",
    "        tmp[k] += (nu * L1[k,i] + L2[k,i]) * x[i] + p * g[k,i] * x[i]\r\n",
    "        for j in range(dim):\r\n",
    "            tmp[k] += Q[k,i,j] * x[i] * x[j]    \r\n",
    "rhs = vertcat(tmp[0],tmp[1])"
   ],
   "outputs": [],
   "metadata": {}
  },
  {
   "cell_type": "code",
   "execution_count": null,
   "source": [
    "rhs = vertcat([tmp[i] for i in range(dim)])"
   ],
   "outputs": [],
   "metadata": {}
  },
  {
   "cell_type": "code",
   "execution_count": null,
   "source": [
    "# ode declaration\r\n",
    "ode = {'x':x,'p':p,'ode':rhs}\r\n",
    "\r\n",
    "# integrator construction\r\n",
    "F = integrator('F','cvodes',ode,{'tf':dt})\r\n",
    "\r\n",
    "# control vector\r\n",
    "u = MX.sym('u', Nt, 1)\r\n",
    "\r\n",
    "# initial conditions\r\n",
    "x = coeffs[:dim,0]\r\n",
    "for n in range(Nt):\r\n",
    "    res = F(x0=x,p=u[n])\r\n",
    "    x = res['xf']\r\n",
    "\r\n",
    "# nonlinear program declaration\r\n",
    "nlp = {'x':u,'f':dot(x,x)+2.71**(u**2-uMax**2),'g':x}\r\n",
    "\r\n",
    "# solve using IPOPT\r\n",
    "solver = nlpsol('solver','ipopt',nlp)\r\n",
    "res = solver(x0=x0,lbg=0,ubg=0)\r\n",
    "\r\n",
    "plot(res[\"x\"])"
   ],
   "outputs": [],
   "metadata": {}
  }
 ],
 "metadata": {
  "kernelspec": {
   "name": "python3",
   "display_name": "Python 3.9.5 64-bit"
  },
  "language_info": {
   "codemirror_mode": {
    "name": "ipython",
    "version": 3
   },
   "file_extension": ".py",
   "mimetype": "text/x-python",
   "name": "python",
   "nbconvert_exporter": "python",
   "pygments_lexer": "ipython3",
   "version": "3.9.5"
  },
  "interpreter": {
   "hash": "5c2a26602e28ad08aeb3db5218c8af55fd3775ea6ffbecb1728e15703c31277b"
  }
 },
 "nbformat": 4,
 "nbformat_minor": 5
}