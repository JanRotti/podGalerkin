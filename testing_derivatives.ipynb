{
 "cells": [
  {
   "cell_type": "code",
   "execution_count": null,
   "id": "5e163d35",
   "metadata": {},
   "outputs": [],
   "source": [
    "# standard imports\n",
    "import numpy as np\n",
    "import math\n",
    "import scipy\n",
    "import os\n",
    "import csv\n",
    "from tqdm import tqdm\n",
    "import meshio\n",
    "import matplotlib.pyplot as plt"
   ]
  },
  {
   "cell_type": "code",
   "execution_count": null,
   "id": "1ebadcd1",
   "metadata": {},
   "outputs": [],
   "source": [
    "# custom class imports\n",
    "from node import node\n",
    "from cell import cell\n",
    "from mesh import exp_mesh\n",
    "\n",
    "\n",
    "# utility functions\n",
    "from isentropic_navier_stokes import Q,L,inner_product\n",
    "from utilities_modified import *"
   ]
  },
  {
   "cell_type": "markdown",
   "id": "1028cb77",
   "metadata": {},
   "source": [
    "# Setting Problem"
   ]
  },
  {
   "cell_type": "code",
   "execution_count": null,
   "id": "91e34eea",
   "metadata": {},
   "outputs": [],
   "source": [
    "# read su2 mesh file\n",
    "meshio_mesh = meshio.read(\"./lam_cyl_comp_air/mesh_cylinder_quad.su2\",file_format=\"su2\")\n",
    "# convert mesh into custom class exp_mesh\n",
    "mesh = exp_mesh(meshio_mesh,[0.5,0])"
   ]
  },
  {
   "cell_type": "markdown",
   "id": "65c3e71d",
   "metadata": {},
   "source": [
    "# Loading Filedata"
   ]
  },
  {
   "cell_type": "code",
   "execution_count": null,
   "id": "ca9b34d9",
   "metadata": {},
   "outputs": [],
   "source": [
    "# reading file data\n",
    "data_dir=\"./lam_cyl_comp_air/mach 0.01/\"\n",
    "data_dict = read_csv_data(data_dir,delay=5000,subsampling=2,max_size=180)"
   ]
  },
  {
   "cell_type": "markdown",
   "id": "565c713d",
   "metadata": {},
   "source": [
    "# Data Preparation"
   ]
  },
  {
   "cell_type": "code",
   "execution_count": null,
   "id": "7f9d65d8",
   "metadata": {},
   "outputs": [],
   "source": [
    "x = data_dict[\"x\"][:,0] - 0.5\n",
    "y = data_dict[\"y\"][:,0]\n",
    "u = np.divide(data_dict['Momentum_x'],data_dict['Density'])\n",
    "v = np.divide(data_dict['Momentum_y'],data_dict['Density'])\n",
    "a = data_dict['Mach']\n",
    "n = mesh.n\n",
    "N = mesh.N"
   ]
  },
  {
   "cell_type": "code",
   "execution_count": null,
   "metadata": {},
   "outputs": [],
   "source": [
    "q = np.vstack([u,v,a])\n",
    "q_avg = np.mean(q,1)\n",
    "q_fluc = q - np.repeat(np.expand_dims(q_avg,1),q.shape[1],axis=1)"
   ]
  },
  {
   "source": [
    "# Plotting sample Stencil"
   ],
   "cell_type": "markdown",
   "metadata": {}
  },
  {
   "cell_type": "code",
   "execution_count": null,
   "metadata": {},
   "outputs": [],
   "source": [
    "sample = 75\n",
    "fig,ax = plt.subplots(1,1,figsize=(6,6))\n",
    "\n",
    "u = mesh.nodes[sample].u\n",
    "b = mesh.nodes[sample].b\n",
    "r = mesh.nodes[sample].r\n",
    "l = mesh.nodes[sample].l\n",
    "\n",
    "if u!=None:\n",
    "    u_r = mesh.nodes[u].r\n",
    "    u_l = mesh.nodes[u].l\n",
    "    plt.scatter(mesh.nodes[u].x,mesh.nodes[u].y,c='g')\n",
    "    plt.scatter(mesh.nodes[u_r].x,mesh.nodes[u_r].y,c='black')\n",
    "    plt.scatter(mesh.nodes[u_l].x,mesh.nodes[u_l].y,c='black')\n",
    "\n",
    "if b!=None:\n",
    "    b_r = mesh.nodes[b].r\n",
    "    b_l = mesh.nodes[b].l\n",
    "    plt.scatter(mesh.nodes[b].x,mesh.nodes[b].y,c='b')\n",
    "    plt.scatter(mesh.nodes[b_r].x,mesh.nodes[b_r].y,c='grey')\n",
    "    plt.scatter(mesh.nodes[b_l].x,mesh.nodes[b_l].y,c='grey')\n",
    "\n",
    "\n",
    "plt.scatter(mesh.nodes[r].x,mesh.nodes[r].y,c='r')\n",
    "plt.scatter(mesh.nodes[l].x,mesh.nodes[l].y,c='purple')\n",
    "plt.scatter(mesh.nodes[sample].x,mesh.nodes[sample].y,c='orange')\n",
    "\n",
    "dist = np.sqrt((mesh.nodes[sample].x - mesh.nodes[r].x)**2 + (mesh.nodes[sample].y - mesh.nodes[r].y)**2)\n",
    "span = 2 * dist\n",
    "\n",
    "xlim = [mesh.nodes[sample].x-span,mesh.nodes[sample].x+span]\n",
    "ylim = [mesh.nodes[sample].y-span,mesh.nodes[sample].y+span]\n",
    "ax.set_xlim(xlim)\n",
    "ax.set_ylim(ylim);"
   ]
  },
  {
   "source": [
    "# Stencil based Derivatives"
   ],
   "cell_type": "markdown",
   "metadata": {}
  },
  {
   "cell_type": "code",
   "execution_count": null,
   "metadata": {},
   "outputs": [],
   "source": [
    "sample_data = q[:,0]\n",
    "\n",
    "# set temporary data structures\n",
    "u_tmp,v_tmp,a_tmp = np.empty(n),np.empty(n),np.empty(n)  \n",
    "u_tmp,v_tmp,a_tmp = sample_data[:n],sample_data[n:2*n],sample_data[2*n:3*n]\n",
    "\n",
    "# component to bes examined\n",
    "ex = u_tmp\n",
    "\n",
    "# compute spatial derivatives\n",
    "[dx,dy,ddx,ddy] = mesh.compute_finite_spatial_derivatives(ex,second=True)\n",
    "\n",
    "# set neighbor nodes\n",
    "i = sample\n",
    "u = mesh.nodes[sample].u\n",
    "b = mesh.nodes[sample].b\n",
    "r = mesh.nodes[sample].r\n",
    "l = mesh.nodes[sample].l\n",
    "\n",
    "# set data from neighbor nodes\n",
    "if u!=None:\n",
    "    data_u = ex[u]\n",
    "\n",
    "if b!=None:\n",
    "    data_b = ex[b]\n",
    "\n",
    "data_i = ex[sample]\n",
    "data_r = ex[r]\n",
    "data_l = ex[l]"
   ]
  },
  {
   "cell_type": "code",
   "execution_count": null,
   "metadata": {},
   "outputs": [],
   "source": [
    "## GEOMETRIC INFORMATION OF NODES\n",
    "\n",
    "print_string = \"Data Component\"\n",
    "print_padded(print_string)\n",
    "if u!=None and b!=None:\n",
    "    print(\"u:{} \\nl:{}\\ni:{}\\nr:{}\\nb:{}\".format(data_u,data_l,data_i,data_r,data_b))\n",
    "elif u!=None:\n",
    "    print(\"u:{} \\nl:{}\\ni:{}\\nr:{}\".format(data_u,data_l,data_i,data_r))\n",
    "elif b!=None:\n",
    "    print(\"l:{}\\ni:{}\\nr:{}\\nb:{}\".format(data_l,data_i,data_r,data_b))\n",
    "\n",
    "print(\" \")\n",
    "\n",
    "print_string = \"Cartesian Coordinates (x,y)\"\n",
    "print_padded(print_string)\n",
    "\n",
    "coords_i = [mesh.nodes[sample].x,mesh.nodes[sample].y]\n",
    "coords_r = [mesh.nodes[r].x,mesh.nodes[r].y]\n",
    "coords_l = [mesh.nodes[l].x,mesh.nodes[l].y]\n",
    "if u!=None and b!=None:\n",
    "    coords_u = [mesh.nodes[u].x,mesh.nodes[u].y]\n",
    "    coords_b = [mesh.nodes[b].x,mesh.nodes[b].y]\n",
    "    print(\"u:{} \\nl:{}\\ni:{}\\nr:{}\\nb:{}\".format(coords_u,coords_l,coords_i,coords_r,coords_b))\n",
    "elif u!=None:\n",
    "    coords_u = [mesh.nodes[u].x,mesh.nodes[u].y]\n",
    "    print(\"u:{} \\nl:{}\\ni:{}\\nr:{}\".format(coords_u,coords_l,coords_i,coords_r))\n",
    "elif b!=None:\n",
    "    coords_b = [mesh.nodes[b].x,mesh.nodes[b].y]\n",
    "    print(\"l:{}\\ni:{}\\nr:{}\\nb:{}\".format(coords_l,coords_i,coords_r,coords_b))\n",
    "\n",
    "print(\" \")\n",
    "\n",
    "print_string = \"Cylinder Coordinates (r,phi)\"\n",
    "print_padded(print_string)\n",
    "\n",
    "coords_cyl_i = [mesh.nodes[sample].rad,mesh.nodes[sample].theta]\n",
    "coords_cyl_r = [mesh.nodes[r].rad,mesh.nodes[r].theta]\n",
    "coords_cyl_l = [mesh.nodes[l].rad,mesh.nodes[l].theta]\n",
    "if u!=None and b!=None:\n",
    "    coords_cyl_u = [mesh.nodes[u].rad,mesh.nodes[u].theta]\n",
    "    coords_cyl_b = [mesh.nodes[b].rad,mesh.nodes[b].theta]\n",
    "    print(\"u:{} \\nl:{}\\ni:{}\\nr:{}\\nb:{}\".format(coords_cyl_u,coords_cyl_l,coords_cyl_i,coords_cyl_r,coords_cyl_b))\n",
    "elif u!=None:\n",
    "    coords_cyl_u = [mesh.nodes[u].rad,mesh.nodes[u].theta]\n",
    "    print(\"u:{} \\nl:{}\\ni:{}\\nr:{}\".format(coords_cyl_u,coords_cyl_l,coords_cyl_i,coords_cyl_r))\n",
    "elif b!=None:\n",
    "    coords_cyl_b = [mesh.nodes[b].rad,mesh.nodes[b].theta]\n",
    "    print(\"l:{}\\ni:{}\\nr:{}\\nb:{}\".format(coords_cyl_l,coords_cyl_i,coords_cyl_r,coords_cyl_b))\n",
    "print(\" \")\n",
    "\n",
    "### COMPUTING PARTIAL DERIVATIVES \n",
    "# TRANSFORM DERIVATIVES\n",
    "print_string = \"Transform Derivatives\"\n",
    "print_padded(print_string)\n",
    "\n",
    "drdx = coords_i[0]/coords_cyl_i[0]\n",
    "drdy = coords_i[1]/coords_cyl_i[0]\n",
    "dphidx = - coords_i[1]/(coords_cyl_i[0]**2)\n",
    "dphidy = coords_i[0]/(coords_cyl_i[0]**2)\n",
    "ddrdx = (coords_i[1]**2)/(coords_cyl_i[0]**3)\n",
    "ddrdy = (coords_i[0]**2)/(coords_cyl_i[0]**3)\n",
    "ddphidx = (2*coords_i[1]*coords_i[0])/(coords_cyl_i[0]**4)\n",
    "ddphidy = - (2*coords_i[1]*coords_i[0])/(coords_cyl_i[0]**4)\n",
    "\n",
    "print(\"drdx:{}\\ndrdy:{}\\ndphidx:{}\\ndphidy:{}\\nddrdx:{}\\nddrdy:{}\\nddphidx:{}\\nddphidy:{}\\n\".format(drdx,drdy,dphidx,dphidy,ddrdx,ddrdy,ddphidx,ddphidy))\n",
    "\n",
    "# FINITE DIFFERENCE\n",
    "print_string = \"Finite Difference\"\n",
    "print_padded(print_string)\n",
    "\n",
    "print(\"Coordinate: PHI\")\n",
    "if r!=None:\n",
    "    back_phi = (data_i-data_r)/(coords_cyl_i[1]-coords_cyl_r[1])\n",
    "    print(\"Backward:{}\".format(back_phi))\n",
    "if l!=None: \n",
    "    forw_phi = (data_l-data_i)/(coords_cyl_l[1]-coords_cyl_i[1])\n",
    "    print(\"Forward:{}\".format(forw_phi))\n",
    "if r!=None and l!=None:\n",
    "    cent_phi = (data_l-data_r)/(coords_cyl_l[1]-coords_cyl_r[1])\n",
    "    print(\"Central:{}\".format(cent_phi))\n",
    "    \n",
    "    cent_sec_phi = (data_u*(coords_cyl_i[1]-coords_cyl_r[1])+data_r*(coords_cyl_l[1]-coords_cyl_i[1])-data_i*(coords_cyl_l[1]-coords_cyl_r[1]))/((coords_cyl_l[1]-coords_cyl_i[1])**2*(coords_cyl_i[1]-coords_cyl_r[1]))\n",
    "    print(\"Second Central:{}\".format(cent_sec_phi))\n",
    "\n",
    "print(\" \")\n",
    "print(\"Coordinate: RADIUS\")\n",
    "if b!=None:\n",
    "    back_rad = (data_i-data_b)/(coords_cyl_i[0]-coords_cyl_b[0])\n",
    "    print(\"Backward:{}\".format(back_rad))\n",
    "if u!=None:\n",
    "    forw_rad = (data_u-data_i)/(coords_cyl_u[0]-coords_cyl_i[0])\n",
    "    print(\"Forward:{}\".format(forw_rad))\n",
    "if u!=None and b!=None:\n",
    "    cent_rad = (data_u-data_b)/(coords_cyl_u[0]-coords_cyl_b[0])\n",
    "    print(\"Central:{}\".format(cent_rad))\n",
    "\n",
    "    cent_sec_rad = (data_u*(coords_cyl_i[0]-coords_cyl_b[0])+data_b*(coords_cyl_u[0]-coords_cyl_i[0])-data_i*(coords_cyl_u[0]-coords_cyl_b[0]))/((coords_cyl_u[0]-coords_cyl_i[0])**2*(coords_cyl_i[0]-coords_cyl_b[0]))\n",
    "    print(\"Second Central:{}\".format(cent_sec_rad))\n",
    "\n",
    "print(\" \")\n",
    "print(\"Coordinate: X\")\n",
    "if b!=None:\n",
    "    back_dx_fd = back_phi * dphidx + back_rad * drdx\n",
    "    print(\"Backward:{}\".format(back_dx_fd))\n",
    "if u!=None:\n",
    "    forw_dx_fd = forw_phi * dphidx + forw_rad * drdx\n",
    "    print(\"Forward:{}\".format(forw_dx_fd))\n",
    "if u!=None and b!=None:\n",
    "    cent_dx_fd = cent_phi * dphidx + cent_rad * drdx\n",
    "    print(\"Central:{}\".format(cent_dx_fd))\n",
    "\n",
    "    ddx_fd = cent_sec_phi * ddphidx + cent_sec_rad * ddrdx + 2*cent_phi*dphidx*cent_rad*drdx\n",
    "    print(\"Second:{}\".format(ddx_fd))\n",
    "\n",
    "print(\" \")\n",
    "print(\"Coordinate: Y\")\n",
    "if b!=None:\n",
    "    back_dy_fd = back_phi * dphidy + back_rad * drdy\n",
    "    print(\"Backward:{}\".format(back_dy_fd))\n",
    "if u!=None:\n",
    "    forw_dy_fd = forw_phi * dphidy + forw_rad * drdy\n",
    "    print(\"Forward:{}\".format(forw_dy_fd))\n",
    "if u!=None and b!=None:\n",
    "    cent_dy_fd = cent_phi * dphidy + cent_rad * drdy\n",
    "    print(\"Central:{}\".format(cent_dy_fd))\n",
    "    \n",
    "    ddy_fd = cent_sec_phi * ddphidy + cent_sec_rad * ddrdy + 2*cent_phi*dphidy*cent_rad*drdy\n",
    "    print(\"Second:{}\".format(ddy_fd))\n",
    "\n",
    "print(\" \")\n",
    "# POLYNOMIAL APPROXIMATION DERIVATIVES\n",
    "print_string = \"POLYNOMIAL APPROXIMATION\"\n",
    "print_padded(print_string)\n",
    "\n",
    "a_phi = (data_l-data_r)/(coords_cyl_i[1]-coords_cyl_r[1])-(data_i-data_r)/(coords_cyl_l[1]-coords_cyl_r[1])\n",
    "b_phi = (data_i-data_r)/(coords_cyl_i[1]-coords_cyl_r[1])-(data_l-data_r)+(data_i-data_r)*(coords_cyl_i[1]-coords_cyl_r[1])/(coords_cyl_l[1]-coords_cyl_r[1])\n",
    "c_phi = data_r\n",
    "dpol_phi = 2*a_phi*(coords_cyl_i[1]-coords_cyl_r[1]) + b_phi\n",
    "ddpol_phi = a_phi\n",
    "\n",
    "print(\"Coordinate: PHI\")\n",
    "print(\"Polynomial:{}x²+{}x+{}\\nDerivative:{}\\nSecond Derivative:{}\\n\".format(a_phi,b_phi,c_phi,dpol_phi,ddpol_phi))\n",
    "\n",
    "if u!=None and b!=None:\n",
    "    print(\"Coordinate: RADIUS\")\n",
    "    a_rad = (data_u-data_b)/(coords_cyl_i[0]-coords_cyl_b[0])-(data_i-data_b)/(coords_cyl_u[0]-coords_cyl_b[0])\n",
    "    b_rad = (data_i-data_b)/(coords_cyl_i[0]-coords_cyl_b[0])-(data_l-data_b)+(data_i-data_b)*(coords_cyl_i[0]-coords_cyl_b[0])/(coords_cyl_u[0]-coords_cyl_b[0])\n",
    "    c_rad = data_r\n",
    "    dpol_rad = 2*a_rad*(coords_cyl_i[0]-coords_cyl_b[0]) + b_rad\n",
    "    ddpol_rad = a_rad\n",
    "    \n",
    "    print(\"Polynomial:{}x²+{}x+{}\\nDerivative:{}\\nSecond Derivative:{}\".format(a_rad,b_rad,c_rad,dpol_rad,ddpol_rad))\n",
    "    \n",
    "    print(\" \")\n",
    "\n",
    "    print(\"Coordinate: X\")\n",
    "    dx_pol = dpol_phi * dphidx + dpol_rad * drdx\n",
    "    ddx_pol = ddpol_phi * ddphidx + ddpol_rad * ddrdx + 2*dpol_phi*dphidx*dpol_rad*drdx\n",
    "    print(\"First:{}\\nSecond:{}\".format(dx_pol,ddx_pol))\n",
    "    \n",
    "    print(\" \")\n",
    "    \n",
    "    print(\"Coordinate: Y\")\n",
    "    dy_pol = dpol_phi * dphidy + dpol_rad * drdy\n",
    "    ddy_pol = ddpol_phi * ddphidy + ddpol_rad * ddrdy + 2*dpol_phi*dphidy*dpol_rad*drdy\n",
    "    print(\"First:{}\\nSecond:{}\".format(dy_pol,ddy_pol))"
   ]
  },
  {
   "source": [
    "# Flow Fields for different Derivative Methods"
   ],
   "cell_type": "markdown",
   "metadata": {}
  },
  {
   "cell_type": "code",
   "execution_count": null,
   "metadata": {},
   "outputs": [],
   "source": [
    "from derivatives import *"
   ]
  },
  {
   "cell_type": "code",
   "execution_count": null,
   "metadata": {},
   "outputs": [],
   "source": [
    "data = q_avg"
   ]
  },
  {
   "cell_type": "code",
   "execution_count": null,
   "metadata": {},
   "outputs": [],
   "source": [
    "# gradient field for finite difference method\n",
    "finite_differences(mesh,data,fd=True,second=True)\n",
    "dx_fd = np.empty(n) \n",
    "dy_fd = np.empty(n)\n",
    "laplacian_fd = np.empty(n)\n",
    "for nod in mesh.nodes:\n",
    "    dx_fd[nod.index] = nod.dx\n",
    "    dy_fd[nod.index] = nod.dy\n",
    "    laplacian_fd[nod.index] = nod.laplacian"
   ]
  },
  {
   "cell_type": "code",
   "execution_count": null,
   "metadata": {},
   "outputs": [],
   "source": [
    "# gradient field for polynomial fitting method\n",
    "polynomial_derivatives(mesh,data,second=True)\n",
    "dx_pf = np.empty(n) \n",
    "dy_pf = np.empty(n)\n",
    "laplacian_pf = np.empty(n)\n",
    "for nod in mesh.nodes:\n",
    "    dx_pf[nod.index] = nod.dx\n",
    "    dy_pf[nod.index] = nod.dy\n",
    "    laplacian_pf[nod.index] = nod.laplacian"
   ]
  },
  {
   "cell_type": "code",
   "execution_count": null,
   "metadata": {},
   "outputs": [],
   "source": [
    "# gradient field for bilinear mapping method\n",
    "bilinear_derivatives(mesh,data)\n",
    "dx_bm = np.empty(N) \n",
    "dy_bm = np.empty(N)\n",
    "for cel in mesh.cells:\n",
    "    dx_bm[cel.index] = cel.dx\n",
    "    dy_bm[cel.index] = cel.dy"
   ]
  },
  {
   "cell_type": "code",
   "execution_count": null,
   "metadata": {},
   "outputs": [],
   "source": [
    "x = [nod.x for nod in mesh.nodes]\n",
    "y = [nod.y for nod in mesh.nodes]\n",
    "x_cell = [cel.center[0] for cel in mesh.cells]\n",
    "y_cell = [cel.center[1] for cel in mesh.cells]"
   ]
  },
  {
   "cell_type": "code",
   "execution_count": null,
   "metadata": {},
   "outputs": [],
   "source": [
    "plot_cylinder_data(x_cell,y_cell,dx_bm,zoom=True)"
   ]
  },
  {
   "cell_type": "code",
   "execution_count": null,
   "metadata": {},
   "outputs": [],
   "source": [
    "np.where(dx_bm==dx_bm.min())[0][0]"
   ]
  },
  {
   "cell_type": "code",
   "execution_count": null,
   "metadata": {},
   "outputs": [],
   "source": []
  }
 ],
 "metadata": {
  "kernelspec": {
   "name": "python3",
   "display_name": "Python 3.9.5 64-bit"
  },
  "language_info": {
   "codemirror_mode": {
    "name": "ipython",
    "version": 3
   },
   "file_extension": ".py",
   "mimetype": "text/x-python",
   "name": "python",
   "nbconvert_exporter": "python",
   "pygments_lexer": "ipython3",
   "version": "3.9.5"
  },
  "interpreter": {
   "hash": "5c2a26602e28ad08aeb3db5218c8af55fd3775ea6ffbecb1728e15703c31277b"
  }
 },
 "nbformat": 4,
 "nbformat_minor": 5
}