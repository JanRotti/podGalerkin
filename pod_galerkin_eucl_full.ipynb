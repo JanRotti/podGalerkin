{
 "cells": [
  {
   "cell_type": "code",
   "execution_count": null,
   "id": "5e163d35",
   "metadata": {},
   "outputs": [],
   "source": [
    "# standard imports\n",
    "import numpy as np\n",
    "import math\n",
    "import os\n",
    "import csv\n",
    "from tqdm import tqdm\n",
    "import meshio\n",
    "import matplotlib.pyplot as plt"
   ]
  },
  {
   "cell_type": "code",
   "execution_count": null,
   "id": "1ebadcd1",
   "metadata": {},
   "outputs": [],
   "source": [
    "# custom class imports\n",
    "from node import node\n",
    "from cell import cell\n",
    "from mesh import exp_mesh\n",
    "from derivatives import finite_differences,polynomial_derivatives\n",
    "from derivatives import bilinear_derivatives\n",
    "from isentropic_navier_stokes import Q,L,inner_product\n",
    "\n",
    "# utility functions\n",
    "from utilities_modified import *"
   ]
  },
  {
   "cell_type": "markdown",
   "id": "1028cb77",
   "metadata": {},
   "source": [
    "# Setting Problem"
   ]
  },
  {
   "cell_type": "code",
   "execution_count": null,
   "id": "91e34eea",
   "metadata": {},
   "outputs": [],
   "source": [
    "# read su2 mesh file\n",
    "meshio_mesh = meshio.read(\"./lam_cyl_comp_air/mesh_cylinder_quad.su2\",file_format=\"su2\")\n",
    "# define mid point for rotational symmetric mesh\n",
    "mid_point = np.array([0.5,0]) \n",
    "# convert mesh into custom class exp_mesh\n",
    "mesh = exp_mesh(meshio_mesh,mid_point)"
   ]
  },
  {
   "cell_type": "markdown",
   "id": "65c3e71d",
   "metadata": {},
   "source": [
    "# Loading Filedata"
   ]
  },
  {
   "cell_type": "code",
   "execution_count": null,
   "id": "ca9b34d9",
   "metadata": {},
   "outputs": [],
   "source": [
    "# reading file data\n",
    "data_dir=\"./lam_cyl_comp_air/mach 0.01/\"\n",
    "data_dict = read_csv_data(data_dir,delay=5000,subsampling=1,max_size=400) "
   ]
  },
  {
   "source": [
    "# Loading Filedata"
   ],
   "cell_type": "markdown",
   "metadata": {}
  },
  {
   "cell_type": "code",
   "execution_count": null,
   "metadata": {},
   "outputs": [],
   "source": [
    "x = data_dict[\"x\"][:,0] - 0.5\n",
    "y = data_dict[\"y\"][:,0]\n",
    "u = np.divide(data_dict['Momentum_x'],data_dict['Density'])\n",
    "v = np.divide(data_dict['Momentum_y'],data_dict['Density'])\n",
    "a = data_dict['Mach']\n",
    "n = len(x)"
   ]
  },
  {
   "source": [
    "# Geometric Constants"
   ],
   "cell_type": "markdown",
   "metadata": {}
  },
  {
   "cell_type": "code",
   "execution_count": null,
   "metadata": {},
   "outputs": [],
   "source": [
    "# DEFINING CONSTANTS\n",
    "n = mesh.n\n",
    "N = mesh.N\n",
    "alpha = 1 / 1.4\n",
    "method=\"fd\"\n",
    "gamma = 1.4"
   ]
  },
  {
   "cell_type": "code",
   "execution_count": null,
   "metadata": {},
   "outputs": [],
   "source": [
    "# node coordinates\n",
    "x_node = mesh.points[:,0]\n",
    "y_node = mesh.points[:,1]\n",
    "\n",
    "# cell center coordinates\n",
    "x_cell = np.empty(N)\n",
    "y_cell = np.empty(N)\n",
    "\n",
    "for cel in mesh.cells:\n",
    "    i = cel.index\n",
    "    [x_cell[i],y_cell[i]] = cel.center"
   ]
  },
  {
   "cell_type": "markdown",
   "id": "565c713d",
   "metadata": {},
   "source": [
    "# POD Decomposition"
   ]
  },
  {
   "cell_type": "code",
   "execution_count": null,
   "metadata": {},
   "outputs": [],
   "source": [
    "q = np.vstack([u,v,a])\n",
    "q_avg = np.mean(q,1)\n",
    "q_fluc = q - np.repeat(np.expand_dims(q_avg,1),q.shape[1],axis=1)\n",
    "q_fluc = q"
   ]
  },
  {
   "cell_type": "code",
   "execution_count": null,
   "metadata": {},
   "outputs": [],
   "source": [
    "U,S,Vh =  np.linalg.svd(q_fluc,full_matrices=False)\n",
    "\n",
    "epsilon = 0.97 # [0,1]\n",
    "acc = 0\n",
    "num = 0\n",
    "while acc < epsilon:\n",
    "    num+=1\n",
    "    acc = sum(S[:num])/sum(S)    \n",
    "print(\"Number of eigenvectors necessary for thresholded reconstruction: \\t\" + str(num))\n",
    "if num % 2 == 1:\n",
    "    num+=1\n",
    "\n",
    "num = 5"
   ]
  },
  {
   "cell_type": "code",
   "execution_count": null,
   "metadata": {},
   "outputs": [],
   "source": [
    "pod_modes = U"
   ]
  },
  {
   "cell_type": "code",
   "execution_count": null,
   "metadata": {},
   "outputs": [],
   "source": [
    "# incorrect because POD modes are not orthonormal in euclidean space but in problem space\n",
    "coeffs = np.matmul(np.linalg.pinv(pod_modes),q_fluc)"
   ]
  },
  {
   "cell_type": "code",
   "execution_count": null,
   "id": "7656d6c5",
   "metadata": {},
   "outputs": [],
   "source": [
    "plot_activations(coeffs,num)"
   ]
  },
  {
   "cell_type": "markdown",
   "id": "294e3296",
   "metadata": {},
   "source": [
    "## Galerkin System"
   ]
  },
  {
   "cell_type": "code",
   "execution_count": null,
   "id": "09fc0448",
   "metadata": {},
   "outputs": [],
   "source": [
    "method = \"fd\"\n",
    "output = \"node\"\n",
    "if output==\"cell\":\n",
    "    dim = N\n",
    "else:\n",
    "    dim = n\n",
    "\n",
    "\n",
    "# initialie arrays for parameters\n",
    "L1 = np.empty((num,num))\n",
    "L2 = np.empty((num,num))\n",
    "Q_ = np.array([np.empty((num,num)) for _ in range(num)])\n",
    "\n",
    "# pod basis for computation\n",
    "if output==\"cell\":\n",
    "    modes = np.empty((3*N,num))\n",
    "    for i in range(num):\n",
    "        modes[:N,i] = mesh.compute_cell_values_from_node_data(pod_modes[:n,i])\n",
    "        modes[N:2*N,i] = mesh.compute_cell_values_from_node_data(pod_modes[n:2*n,i])\n",
    "        modes[2*N:3*N,i] = mesh.compute_cell_values_from_node_data(pod_modes[2*n:3*n,i])\n",
    "else:\n",
    "    modes = pod_modes\n",
    "\n",
    "\n",
    "# compute L and Q operators for projectionW\n",
    "Q_tmp = np.empty((num,num,3*dim))\n",
    "L_tmp = np.empty((num,3*dim))\n",
    "\n",
    "for i in tqdm(range(num)):\n",
    "    L_tmp[i] = L(mesh,pod_modes[:,i],method=method,output=output)\n",
    "    for j in range(num):\n",
    "        Q_tmp[i,j,:] = Q(mesh,pod_modes[:,i],pod_modes[:,j],method=method,output=output)\n",
    "\n",
    "# compute ODE coefficients\n",
    "L1 = np.matmul(L_tmp,modes[:,:num])\n",
    "for i in range(num):\n",
    "    for j in range(num):\n",
    "        Q_[i,j,:] = np.matmul(modes[:,:num].T,Q_tmp[i,j])"
   ]
  },
  {
   "cell_type": "markdown",
   "id": "ffa6f20f",
   "metadata": {},
   "source": [
    "# Solving ODE system"
   ]
  },
  {
   "cell_type": "code",
   "execution_count": null,
   "id": "329f62eb",
   "metadata": {},
   "outputs": [],
   "source": [
    "# initial conditions for the activations are obtained as activations on the initial timeframe of the data matrix\n",
    "a0 = coeffs[:num,0] #initial conditions\n",
    "dt = 0.1\n",
    "t0 = 0\n",
    "tmax = 100\n",
    "sampling_span = np.linspace(t0,tmax-dt,num=int(tmax/dt))\n",
    "\n",
    "# static viscosity\n",
    "nu = 1.516e-5\n",
    "\n",
    "# defining ode function for node based coefficients\n",
    "def galerkin_system(t,a):\n",
    "    # set global variables references\n",
    "    global Q_, L1, nu, num\n",
    "    \n",
    "    a = np.expand_dims(a,1)\n",
    "    a_dot = np.empty_like(a)\n",
    "    \n",
    "    quad = np.zeros((num,1))\n",
    "\n",
    "    for k in range(a_dot.shape[0]):\n",
    "        quad[k] = np.matmul(np.matmul(a.T,np.array(Q_)[:,:,k]),a)  \n",
    "    a_dot = np.matmul((nu*L1),a) + quad\n",
    "    return a_dot.squeeze()"
   ]
  },
  {
   "cell_type": "code",
   "execution_count": null,
   "id": "34eb5962",
   "metadata": {
    "tags": []
   },
   "outputs": [],
   "source": [
    "from scipy.integrate import solve_ivp\n",
    "sol = solve_ivp(galerkin_system,(t0,tmax),a0,method='LSODA',t_eval=sampling_span)\n",
    "sol"
   ]
  },
  {
   "cell_type": "code",
   "execution_count": null,
   "id": "83f9a731",
   "metadata": {},
   "outputs": [],
   "source": [
    "plot_activations(sol.y,num)"
   ]
  },
  {
   "cell_type": "code",
   "execution_count": null,
   "metadata": {},
   "outputs": [],
   "source": []
  }
 ],
 "metadata": {
  "kernelspec": {
   "name": "python3",
   "display_name": "Python 3.9.5 64-bit"
  },
  "language_info": {
   "codemirror_mode": {
    "name": "ipython",
    "version": 3
   },
   "file_extension": ".py",
   "mimetype": "text/x-python",
   "name": "python",
   "nbconvert_exporter": "python",
   "pygments_lexer": "ipython3",
   "version": "3.9.5"
  },
  "interpreter": {
   "hash": "5c2a26602e28ad08aeb3db5218c8af55fd3775ea6ffbecb1728e15703c31277b"
  }
 },
 "nbformat": 4,
 "nbformat_minor": 5
}