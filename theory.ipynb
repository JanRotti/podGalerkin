{
 "cells": [
  {
   "cell_type": "markdown",
   "id": "21f98966",
   "metadata": {},
   "source": [
    "# Governing Equations"
   ]
  },
  {
   "cell_type": "markdown",
   "id": "88faf48d",
   "metadata": {},
   "source": [
    "<h3> Isentropic Navier-Stokes </h3><br>\n",
    "\\begin{align}\n",
    "    \\frac{\\partial u}{\\partial t} &= -u\\frac{\\partial u}{\\partial x}-v\\frac{\\partial u}{\\partial y}-\\frac{2\\alpha}{\\gamma - 1}a\\frac{\\partial a}{\\partial x}+ \\nu(\\frac{\\partial^2 u}{\\partial x^2}+\\frac{\\partial^2 u}{\\partial y^2}) \\\\\n",
    "    \\frac{\\partial v}{\\partial t} &= -u\\frac{\\partial v}{\\partial x}-v\\frac{\\partial v}{\\partial y}-\\frac{2\\alpha}{\\gamma - 1}a\\frac{\\partial a}{\\partial y}+ \\nu(\\frac{\\partial^2 v}{\\partial x^2}+\\frac{\\partial^2 v}{\\partial y^2})\\\\\n",
    "    \\frac{\\partial a}{\\partial t} &= -u\\frac{\\partial a}{\\partial x}-v\\frac{\\partial a}{\\partial y}-\\frac{\\gamma - 1}{2}a(\\frac{\\partial u}{\\partial x}+\\frac{\\partial v}{\\partial y})\n",
    "\\end{align}\n",
    "<br>\n",
    "This formulation is achieved usind the ideal gas relation $p = \\rho R T$, Gibbs equation $dh = T ds+dp/\\rho$ under $ds=0$ and the ideal gas relation for the local speed of sound $a^2= \\gamma p/\\rho = \\gamma R T =(\\gamma -1)h$."
   ]
  },
  {
   "source": [
    "<h3> Incompressible Navier-Stokes </h3><br>\n",
    "\\begin{align}\n",
    "    \\frac{\\partial u}{\\partial t} &= -u\\frac{\\partial u}{\\partial x}-v\\frac{\\partial u}{\\partial y}-\\frac{1}{\\rho}\\frac{\\partial p}{\\partial x}+\\nu(\\frac{\\partial^2 u}{\\partial x^2}+\\frac{\\partial^2 u}{\\partial y^2})\\\\\n",
    "    \\frac{\\partial v}{\\partial t} &= -u\\frac{\\partial v}{\\partial x}-v\\frac{\\partial v}{\\partial y}-\\frac{1}{\\rho}\\frac{\\partial p}{\\partial y}+ \\nu(\\frac{\\partial^2 v}{\\partial x^2}+\\frac{\\partial^2 v}{\\partial y^2})\\\\\n",
    "    -{1 \\over \\rho} \\left( {{\\partial^2 p} \\over {\\partial x^2}} + {{\\partial^2 p} \\over {\\partial y^2}} \\right) &=\n",
    " \\left( {{\\partial u} \\over {\\partial x}} \\right)^2 +\n",
    "2 {{\\partial u} \\over {\\partial y}} {{\\partial v} \\over {\\partial x}}+\n",
    "\\left( {{\\partial v} \\over {\\partial y}} \\right)^2\n",
    "\\end{align}\n",
    "\n",
    "The pressure is solved for with fixed values in each time step with a pressure Poisson equation such that continuity is ensured.\n",
    "\n"
   ],
   "cell_type": "markdown",
   "metadata": {}
  },
  {
   "source": [
    "The continuity equation<br>\n",
    "\\begin{align}\n",
    "\\frac{\\partial u}{\\partial x} + \\frac{\\partial v}{\\partial y} &= 0 \n",
    "\\end{align}"
   ],
   "cell_type": "markdown",
   "metadata": {}
  },
  {
   "cell_type": "markdown",
   "id": "31eafc13",
   "metadata": {},
   "source": [
    "# Inner Product for Projection\n",
    "Definition of standard inner product: <br>\n",
    "$$ \\langle q_1,q_2\\rangle = \\int_\\Omega (\\rho_1\\rho_2+u_1u_2+v_1v_2+p_1p_2)dV $$\n",
    "where $q=(\\rho,u,v,p)$. <br>\n",
    "Standard inner product: is unphysical here due to additon of velocities,pressure and density. Solution is to make values nondimensional or define different inner product. <br>\n",
    "Considering the isentropic compressible Navier-Stokes a suitable inne product definition is\n",
    "$$ \\langle q_1,q_2\\rangle = \\int_\\Omega (u_1u_2+v_1v_2+\\frac{2\\alpha}{\\gamma - 1}a_1a_2)dV $$\n",
    "where $q=(u,v,a)$ and $a^2=(\\gamma-1)h$ and $h = E * \\gamma$ with $E$ being the Energy and $\\gamma$ being the isentropic exponent (air: $\\gamma=1.4$). $\\alpha >0$ is a constant defining the physical interpretation of the norm. $\\alpha=1$ corresponds to using the integral of the stagnation integral as norm, $\\alpha = 1/\\gamma$ corresponds to using the stagnation energy as norm. The total energy integral is conserved in this formulation iff there is no energy flux through the boundary $\\Omega$.<br>\n",
    "> This is usually derived from the stagnation enthalpy\n",
    "> $$h_0=h+\\frac{1}{2}(u^2+v^2)$$\n",
    "> and the stagnation energy \n",
    "> $$e = E + \\frac{1}{2}(u^2+v^2)$$\n",
    "> where $E=h/\\gamma$ is the internal energy per unit mass."
   ]
  },
  {
   "cell_type": "markdown",
   "id": "e4bda380",
   "metadata": {},
   "source": [
    "# POD Decomposition\n",
    "The SVD of the vectorized state space gives the POD modes of $q$ as column vectors in $U$. The POD modes correspond to the decomposition:\n",
    "$$q(x,t)=\\bar{q}(x) + \\sum_{j=1}^nc_j(t)\\phi_j(x)$$"
   ]
  },
  {
   "cell_type": "markdown",
   "id": "81accaa4",
   "metadata": {},
   "source": [
    "The equations in $q =(u,v,a)$ take the form\n",
    "$$\\dot{q}=\\nu L(q)+ Q(q,q)$$\n",
    "where \n",
    "$$L(q)=\\begin{pmatrix} u_{xx}+u_{yy}\\\\v_{xx}+v_{yy} \\\\0 \\end{pmatrix}$$\n",
    "and\n",
    "$$ Q(q^1,q^2)= -\\begin{pmatrix} u^1u^2_x+v^1u^2_y+\\frac{2}{\\gamma -1}a^1a^2_x\\\\u^1v^2_x+v^1v^2_y+\\frac{2}{\\gamma -1}a^1a^2_y \\\\ u^1a^2_x+v^1a_y^2+\\frac{\\gamma -1}{2}a^1(u^2_x+v_y^2)\\end{pmatrix} $$\n",
    "The resulting Galerkin equations are given by\n",
    "$$\\dot a_k=\\nu b_k^1+b_k^2+\\sum_{i=1}^n(\\nu L_{ik}^1+L_{ik}^2)a_i+\\sum_{i,j=1}^n Q_{ijk}a_ia_j$$\n",
    "where the coefficients\n",
    "\\begin{align}\n",
    "b_k^1&=\\langle L(\\bar{q}),\\phi_k\\rangle \\\\\n",
    "b_k^2&=\\langle Q(\\bar{q},\\bar{q}),\\phi_k\\rangle \\\\\n",
    "L_{ik}^1 &= \\langle L(\\phi_i),\\phi_k\\rangle \\\\\n",
    "L_{ik}^2 &= \\langle Q(\\bar{q},\\phi_i)+Q(\\phi_i,\\bar{q}),\\phi_k\\rangle \\\\\n",
    "Q_{ijk}&=\\langle Q(\\phi_i,\\phi_j),\\phi_k \\rangle \n",
    "\\end{align}"
   ]
  },
  {
   "cell_type": "markdown",
   "id": "b770682a",
   "metadata": {},
   "source": [
    "# Computing Derivatives\n",
    "The derivatives of $\\frac{\\partial u}{\\partial x}$ can be written in terms of partial derivatives in cylinder coordinates as \n",
    "$$\\frac{\\partial}{\\partial x}= \\frac{\\partial}{\\partial \\phi}\\frac{\\partial \\phi}{\\partial x} + \\frac{\\partial}{\\partial r}\\frac{\\partial r}{\\partial x} $$ \n",
    "similarly for $\\frac{\\partial u}{\\partial y}$\n",
    "$$\\frac{\\partial}{\\partial y}= \\frac{\\partial}{\\partial \\phi}\\frac{\\partial \\phi}{\\partial y} + \\frac{\\partial}{\\partial r}\\frac{\\partial r}{\\partial y} $$\n",
    "Given the geometrical context of the cylinder coordinate transform\n",
    "$$\\phi = \\arctan\\frac{y}{x}$$\n",
    "$$r = \\sqrt{x^2+y^2}$$\n",
    "Some partial derivatives resolve easily\n",
    "$$\\frac{\\partial \\phi}{\\partial x} = -\\frac{y}{x^2+y^2}$$\n",
    "$$\\frac{\\partial \\phi}{\\partial y} = \\frac{x}{x^2+y^2}$$\n",
    "$$\\frac{\\partial r}{\\partial x} = \\frac{x}{\\sqrt{x^2+y^2}}$$\n",
    "$$\\frac{\\partial r}{\\partial y} = \\frac{y}{\\sqrt{x^2+y^2}}$$\n",
    "For the newly arising partial derivatives an easy to implement central differentiation scheme can be applied for the partial derivatives to $\\phi$ and $r$. The coordinate conversion is done accordingly. The advantage here is the simpler determination of neighboring nodes in radial and angular coordinates due the grid structure. In terms of grid quality equidistancy can be accepted in angular coordinates. In terms of radial coordinates the grid non-equidistant and not with equal ratios od radii cahnges s.t. a more elaborate implementation is needed by weighing the different values according to their distance to the calculation point.<br>\n",
    "The second partial derivatives are a bit more complicated due to mixed terms:\n",
    "$$\\frac{\\partial^2}{\\partial x^2} = \\frac{\\partial^2}{\\partial \\phi^2}\\frac{\\partial^2 \\phi}{\\partial x^2} + \\frac{\\partial^2}{\\partial r^2}\\frac{\\partial^2 r}{\\partial x^2} + 2 \\frac{\\partial}{\\partial \\phi}\\frac{\\partial \\phi}{\\partial x}\\frac{\\partial}{\\partial r}\\frac{\\partial r}{\\partial x}$$\n",
    "$$\\frac{\\partial^2}{\\partial y^2} = \\frac{\\partial^2}{\\partial \\phi^2}\\frac{\\partial^2 \\phi}{\\partial y^2} + \\frac{\\partial^2}{\\partial r^2}\\frac{\\partial^2 r}{\\partial y^2} + 2 \\frac{\\partial}{\\partial \\phi}\\frac{\\partial \\phi}{\\partial y}\\frac{\\partial}{\\partial r}\\frac{\\partial r}{\\partial y}$$\n",
    "Given the first derivatives the last terms does not pose a major issue here.  The second derivatives of the cylindrical coordinates are given by the geometric context as\n",
    "$$\\frac{\\partial^2 \\phi}{\\partial x^2} = \\frac{2yx}{(x^2+y^2)^2}$$\n",
    "$$\\frac{\\partial^2 \\phi}{\\partial y^2} = -\\frac{2yx}{(x^2+y^2)^2}$$\n",
    "$$\\frac{\\partial^2 r}{\\partial x^2} = \\frac{y^2}{(x^2+y^2)^\\frac{3}{2}}$$\n",
    "$$\\frac{\\partial^2 r}{\\partial y^2} = \\frac{x^2}{(x^2+y^2)^\\frac{3}{2}}$$\n",
    "<br>\n",
    "The second derivatives with respect to the cylindrical coordinates are determined by a central difference method for the second partial derivatives.\n",
    "For the consideration at the radial boundaries an according forward and backward differentiation scheme was  deployed depending on outer or inner boundary."
   ]
  },
  {
   "cell_type": "markdown",
   "id": "2fe43e6e",
   "metadata": {},
   "source": [
    "# Numerical Integration"
   ]
  },
  {
   "cell_type": "markdown",
   "id": "6cef086d",
   "metadata": {},
   "source": [
    "Given the inner product formulation \n",
    "$$ \\langle q_1,q_2\\rangle = \\int_\\Omega (u_1u_2+v_1v_2+\\frac{2\\alpha}{\\gamma - 1}a_1a_2)dV $$\n",
    "and the discrete nodal values of the finite element mesh one can discretize the integration as\n",
    "$$ \\langle q_1,q_2\\rangle = \\sum_{i=0}^{N} (u_1u_2+v_1v_2+\\frac{2\\alpha}{\\gamma - 1}a_1a_2) dv_i $$\n",
    "where $dv_i$ is the volume of a cell spanned by a fixed number of nodes and $u_1, u_2 ...$ are the cell centered values of the inputs $q_1$ and $q_2$. "
   ]
  },
  {
   "cell_type": "code",
   "execution_count": null,
   "id": "375a3c7a",
   "metadata": {},
   "outputs": [],
   "source": []
  }
 ],
 "metadata": {
  "kernelspec": {
   "display_name": "Python 3",
   "language": "python",
   "name": "python3"
  },
  "language_info": {
   "codemirror_mode": {
    "name": "ipython",
    "version": 3
   },
   "file_extension": ".py",
   "mimetype": "text/x-python",
   "name": "python",
   "nbconvert_exporter": "python",
   "pygments_lexer": "ipython3",
   "version": "3.8.5"
  }
 },
 "nbformat": 4,
 "nbformat_minor": 5
}